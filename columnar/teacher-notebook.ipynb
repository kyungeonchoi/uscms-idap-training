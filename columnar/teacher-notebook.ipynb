{
 "cells": [
  {
   "cell_type": "markdown",
   "id": "59147d08-51ce-4159-9abd-651f81c3b75c",
   "metadata": {},
   "source": [
    "# Columnar analysis and Awkward Array"
   ]
  },
  {
   "cell_type": "markdown",
   "id": "a6fe4cfa-a3d0-4da6-a2de-1395c916b4ee",
   "metadata": {},
   "source": [
    "<br><br><br>"
   ]
  },
  {
   "cell_type": "markdown",
   "id": "9783cb5c-facc-4e0d-a383-0a4aca94651c",
   "metadata": {
    "jp-MarkdownHeadingCollapsed": true
   },
   "source": [
    "## Introduction"
   ]
  },
  {
   "cell_type": "markdown",
   "id": "03f041fa-ae7b-4f63-8d28-e8e1a8178f9b",
   "metadata": {},
   "source": [
    "<b>\"Columnar\" is a term that tends to get overloaded, and I’ve used it in two distinct ways:</b>\n",
    "\n",
    "* <b>Data layout:</b> organizing data in memory or on disk to enable faster, selective readout. (In fact, some types of TTree data have been stored this way since 1995.)\n",
    "* <b>Array-oriented computation:</b> performing operations directly on entire arrays of data, rather than processing one value at a time in a loop. In other words — _no for loops_!\n",
    "\n",
    "Of these, <b>only the second meaning directly affects physicists writing analysis code</b>.\n",
    "\n",
    "That’s why I prefer to call it <b>\"array-oriented programming\"</b> — it’s a programming paradigm, much like \"imperative\" or \"functional,\" describing _how you think about and organize your code_."
   ]
  },
  {
   "cell_type": "markdown",
   "id": "81b8fc79-7d09-434d-820c-ab617b78cf52",
   "metadata": {},
   "source": [
    "<br><br><br>"
   ]
  },
  {
   "cell_type": "markdown",
   "id": "0071a32b-27c5-424a-950f-ae05658f1bd7",
   "metadata": {
    "jp-MarkdownHeadingCollapsed": true
   },
   "source": [
    "### Easy example of imperative, functional, and array-oriented"
   ]
  },
  {
   "cell_type": "markdown",
   "id": "b819e8de-40a5-4b89-8fdf-c07b247ae525",
   "metadata": {},
   "source": [
    "Compute the square of every element in a list/array."
   ]
  },
  {
   "cell_type": "markdown",
   "id": "bcf67389-3ec3-4982-8372-f4546b6bc331",
   "metadata": {},
   "source": [
    "<br><br><br>"
   ]
  },
  {
   "cell_type": "markdown",
   "id": "dcf0790c-d914-416e-8d08-0af148ed0502",
   "metadata": {
    "jp-MarkdownHeadingCollapsed": true
   },
   "source": [
    "#### Imperative"
   ]
  },
  {
   "cell_type": "code",
   "execution_count": null,
   "id": "fa7a8088-4cec-4408-98b0-6e278507db0e",
   "metadata": {},
   "outputs": [],
   "source": [
    "original = [1, 2, 3, 4, 5, 6, 7, 8, 9, 10]\n",
    "\n",
    "result = []\n",
    "for x in original:\n",
    "    result.append(x**2)\n",
    "\n",
    "result"
   ]
  },
  {
   "cell_type": "markdown",
   "id": "1b9078a9-c978-4c66-bb3c-061663ac3616",
   "metadata": {},
   "source": [
    "<br><br><br>"
   ]
  },
  {
   "cell_type": "markdown",
   "id": "13089810-a60c-4e75-b355-f03b572397a2",
   "metadata": {
    "jp-MarkdownHeadingCollapsed": true
   },
   "source": [
    "#### Functional"
   ]
  },
  {
   "cell_type": "code",
   "execution_count": null,
   "id": "8069234d-c088-4831-afbc-b3ca3aa246da",
   "metadata": {},
   "outputs": [],
   "source": [
    "original = [1, 2, 3, 4, 5, 6, 7, 8, 9, 10]\n",
    "\n",
    "result = list(map(lambda x: x**2, original))\n",
    "\n",
    "result"
   ]
  },
  {
   "cell_type": "markdown",
   "id": "19cd0449-e9f8-4b9d-8e9e-fc863f4659a5",
   "metadata": {},
   "source": [
    "Functional programming with `map` isn't common in Python, but list comprehensions are pretty close to the \"spirit\" of functional programming:"
   ]
  },
  {
   "cell_type": "code",
   "execution_count": null,
   "id": "39093afc-403a-4d71-aea6-972a743ad85c",
   "metadata": {},
   "outputs": [],
   "source": [
    "original = [1, 2, 3, 4, 5, 6, 7, 8, 9, 10]\n",
    "\n",
    "result = [x**2 for x in original]\n",
    "\n",
    "result"
   ]
  },
  {
   "cell_type": "markdown",
   "id": "14788d8f-c260-479d-a507-f2a25843cf9a",
   "metadata": {},
   "source": [
    "<br><br><br>"
   ]
  },
  {
   "cell_type": "markdown",
   "id": "d24db4bc-4df2-4965-859a-6906e12cb02c",
   "metadata": {
    "jp-MarkdownHeadingCollapsed": true
   },
   "source": [
    "#### Array-oriented"
   ]
  },
  {
   "cell_type": "code",
   "execution_count": null,
   "id": "f66a04e2-7d5c-43ee-b276-525d56ca41bc",
   "metadata": {},
   "outputs": [],
   "source": [
    "import numpy as np"
   ]
  },
  {
   "cell_type": "code",
   "execution_count": null,
   "id": "69481b80-67bc-4510-980f-7f0b75e1f314",
   "metadata": {},
   "outputs": [],
   "source": [
    "original = np.array([1, 2, 3, 4, 5, 6, 7, 8, 9, 10])\n",
    "\n",
    "result = original**2\n",
    "\n",
    "result"
   ]
  },
  {
   "cell_type": "markdown",
   "id": "fa9f3b65-92c3-45f3-a442-2a6d00222f63",
   "metadata": {},
   "source": [
    "<br><br><br>"
   ]
  },
  {
   "cell_type": "markdown",
   "id": "38c5b36d-d280-46fe-a388-254f9f33e899",
   "metadata": {
    "jp-MarkdownHeadingCollapsed": true
   },
   "source": [
    "### Hard example of imperative, functional, and array-oriented"
   ]
  },
  {
   "cell_type": "markdown",
   "id": "defbf97e-cb67-4867-9c47-88f0d6112f40",
   "metadata": {},
   "source": [
    "Compute gravitational forces among $n$ particles in 3 dimensions."
   ]
  },
  {
   "cell_type": "markdown",
   "id": "38dcbd46-cc1a-44ce-88ef-6fb12d5ef7f1",
   "metadata": {
    "jp-MarkdownHeadingCollapsed": true
   },
   "source": [
    "#### Newton’s Law of Universal Gravitation"
   ]
  },
  {
   "cell_type": "markdown",
   "id": "4b6321d6-8ef6-47f3-aa80-b252fa05c677",
   "metadata": {},
   "source": [
    "The gravitational force between two point masses $m_1$ and $m_2$ separated by a distance $r$ is given by:\n",
    "\n",
    "$$\n",
    "\\vec{F} = G \\frac{m_1 m_2}{r^2} \\hat{r}\n",
    "$$\n",
    "\n",
    "Where:\n",
    "\n",
    "* $\\vec{F}$ is the gravitational force vector (Newtons)\n",
    "* $G$ is the gravitational constant\n",
    "* $m_1, m_2$ are the masses of the two objects\n",
    "* $r$ is the distance between their centers\n",
    "* $\\hat{r}$ is the unit vector pointing from one mass to the other\n",
    "\n",
    "In component form for positions $\\vec{x}_i$ and $\\vec{x}_j$:\n",
    "\n",
    "$$\n",
    "\\vec{F}_{ij} = G \\frac{m_i m_j}{|\\vec{r}_{ij}|^3} \\vec{r}_{ij}\n",
    "$$\n",
    "\n",
    "with\n",
    "\n",
    "$$\n",
    "\\vec{r}_{ij} = \\vec{x}_j - \\vec{x}_i\n",
    "$$\n"
   ]
  },
  {
   "cell_type": "markdown",
   "id": "281f7d03-5fe7-4cf6-b2a1-670bc73e4f07",
   "metadata": {},
   "source": [
    "<br><br><br>"
   ]
  },
  {
   "cell_type": "code",
   "execution_count": null,
   "id": "4667e37b-f66b-4962-b4f3-0df78619012a",
   "metadata": {},
   "outputs": [],
   "source": [
    "m = np.array([100, 1, 1])   # sun and a double-planet (a 3-body problem)\n",
    "\n",
    "# initial position (x) and momentum (p)\n",
    "x = np.array([[0, 0, 0], [0, 0.9, 0], [0, 1.1, 0]])\n",
    "p = np.array([[0, 0, 0], [-13, 0, 0], [-10, 0, 0]])\n",
    "\n",
    "G = 1"
   ]
  },
  {
   "cell_type": "markdown",
   "id": "9e1761eb-795a-4a3e-9be9-a19d09ae27b4",
   "metadata": {},
   "source": [
    "<br><br><br>"
   ]
  },
  {
   "cell_type": "markdown",
   "id": "07f8eee3-a28c-4fb7-97f1-4bb40761df89",
   "metadata": {
    "jp-MarkdownHeadingCollapsed": true
   },
   "source": [
    "#### Imperative"
   ]
  },
  {
   "cell_type": "code",
   "execution_count": null,
   "id": "83356175-f47f-48be-9c2c-a4ca41fc590f",
   "metadata": {},
   "outputs": [],
   "source": [
    "def imperative_forces(m, x, p):\n",
    "    # Initialize total force array with zeros, same shape as positions array x\n",
    "    total_force = np.zeros_like(x)\n",
    "\n",
    "    # Loop over each unique pair of particles (i, j) where i < j\n",
    "    for i in range(len(x)):\n",
    "        for j in range(i + 1, len(x)):\n",
    "            \n",
    "            # i != j check is redundant here but kept for clarity\n",
    "            if i != j:\n",
    "                \n",
    "                # Extract masses of the two particles\n",
    "                mi, mj = m[i], m[j]\n",
    "                \n",
    "                # Extract positions of the two particles\n",
    "                xi, xj = x[i], x[j]\n",
    "                \n",
    "                # Compute displacement vector from particle i to particle j\n",
    "                displacement = [\n",
    "                    xj[0] - xi[0],\n",
    "                    xj[1] - xi[1],\n",
    "                    xj[2] - xi[2],\n",
    "                ]\n",
    "                \n",
    "                # Compute Euclidean distance between the two particles\n",
    "                distance = np.sqrt(displacement[0]**2 + displacement[1]**2 + displacement[2]**2)\n",
    "                \n",
    "                # Compute unit vector (direction) from particle i to particle j\n",
    "                direction = [\n",
    "                    displacement[0] / distance,\n",
    "                    displacement[1] / distance,\n",
    "                    displacement[2] / distance,\n",
    "                ]\n",
    "\n",
    "                # Calculate gravitational force magnitude and vector components\n",
    "                # Newton's law of gravitation: F = G * m_i * m_j / r^2 * direction\n",
    "                force = [\n",
    "                    G * mi * mj * direction[0] / distance**2,\n",
    "                    G * mi * mj * direction[1] / distance**2,\n",
    "                    G * mi * mj * direction[2] / distance**2,\n",
    "                ]\n",
    "\n",
    "                # Add the force to particle i (towards particle j)\n",
    "                total_force[i, 0] += force[0]\n",
    "                total_force[i, 1] += force[1]\n",
    "                total_force[i, 2] += force[2]\n",
    "\n",
    "                # Subtract the force from particle j (equal and opposite reaction)\n",
    "                total_force[j, 0] += -force[0]\n",
    "                total_force[j, 1] += -force[1]\n",
    "                total_force[j, 2] += -force[2]\n",
    "\n",
    "    # Return the array of total forces on each particle\n",
    "    return total_force"
   ]
  },
  {
   "cell_type": "markdown",
   "id": "052f9d11-db01-4bac-b48f-6fcbb56b92c7",
   "metadata": {},
   "source": [
    "<br><br><br>"
   ]
  },
  {
   "cell_type": "markdown",
   "id": "d31f9300-ae3e-4fab-87a2-0dda183a1f07",
   "metadata": {
    "jp-MarkdownHeadingCollapsed": true
   },
   "source": [
    "#### Functional"
   ]
  },
  {
   "cell_type": "code",
   "execution_count": null,
   "id": "9414bd2f-0fe6-4a45-8bb1-cf39b63b96ef",
   "metadata": {},
   "outputs": [],
   "source": [
    "from functools import reduce\n",
    "from itertools import combinations"
   ]
  },
  {
   "cell_type": "code",
   "execution_count": null,
   "id": "6a3899a7-2c02-444a-a5e6-bb244dc38157",
   "metadata": {},
   "outputs": [],
   "source": [
    "def functional_forces(m, x, p):\n",
    "    def negate(vector):\n",
    "        # Negate each component of the vector\n",
    "        return [-a for a in vector]\n",
    "\n",
    "    def add(*vectors):\n",
    "        # Component-wise sum of multiple vectors\n",
    "        return [reduce(lambda a, b: a + b, components) for components in zip(*vectors)]\n",
    "\n",
    "    def subtract(vectorA, vectorB):\n",
    "        # Vector subtraction: vectorA - vectorB\n",
    "        return add(vectorA, negate(vectorB))\n",
    "\n",
    "    def magnitude(vector):\n",
    "        # Euclidean norm of the vector\n",
    "        return np.sqrt(reduce(lambda a, b: a + b, map(lambda a: a**2, vector)))\n",
    "\n",
    "    def force(mi, mj, xi, xj, pi, pj):\n",
    "        # Calculate gravitational force vector exerted by j on i\n",
    "        displacement = subtract(xj, xi)  # Note: corrected displacement to point i->j\n",
    "        distance = magnitude(displacement)\n",
    "        direction = [a / distance for a in displacement]\n",
    "        return [G * mi * mj * a / distance**2 for a in direction]\n",
    "\n",
    "    # Generate all unique pairs of particles and their forces\n",
    "    pairwise_forces = [\n",
    "        ((i, j), force(mi, mj, xi, xj, pi, pj))\n",
    "        for ((i, (mi, xi, pi)), (j, (mj, xj, pj))) in combinations(enumerate(zip(m, x, p)), 2)\n",
    "    ]\n",
    "\n",
    "    def partial_forces(pairwise_forces, i):\n",
    "        # Collect all forces acting on particle i\n",
    "        return (\n",
    "            [force for ((a, b), force) in pairwise_forces if b == i] +        # force from j->i\n",
    "            [negate(force) for ((a, b), force) in pairwise_forces if a == i]  # equal and opposite force from i->j\n",
    "        )\n",
    "\n",
    "    # Sum all partial forces for each particle and return as numpy array\n",
    "    return np.array([add(*partial_forces(pairwise_forces, i)) for i in range(len(m))])"
   ]
  },
  {
   "cell_type": "markdown",
   "id": "25ed891c-e0f0-4477-be81-be55319f4d38",
   "metadata": {},
   "source": [
    "<br><br><br>"
   ]
  },
  {
   "cell_type": "markdown",
   "id": "ddf02d35-9a9c-4be1-8fa2-7177b4c5e554",
   "metadata": {
    "jp-MarkdownHeadingCollapsed": true
   },
   "source": [
    "#### Array-oriented"
   ]
  },
  {
   "cell_type": "code",
   "execution_count": null,
   "id": "da3160cf-c7fa-4c9a-baf2-03c260e74679",
   "metadata": {},
   "outputs": [],
   "source": [
    "def array_forces(m, x, p):\n",
    "    # Get the indices of the upper triangle of the pairwise interaction matrix (i < j)\n",
    "    # This ensures each pair is considered only once (no double counting)\n",
    "    i, j = np.triu_indices(len(x), k=1)\n",
    "\n",
    "    # Calculate displacement vectors between pairs of particles (j - i)\n",
    "    pw_displacement = x[j] - x[i]\n",
    "\n",
    "    # Compute the Euclidean distance between particle pairs\n",
    "    # Sum of squared components followed by square root gives distance\n",
    "    pw_distance = np.sqrt(np.sum(pw_displacement**2, axis=-1))\n",
    "\n",
    "    # Calculate the unit direction vectors from particle i to particle j\n",
    "    # Divide displacement vector by distance to normalize\n",
    "    pw_direction = pw_displacement / pw_distance[:, np.newaxis]\n",
    "\n",
    "    # Calculate the gravitational force vector for each pair using Newton's law of gravitation:\n",
    "    # F = G * m_i * m_j / r^2 * direction\n",
    "    # The [:, np.newaxis] adds a new axis for broadcasting over x,y,z components\n",
    "    pw_force = G * m[i, np.newaxis] * m[j, np.newaxis] * pw_direction / pw_distance[:, np.newaxis]**2\n",
    "\n",
    "    # Initialize array to accumulate total forces on each particle (same shape as x)\n",
    "    total_force = np.zeros_like(x)\n",
    "\n",
    "    # Add force vectors to particle i's total force\n",
    "    np.add.at(total_force, i, pw_force)\n",
    "\n",
    "    # Subtract equal and opposite force vectors from particle j's total force\n",
    "    # This enforces Newton's third law: action = -reaction\n",
    "    np.add.at(total_force, j, -pw_force)\n",
    "\n",
    "    # Return the total forces acting on all particles\n",
    "    return total_force"
   ]
  },
  {
   "cell_type": "markdown",
   "id": "7de4ce74-371c-4944-9b91-8b2b14ef4e6c",
   "metadata": {},
   "source": [
    "<br><br><br>"
   ]
  },
  {
   "cell_type": "code",
   "execution_count": null,
   "id": "a5c19b2d-7b31-470a-b114-1b73b98048d2",
   "metadata": {},
   "outputs": [],
   "source": [
    "imperative_forces(m, x, p)"
   ]
  },
  {
   "cell_type": "code",
   "execution_count": null,
   "id": "1616b1f3-84a1-4ab1-828f-03ca0e7e833c",
   "metadata": {},
   "outputs": [],
   "source": [
    "functional_forces(m, x, p)"
   ]
  },
  {
   "cell_type": "code",
   "execution_count": null,
   "id": "db9fe607-79da-4349-afd8-acc65ecedc0e",
   "metadata": {},
   "outputs": [],
   "source": [
    "array_forces(m, x, p)"
   ]
  },
  {
   "cell_type": "markdown",
   "id": "80bf7393-f3fd-4d06-a484-8db74db2f1d3",
   "metadata": {},
   "source": [
    "<br><br><br>"
   ]
  },
  {
   "cell_type": "markdown",
   "id": "cb9d02e5-2821-4d3c-a483-6996832da29e",
   "metadata": {
    "jp-MarkdownHeadingCollapsed": true
   },
   "source": [
    "#### Let's see it!"
   ]
  },
  {
   "cell_type": "code",
   "execution_count": null,
   "id": "3b509b7d-fe6d-4188-a087-d30df0a459e3",
   "metadata": {},
   "outputs": [],
   "source": [
    "import matplotlib.pyplot as plt\n",
    "from matplotlib import animation\n",
    "from IPython.display import HTML"
   ]
  },
  {
   "cell_type": "code",
   "execution_count": null,
   "id": "be77d6f1-fb94-47e6-905f-73d9cfaa9c5a",
   "metadata": {},
   "outputs": [],
   "source": [
    "def array_step(m, x, p, dt):\n",
    "    # this is a numerically stable way of updating positions, momenta, and forces\n",
    "    p += array_forces(m, x, p) * (dt/2)    # half kick\n",
    "    x += p * dt / m[:, np.newaxis]         # full drift\n",
    "    p += array_forces(m, x, p) * (dt/2)    # half kick"
   ]
  },
  {
   "cell_type": "code",
   "execution_count": null,
   "id": "dfe62bd9-539a-4498-8248-30b89971b07d",
   "metadata": {},
   "outputs": [],
   "source": [
    "def plot(m, x, p, dt, num_frames=100, steps_per_frame=10):\n",
    "    num_particles = len(m)  # Number of particles\n",
    "\n",
    "    # Allocate an empty array to store particle positions over time\n",
    "    # Shape: (num_frames, num_particles, 2) for 2D positions (x, y)\n",
    "    history = np.empty((num_frames, num_particles, 2))\n",
    "    \n",
    "    # Simulate and record positions at each frame\n",
    "    for i in range(num_frames):\n",
    "        # Save current x positions for all particles\n",
    "        history[i, :, 0] = x[:, 0]\n",
    "        # Save current y positions for all particles\n",
    "        history[i, :, 1] = x[:, 1]\n",
    "\n",
    "        # Advance simulation by 'steps_per_frame' small steps between frames\n",
    "        for _ in range(steps_per_frame):\n",
    "            array_step(m, x, p, dt)  # Update positions and momenta in place\n",
    "\n",
    "    # Set up the plotting figure and axis with fixed size\n",
    "    fig, ax = plt.subplots(figsize=(5, 5))\n",
    "\n",
    "    lines = []\n",
    "    # Initialize empty trajectory lines for each particle\n",
    "    for j in range(num_particles):\n",
    "        # Plot initial line segment (single point for now) for each particle\n",
    "        line, = ax.plot(history[:1, j, 0], history[:1, j, 1])\n",
    "        lines.append(line)\n",
    "\n",
    "    # Plot particles as scatter points at initial positions\n",
    "    dots = ax.scatter(history[0, :, 0], history[0, :, 1])\n",
    "\n",
    "    # Fix axis limits to keep view constant during animation\n",
    "    ax.set_xlim(-2, 2)\n",
    "    ax.set_ylim(-2, 2)\n",
    "\n",
    "    # Define update function called at each animation frame\n",
    "    def update(i):\n",
    "        # Update trajectory lines to show all positions up to frame i\n",
    "        for j, line in enumerate(lines):\n",
    "            line.set_xdata(history[:i, j, 0])\n",
    "            line.set_ydata(history[:i, j, 1])\n",
    "        # Update scatter plot positions to frame i positions\n",
    "        dots.set_offsets(history[i, :, :])\n",
    "        # Return updated artists for blitting (efficient redraw)\n",
    "        return [*lines, dots]\n",
    "\n",
    "    # Create animation object\n",
    "    ani = animation.FuncAnimation(\n",
    "        fig=fig,          # Figure to animate\n",
    "        func=update,      # Update function called each frame\n",
    "        frames=num_frames, # Total number of frames\n",
    "        interval=50,      # Delay between frames in milliseconds\n",
    "        blit=True         # Use blitting for performance\n",
    "    )\n",
    "    \n",
    "    # Convert animation to HTML5 format for display (e.g., in Jupyter)\n",
    "    out = HTML(ani.to_jshtml())\n",
    "    \n",
    "    # Close figure to avoid duplicate static plot display\n",
    "    plt.close()\n",
    "    \n",
    "    # Return HTML animation object for display\n",
    "    return out"
   ]
  },
  {
   "cell_type": "code",
   "execution_count": null,
   "id": "6e1b954a-651e-4bda-b693-b100ec6244ad",
   "metadata": {},
   "outputs": [],
   "source": [
    "m = np.array([100, 1, 1], np.float64)\n",
    "x = np.array([[0, 0, 0], [0, 0.9, 0], [0, 1.1, 0]], np.float64)\n",
    "p = np.array([[0, 0, 0], [-13, 0, 0], [-10, 0, 0]], np.float64)\n",
    "\n",
    "plot(m, x, p, dt=0.001)"
   ]
  },
  {
   "cell_type": "code",
   "execution_count": null,
   "id": "e74b130e-2d71-4e00-9552-2999afdcfc1c",
   "metadata": {},
   "outputs": [],
   "source": [
    "# Define momentum components (velocity * mass) for particles 0 and 1\n",
    "a = 0.347111\n",
    "b = 0.532728\n",
    "\n",
    "# Mass array for 3 particles, all unit mass\n",
    "m = np.array([1, 1, 1], np.float64)\n",
    "\n",
    "# Initial positions of particles in 3D space\n",
    "# Particle 0 at (-1, 0, 0)\n",
    "# Particle 1 at (1, 0, 0)\n",
    "# Particle 2 at origin (0, 0, 0)\n",
    "x = np.array([[-1, 0, 0], [1, 0, 0], [0, 0, 0]], np.float64)\n",
    "\n",
    "# Initial momenta of particles (momentum = mass * velocity)\n",
    "# Particles 0 and 1 have the same momentum vector (a, b, 0)\n",
    "# Particle 2 has momentum exactly opposite to the sum of the other two,\n",
    "# ensuring total momentum sums to zero (momentum conservation)\n",
    "p = np.array([\n",
    "    [a, b, 0],       # Particle 0\n",
    "    [a, b, 0],       # Particle 1\n",
    "    [-2 * a, -2 * b, 0]  # Particle 2\n",
    "], np.float64)\n",
    "\n",
    "# Run simulation and plot particle trajectories with timestep dt=0.01\n",
    "plot(m, x, p, dt=0.01)"
   ]
  },
  {
   "cell_type": "code",
   "execution_count": null,
   "id": "c50f3084-370b-4ae4-b787-70589ec27821",
   "metadata": {},
   "outputs": [],
   "source": [
    "# Create an array of masses for 25 particles, all with mass = 1\n",
    "m = np.ones(25)\n",
    "\n",
    "# Initialize positions of 25 particles randomly in 3D space\n",
    "# Each coordinate is drawn from a normal distribution with mean=0 and std=1\n",
    "x = np.random.normal(0, 1, (25, 3))\n",
    "\n",
    "# Initialize momenta of 25 particles randomly in 3D\n",
    "# Each component drawn from normal distribution with mean=0 and std=1\n",
    "p = np.random.normal(0, 1, (25, 3))\n",
    "\n",
    "# Run simulation and animate particle trajectories with a timestep of 0.0025\n",
    "plot(m, x, p, dt=0.0025)"
   ]
  },
  {
   "cell_type": "markdown",
   "id": "9de9d069-a3e8-45a2-9900-bf0224025c73",
   "metadata": {},
   "source": [
    "<br><br><br>"
   ]
  },
  {
   "cell_type": "markdown",
   "id": "08747c2b-6325-4417-9a30-b43105d8eebf",
   "metadata": {
    "jp-MarkdownHeadingCollapsed": true
   },
   "source": [
    "#### Let's time it!"
   ]
  },
  {
   "cell_type": "code",
   "execution_count": null,
   "id": "83f8b420-2464-4dc3-8e1e-b0c8a75a517a",
   "metadata": {},
   "outputs": [],
   "source": [
    "m = np.ones(500)\n",
    "x = np.random.normal(0, 1, (500, 3))\n",
    "p = np.random.normal(0, 1, (500, 3))"
   ]
  },
  {
   "cell_type": "code",
   "execution_count": null,
   "id": "9e97bd0d-593f-47c8-be41-6f1f0f919f5a",
   "metadata": {},
   "outputs": [],
   "source": [
    "%%timeit -n1 -r1\n",
    "\n",
    "imperative_forces(m, x, p)"
   ]
  },
  {
   "cell_type": "code",
   "execution_count": null,
   "id": "d638b796-40f2-4ce2-98d8-6213d5b5e669",
   "metadata": {},
   "outputs": [],
   "source": [
    "%%timeit -n1 -r1\n",
    "\n",
    "functional_forces(m, x, p)"
   ]
  },
  {
   "cell_type": "code",
   "execution_count": null,
   "id": "4612aa7e-5400-4241-9f2d-360a87596655",
   "metadata": {},
   "outputs": [],
   "source": [
    "%%timeit -n1 -r1\n",
    "\n",
    "array_forces(m, x, p)"
   ]
  },
  {
   "cell_type": "code",
   "execution_count": null,
   "id": "486b4e83-503d-424e-b5a6-b7db6d9ebb67",
   "metadata": {},
   "outputs": [],
   "source": [
    "import dis\n",
    "\n",
    "disassembled = dis.Bytecode(imperative_forces)\n",
    "instructions = list(disassembled)\n",
    "print(f\"Number of bytecode instructions: {len(instructions)}\")"
   ]
  },
  {
   "cell_type": "code",
   "execution_count": null,
   "id": "83fe05a1-3f71-4434-9bb7-8a5ab2a7f044",
   "metadata": {},
   "outputs": [],
   "source": [
    "disassembled = dis.Bytecode(functional_forces)\n",
    "instructions = list(disassembled)\n",
    "print(f\"Number of bytecode instructions: {len(instructions)}\")"
   ]
  },
  {
   "cell_type": "code",
   "execution_count": null,
   "id": "588a6f08-1ca0-43b9-858c-5ad4152d388c",
   "metadata": {},
   "outputs": [],
   "source": [
    "disassembled = dis.Bytecode(array_forces)\n",
    "instructions = list(disassembled)\n",
    "print(f\"Number of bytecode instructions: {len(instructions)}\")"
   ]
  },
  {
   "cell_type": "markdown",
   "id": "2ad729d9-df0f-4238-8fc6-70f01ad17b96",
   "metadata": {},
   "source": [
    "<br><br><br>"
   ]
  },
  {
   "cell_type": "markdown",
   "id": "065d55e1-a90c-4e1d-938c-0a060e348843",
   "metadata": {},
   "source": [
    "In Python, array-oriented programming is a big advantage because it avoids Python's overhead (virtual machine, dynamic data types, garbage collection, etc).\n",
    "\n",
    "* In `imperative_forces`, each of the 500 × 499 pairs of particles has to step through 30 lines of Python code (234 byte-code instructions).\n",
    "* In `functional_forces`, each of the 500 × 499 pairs of particles has to step through functions that add up to 24 lines of Python code (137 byte-code instructions), plus call-stack overhead.\n",
    "* `array_forces` has 10 lines of Python code (88 byte-code instructions), but the Python virtual machine steps through them only once, _not once per pair of particles_."
   ]
  },
  {
   "cell_type": "markdown",
   "id": "1ae0d200-11b5-4de1-b61d-ee7995ad7dff",
   "metadata": {},
   "source": [
    "<br><br><br>"
   ]
  },
  {
   "cell_type": "markdown",
   "id": "590654c6-6c31-4995-9d61-360d7a9f49dd",
   "metadata": {},
   "source": [
    "This is also relevant for GPU programming.\n",
    "\n",
    "To get the most performance out of GPU programming frameworks like CUDA, you need to arrange the computation as array-at-a-time and think about vectorization."
   ]
  },
  {
   "cell_type": "markdown",
   "id": "351a46ce-5721-4246-9b11-b5538f1538be",
   "metadata": {},
   "source": [
    "<br><br><br>"
   ]
  },
  {
   "cell_type": "markdown",
   "id": "c814b0ca-7f9b-4acc-b52e-5e900f44e775",
   "metadata": {
    "jp-MarkdownHeadingCollapsed": true
   },
   "source": [
    "### What if imperative code is easier to reason about?"
   ]
  },
  {
   "cell_type": "markdown",
   "id": "04df81d5-9f54-4586-8860-3ef4e3a677e6",
   "metadata": {},
   "source": [
    "Sometimes it is.\n",
    "\n",
    "If it's easier to think about a problem imperatively, but the loop would iterate over some large number, just make sure Python isn't implementing the loop.\n",
    "\n",
    "* Just-In-Time (JIT) compile it with [Numba](https://numba.pydata.org/).\n",
    "* Use ROOT's [RDataFrame](https://root.cern/doc/master/classROOT_1_1RDataFrame.html) to compile and run C++ over ROOT data.\n",
    "* Use [cppyy](https://cppyy.readthedocs.io/) to compile and run C++ over arbitrary data.\n",
    "* Use [Julia](https://julialang.org/).\n",
    "* Use [pybind11](https://pybind11.readthedocs.io/) to compile a Python extension in C++ or [PyO3](https://pyo3.rs/) to compile a Python extension in Rust.\n",
    "\n",
    "All of these involve more set-up time to get started than array-oriented programming, but may be easier to deal with in the long run, depending on the problem."
   ]
  },
  {
   "cell_type": "markdown",
   "id": "d49c7055-f3d5-45ab-a616-7786c870fa18",
   "metadata": {},
   "source": [
    "<br><br><br>"
   ]
  },
  {
   "cell_type": "markdown",
   "id": "c6d614ec-32b7-4fdc-a819-2decd7903d20",
   "metadata": {
    "jp-MarkdownHeadingCollapsed": true
   },
   "source": [
    "## This tutorial"
   ]
  },
  {
   "cell_type": "markdown",
   "id": "e71f4892-513a-413d-ae4b-3c069d33ac82",
   "metadata": {},
   "source": [
    "This tutorial will be about array-oriented programming in Python.\n",
    "\n",
    "Exploring and analyzing data in an array-oriented way is a useful skill.\n",
    "\n",
    "It's organized as a set of puzzles that we'll solve together. Open [student.ipynb](student.ipynb) now."
   ]
  },
  {
   "cell_type": "markdown",
   "id": "89993818-8f2f-4e8e-890d-723c3e00d8d6",
   "metadata": {},
   "source": [
    "<br><br><br>"
   ]
  },
  {
   "cell_type": "markdown",
   "id": "cf00b64a-4c4c-4443-9aa1-d45cc0d1bee0",
   "metadata": {
    "jp-MarkdownHeadingCollapsed": true
   },
   "source": [
    "## Regular multi-dimensional arrays"
   ]
  },
  {
   "cell_type": "markdown",
   "id": "4e8f9e94-ec2a-482a-9af9-390a492a7e5a",
   "metadata": {},
   "source": [
    "In a <b>3D NumPy array</b>, the `axis` parameter specifies <b>which dimension an operation acts along</b>.\n",
    "\n",
    "<img src=\"img/numpy_3d_axis.png\" width=\"50%\">\n",
    "\n",
    "Since a 3D array has three dimensions, `axis` can take one of three possible values:\n",
    "\n",
    "* `axis=0` → operates along the <b>first dimension</b>, moving <b>between 2D arrays</b> stacked along the \"depth\" of the 3D structure.\n",
    "* `axis=1` → operates along the <b>second dimension</b>, moving <b>across rows within each 2D array</b> — like the \"height\" within a layer.\n",
    "* `axis=2` → operates along the <b>third dimension</b>, moving <b>across columns within each row</b> — representing the \"width\" of the 3D array.\n",
    "\n",
    "In short:\n",
    "\n",
    "* `axis=0` → across different 2D slices\n",
    "* `axis=1` → down rows in each 2D slice\n",
    "* `axis=2` → across columns in each row\n",
    "\n",
    "This `axis` argument lets you control the direction of operations like `sum()`, `mean()`, or `max()` in multi-dimensional arrays."
   ]
  },
  {
   "cell_type": "markdown",
   "id": "372bd088-704f-4130-afb3-121f8110c483",
   "metadata": {},
   "source": [
    "<br><br><br>"
   ]
  },
  {
   "cell_type": "markdown",
   "id": "c3781888-85df-490a-9d91-9d84d0eb1d9f",
   "metadata": {
    "jp-MarkdownHeadingCollapsed": true
   },
   "source": [
    "## Puzzles"
   ]
  },
  {
   "cell_type": "markdown",
   "id": "5e12d815-087c-4677-99a3-5893dfbf9fb4",
   "metadata": {
    "jp-MarkdownHeadingCollapsed": true
   },
   "source": [
    "### NumPy puzzle 1"
   ]
  },
  {
   "cell_type": "markdown",
   "id": "6fff5f77-2a25-410a-bc0d-4c6b9dcf613c",
   "metadata": {},
   "source": [
    "Given a 3D array,"
   ]
  },
  {
   "cell_type": "code",
   "execution_count": null,
   "id": "abadff75-952b-429c-bc24-af86b054474c",
   "metadata": {},
   "outputs": [],
   "source": [
    "import numpy as np"
   ]
  },
  {
   "cell_type": "code",
   "execution_count": null,
   "id": "400ba67e-83bf-4f62-83d2-0f4fec192a91",
   "metadata": {},
   "outputs": [],
   "source": [
    "array3d = np.arange(2 * 3 * 5).reshape(2, 3, 5)\n",
    "array3d"
   ]
  },
  {
   "cell_type": "markdown",
   "id": "dc3d3e90-5cdb-45d9-bd51-bf81b2081ca6",
   "metadata": {},
   "source": [
    "you can select items\n",
    "\n",
    "<img src=\"img/array3d-highlight1.svg\" width=\"25%\">\n",
    "\n",
    "with"
   ]
  },
  {
   "cell_type": "code",
   "execution_count": null,
   "id": "cfbbf441-1cb1-4cd9-b18f-594b1993bf23",
   "metadata": {},
   "outputs": [],
   "source": [
    "array3d[:, 1:, 1:]"
   ]
  },
  {
   "cell_type": "markdown",
   "id": "fe1c0e4e-e1e4-4f4e-bbb2-fc8c96648cf8",
   "metadata": {},
   "source": [
    "Write a slice the selects these elements:\n",
    "\n",
    "<img src=\"img/array3d-highlight2.svg\" width=\"25%\">"
   ]
  },
  {
   "cell_type": "code",
   "execution_count": null,
   "id": "3361074b-acd9-4e45-adee-bb28c53ab90e",
   "metadata": {},
   "outputs": [],
   "source": []
  },
  {
   "cell_type": "code",
   "execution_count": null,
   "id": "eb3fa720-3fed-4675-9c1c-f97b43d1ae2f",
   "metadata": {},
   "outputs": [],
   "source": []
  },
  {
   "cell_type": "markdown",
   "id": "3d50ee4a-6319-49d6-bc85-5dcaf6206ce3",
   "metadata": {},
   "source": [
    "<br><br><br>"
   ]
  },
  {
   "cell_type": "markdown",
   "id": "c45dd649-328c-4d7d-a277-e4ab447ab46a",
   "metadata": {
    "jp-MarkdownHeadingCollapsed": true
   },
   "source": [
    "#### Solution"
   ]
  },
  {
   "cell_type": "markdown",
   "id": "b4b4a544-9ee6-4abb-af2b-998fbeb75d47",
   "metadata": {},
   "source": [
    "##### Either keep the number of dimensions intact (the first dimension has length 1):"
   ]
  },
  {
   "cell_type": "code",
   "execution_count": null,
   "id": "fcc751ba-fe92-4831-98e9-00f32d201b8d",
   "metadata": {},
   "outputs": [],
   "source": [
    "array3d[:1, :, 2:]"
   ]
  },
  {
   "cell_type": "markdown",
   "id": "48ffd1b1-cdea-48c1-985a-b8e93ccd8acf",
   "metadata": {},
   "source": [
    "##### or reduce that dimension:"
   ]
  },
  {
   "cell_type": "code",
   "execution_count": null,
   "id": "4de588a4-a8b3-442a-89f1-ba54aad0a9c4",
   "metadata": {},
   "outputs": [],
   "source": [
    "array3d[0, :, 2:]"
   ]
  },
  {
   "cell_type": "markdown",
   "id": "744c78a1-d84a-4ef5-bf59-e7dbf9852eff",
   "metadata": {},
   "source": [
    "These are different answers to the question, but both are fine."
   ]
  },
  {
   "cell_type": "markdown",
   "id": "125efffd-318b-46c1-b6b1-07160a48c108",
   "metadata": {},
   "source": [
    "<br><br><br>"
   ]
  },
  {
   "cell_type": "markdown",
   "id": "83559b0f-e904-4eb3-b45d-479ce5c7b72a",
   "metadata": {
    "jp-MarkdownHeadingCollapsed": true
   },
   "source": [
    "### NumPy puzzle 2"
   ]
  },
  {
   "cell_type": "markdown",
   "id": "b30933e0-5649-4dc4-8c8a-be6175088a45",
   "metadata": {},
   "source": [
    "Compute the size of the spaces between consecutive elements in the following array."
   ]
  },
  {
   "cell_type": "code",
   "execution_count": null,
   "id": "f2dd475c-78c5-46e2-9ea6-48f17ff72764",
   "metadata": {},
   "outputs": [],
   "source": [
    "array = np.array([1.1, 2.2, 3.3, 4.4, 5.5, 6.6, 7.7, 8.8, 9.9])\n",
    "array"
   ]
  },
  {
   "cell_type": "markdown",
   "id": "1271bd22-8a37-43a7-8094-dbcb34ebe42a",
   "metadata": {},
   "source": [
    "**Hint:**\n",
    "\n",
    "<img src=\"img/flat-operation.svg\" width=\"40%\"><img src=\"img/shifted-operation.svg\" width=\"40%\">"
   ]
  },
  {
   "cell_type": "code",
   "execution_count": null,
   "id": "69760176-c2a8-4f8f-8cd3-0225f5550690",
   "metadata": {},
   "outputs": [],
   "source": []
  },
  {
   "cell_type": "code",
   "execution_count": null,
   "id": "79c4bf9e-fe15-453b-a300-b73601f0abe0",
   "metadata": {},
   "outputs": [],
   "source": []
  },
  {
   "cell_type": "markdown",
   "id": "b450772a-b4ae-4c4e-85cc-e739b4f34ee2",
   "metadata": {},
   "source": [
    "<br><br><br>"
   ]
  },
  {
   "cell_type": "markdown",
   "id": "c705a912-f1c2-44dc-8a2c-2bedc9226c3c",
   "metadata": {
    "jp-MarkdownHeadingCollapsed": true
   },
   "source": [
    "#### Solution"
   ]
  },
  {
   "cell_type": "markdown",
   "id": "3c6035ba-0352-4344-abdc-53a3bc761805",
   "metadata": {},
   "source": [
    "This involves either slicing and applying a universal function across all elements, showing how NumPy's elementary operations can be combined to get functionality that may not be explicitly compiled into the library or using a NumPy's diff function."
   ]
  },
  {
   "cell_type": "code",
   "execution_count": null,
   "id": "d6d1b19c-fd40-45f6-b1a3-d96a61370c67",
   "metadata": {},
   "outputs": [],
   "source": [
    "array[1:] - array[:-1]"
   ]
  },
  {
   "cell_type": "code",
   "execution_count": null,
   "id": "effd57cd-5648-4ccf-a501-efa84a5b3108",
   "metadata": {},
   "outputs": [],
   "source": [
    "np.diff(array)"
   ]
  },
  {
   "cell_type": "markdown",
   "id": "fbfa7f83-b310-4241-bb62-cdf4d78c1c90",
   "metadata": {},
   "source": [
    "<br><br><br>"
   ]
  },
  {
   "cell_type": "markdown",
   "id": "beef92b7-0b92-44d8-b878-62d65d560083",
   "metadata": {
    "jp-MarkdownHeadingCollapsed": true
   },
   "source": [
    "### NumPy puzzle 3"
   ]
  },
  {
   "cell_type": "markdown",
   "id": "efcd64d0-a384-426f-8beb-1b9ca8fd9ee4",
   "metadata": {},
   "source": [
    "Compute the length of this curve.\n",
    "\n",
    "<img src=\"img/length-by-segment.svg\" width=\"50%\">"
   ]
  },
  {
   "cell_type": "code",
   "execution_count": null,
   "id": "f8ecae77-aeec-4a05-aef4-52d2301c8240",
   "metadata": {},
   "outputs": [],
   "source": [
    "t = np.linspace(0, 2*np.pi, 10000)\n",
    "x = np.sin(3*t)\n",
    "y = np.sin(4*t)"
   ]
  },
  {
   "cell_type": "code",
   "execution_count": null,
   "id": "437b6129-bfc1-4a14-8d83-b52a51242432",
   "metadata": {},
   "outputs": [],
   "source": [
    "import matplotlib.pyplot as plt"
   ]
  },
  {
   "cell_type": "code",
   "execution_count": null,
   "id": "129d719d-79d4-4a1a-815a-3807e4e95d19",
   "metadata": {},
   "outputs": [],
   "source": [
    "plt.plot(x, y);"
   ]
  },
  {
   "cell_type": "code",
   "execution_count": null,
   "id": "0de961fb-0b36-42ff-b952-4b5e43830d59",
   "metadata": {},
   "outputs": [],
   "source": []
  },
  {
   "cell_type": "code",
   "execution_count": null,
   "id": "43175d9b-c957-4705-8394-451b86729e4c",
   "metadata": {},
   "outputs": [],
   "source": []
  },
  {
   "cell_type": "markdown",
   "id": "2d90e316-f276-49f8-aeb0-533217071915",
   "metadata": {},
   "source": [
    "<br><br><br>"
   ]
  },
  {
   "cell_type": "markdown",
   "id": "b1279ded-f3c7-4b3a-bbda-254bc738a872",
   "metadata": {
    "jp-MarkdownHeadingCollapsed": true
   },
   "source": [
    "#### Solution"
   ]
  },
  {
   "cell_type": "markdown",
   "id": "4b7eda84-ea0c-4fa8-9277-8a79e533dcd7",
   "metadata": {},
   "source": [
    "This calculation of path length involves slicing, universal functions, and reduction."
   ]
  },
  {
   "cell_type": "code",
   "execution_count": null,
   "id": "ba6df74c-6541-430a-ad06-a246898f3a77",
   "metadata": {},
   "outputs": [],
   "source": [
    "np.sum(np.sqrt((x[1:] - x[-1:])**2 + (y[1:] - y[-1:])**2), axis=0)"
   ]
  },
  {
   "cell_type": "markdown",
   "id": "924697d6-fe4b-4e08-91b5-926d50d3862c",
   "metadata": {},
   "source": [
    "<br><br><br>"
   ]
  },
  {
   "cell_type": "markdown",
   "id": "f5ddbcd0-7ba1-41fc-8a70-e156629e3128",
   "metadata": {
    "jp-MarkdownHeadingCollapsed": true
   },
   "source": [
    "### NumPy puzzle 4"
   ]
  },
  {
   "cell_type": "markdown",
   "id": "e6f10384-6ec5-41a4-8a2a-ef68b770b1f8",
   "metadata": {},
   "source": [
    "Scale this image down by a factor of 64 on both sides, using only [np.reshape](https://numpy.org/doc/stable/reference/generated/numpy.reshape.html), [np.mean](https://numpy.org/doc/stable/reference/generated/numpy.mean.html), and [np.ndarray.astype](https://numpy.org/doc/stable/reference/generated/numpy.ndarray.astype.html)."
   ]
  },
  {
   "cell_type": "code",
   "execution_count": null,
   "id": "a385ff2c-00be-4b35-abb7-f41034c9aa87",
   "metadata": {},
   "outputs": [],
   "source": [
    "import matplotlib.image"
   ]
  },
  {
   "cell_type": "code",
   "execution_count": null,
   "id": "9691cf7e-e336-4272-90d6-cae92327d853",
   "metadata": {},
   "outputs": [],
   "source": [
    "image = matplotlib.image.imread(\"data/sun-shines-in-CMS.jpg\")\n",
    "plt.imshow(image);"
   ]
  },
  {
   "cell_type": "markdown",
   "id": "6dd45687-3541-4f0d-8996-e516766596dd",
   "metadata": {},
   "source": [
    "The current shape is"
   ]
  },
  {
   "cell_type": "code",
   "execution_count": null,
   "id": "5ecd7f58-a164-4dca-9653-1242ca604e76",
   "metadata": {},
   "outputs": [],
   "source": [
    "image.shape"
   ]
  },
  {
   "cell_type": "markdown",
   "id": "cd372d6c-1fd4-4abf-a623-9a488bc96abe",
   "metadata": {},
   "source": [
    "1920 rows, 2560 columns, and the third axis is for (red, green, blue), all `np.uint8`.\n",
    "\n",
    "Your strategy should be to reshape the array, such that the dimension of length `1920` becomes two new dimensions of length `1920 // 64` and `64` and the dimension of length `2560` becomes two new dimensions of length `2560 // 64` and `64`. Then average over each of the dimensions of length `64`.\n",
    "\n",
    "The shape should change as\n",
    "\n",
    "$$\\left(1920, 2560, 3\\right) \\to \\left(\\frac{1920}{64}, 64, \\frac{2560}{64}, 64, 3\\right) \\to \\left(\\frac{1920}{64}, \\frac{2560}{64}, 3\\right)$$\n",
    "\n",
    "and then you need to turn the floating-point dtype back into unsigned 8-bit integers with [np.ndarray.astype](https://numpy.org/doc/stable/reference/generated/numpy.ndarray.astype.html)."
   ]
  },
  {
   "cell_type": "code",
   "execution_count": null,
   "id": "43f89b97-8da5-41a2-bd35-fc892567425f",
   "metadata": {},
   "outputs": [],
   "source": []
  },
  {
   "cell_type": "code",
   "execution_count": null,
   "id": "538efcec-5b25-4f1c-92f6-b05f5eac2926",
   "metadata": {},
   "outputs": [],
   "source": []
  },
  {
   "cell_type": "markdown",
   "id": "922e498f-b0a1-4239-876b-1f3ef18227b0",
   "metadata": {},
   "source": [
    "<br><br><br>"
   ]
  },
  {
   "cell_type": "markdown",
   "id": "5f98377b-9c22-4bb6-9bd8-ba439df0d416",
   "metadata": {
    "jp-MarkdownHeadingCollapsed": true
   },
   "source": [
    "#### Solution"
   ]
  },
  {
   "cell_type": "markdown",
   "id": "01a39faa-f342-4f80-876c-e2d7c2217185",
   "metadata": {},
   "source": [
    "In NumPy, the shapes of arrays are fluid. An array can be reshaped from 3 dimensional to 5 dimensional as long as the number of items is unchanged.\n",
    "\n",
    "Reshaping provides new axes for reducers like [np.mean](https://numpy.org/doc/stable/reference/generated/numpy.mean.html) to apply.\n",
    "\n",
    "Be sure to average over axis 3 before axis 1, since reduction removes an axis, changing the numbering of later axes.\n"
   ]
  },
  {
   "cell_type": "code",
   "execution_count": null,
   "id": "1bd95fc1-557c-447d-856d-af69aa858c3a",
   "metadata": {},
   "outputs": [],
   "source": [
    "resampled = np.mean(\n",
    "    np.mean(\n",
    "        image.reshape(1920 // 64, 64, 2560 // 64, 64, 3),\n",
    "        axis=3,\n",
    "    ),\n",
    "    axis=1,\n",
    ")"
   ]
  },
  {
   "cell_type": "markdown",
   "id": "72d83352-f773-4c0c-a702-9b2a19fba59c",
   "metadata": {},
   "source": [
    "Or alternatively, use negative axis numbers and do it in the other order."
   ]
  },
  {
   "cell_type": "code",
   "execution_count": null,
   "id": "f31857fe-6a89-4e0b-acea-007ab412bf1b",
   "metadata": {},
   "outputs": [],
   "source": [
    "resampled = np.mean(\n",
    "    np.mean(\n",
    "        image.reshape(1920 // 64, 64, 2560 // 64, 64, 3),\n",
    "        axis=-4,\n",
    "    ),\n",
    "    axis=-2,\n",
    ")"
   ]
  },
  {
   "cell_type": "markdown",
   "id": "479060da-c100-452e-b055-9cb38fc168af",
   "metadata": {},
   "source": [
    "Or as a third option, use `keepdims=True` to keep the axis numbering from changing and only remove the length 1 dimensions after all reductions are done."
   ]
  },
  {
   "cell_type": "code",
   "execution_count": null,
   "id": "373b9ccd-bf47-4024-81f3-93e7c53ceaad",
   "metadata": {},
   "outputs": [],
   "source": [
    "resampled = np.mean(\n",
    "    np.mean(\n",
    "        image.reshape(1920 // 64, 64, 2560 // 64, 64, 3),\n",
    "        axis=1,\n",
    "        keepdims=True,\n",
    "    ),\n",
    "    axis=3,\n",
    "    keepdims=True,\n",
    ").reshape(1920 // 64, 2560 // 64, 3)"
   ]
  },
  {
   "cell_type": "code",
   "execution_count": null,
   "id": "c5d40674-be00-4dbe-9576-2422dc0b1c41",
   "metadata": {},
   "outputs": [],
   "source": [
    "plt.imshow(resampled.astype(np.uint8));"
   ]
  },
  {
   "cell_type": "markdown",
   "id": "38865fe2-2cbe-4346-b663-7f33328d4bbc",
   "metadata": {},
   "source": [
    "<br><br><br>"
   ]
  },
  {
   "cell_type": "markdown",
   "id": "b34c8c67-75ad-4c67-a67d-70357ca37780",
   "metadata": {
    "jp-MarkdownHeadingCollapsed": true
   },
   "source": [
    "### NumPy puzzle 5"
   ]
  },
  {
   "cell_type": "markdown",
   "id": "f5bb022f-85ba-46c7-b119-6a79cc2e9868",
   "metadata": {},
   "source": [
    "Let's interpret some raw ROOT data!"
   ]
  },
  {
   "cell_type": "code",
   "execution_count": null,
   "id": "18f443ee-151f-4ab8-b19c-87304c89d666",
   "metadata": {},
   "outputs": [],
   "source": [
    "import zlib"
   ]
  },
  {
   "cell_type": "code",
   "execution_count": null,
   "id": "40a199c7-0422-4b24-a701-1c3b9be5485f",
   "metadata": {},
   "outputs": [],
   "source": [
    "with open(\"data/SMHiggsToZZTo4L.root\", \"rb\") as file:\n",
    "    file.seek(42104123)\n",
    "    compressed_data = file.read(14718)\n",
    "    uncompressed_data = uncompressed_data = zlib.decompress(compressed_data)\n",
    "    array_of_uint8 = np.frombuffer(uncompressed_data, np.uint8, 12524)"
   ]
  },
  {
   "cell_type": "code",
   "execution_count": null,
   "id": "a3c6657c-e67a-4a16-9ce6-81ff862706f5",
   "metadata": {},
   "outputs": [],
   "source": [
    "array_of_uint8"
   ]
  },
  {
   "cell_type": "markdown",
   "id": "9666a79e-1cf1-4534-91e1-58a2cb9b126e",
   "metadata": {},
   "source": [
    "This should be 3131 floating-point muon $p_T$ values.\n",
    "\n",
    "But if we view the data as `float32`, the orders of magnitude are all wrong:"
   ]
  },
  {
   "cell_type": "code",
   "execution_count": null,
   "id": "f6055fbd-261b-4985-8ec2-89255f5da781",
   "metadata": {},
   "outputs": [],
   "source": [
    "array_of_uint8.view(np.float32)"
   ]
  },
  {
   "cell_type": "markdown",
   "id": "f339dd5e-595c-4715-b6d8-2b1dbe9bbb61",
   "metadata": {},
   "source": [
    "That's because the data are [big endian](https://en.wikipedia.org/wiki/Endianness) and this computer is little-endian.\n",
    "\n",
    "NumPy has a way to view \"wrong\"-endian data, but operations on it aren't as efficient."
   ]
  },
  {
   "cell_type": "code",
   "execution_count": null,
   "id": "ce0fd7f0-4e18-4442-a8a2-3e393f701248",
   "metadata": {},
   "outputs": [],
   "source": [
    "array_of_uint8.view(\">f4\")"
   ]
  },
  {
   "cell_type": "markdown",
   "id": "cf56d71b-4e80-41a7-9421-6f8f2e9dd871",
   "metadata": {},
   "source": [
    "To fix the endianness, you'll need to reverse the order of bytes _in groups of 4_.\n",
    "\n",
    "<img src=\"img/big-little-endian.svg\" width=\"75%\">\n",
    "\n",
    "Fix the endianness with only [np.reshape](https://numpy.org/doc/stable/reference/generated/numpy.reshape.html) and a slice."
   ]
  },
  {
   "cell_type": "code",
   "execution_count": null,
   "id": "38cb2e2b-dc5d-41f4-a235-a0f30e334647",
   "metadata": {},
   "outputs": [],
   "source": []
  },
  {
   "cell_type": "code",
   "execution_count": null,
   "id": "5b3258b3-e642-4648-802f-42f1e643b96f",
   "metadata": {},
   "outputs": [],
   "source": []
  },
  {
   "cell_type": "markdown",
   "id": "55b2e743-2de6-4e1b-97c0-215c8154d51c",
   "metadata": {},
   "source": [
    "<br><br><br>"
   ]
  },
  {
   "cell_type": "markdown",
   "id": "c227396c-cf2f-4bb4-b82d-b330485ee9cc",
   "metadata": {
    "jp-MarkdownHeadingCollapsed": true
   },
   "source": [
    "#### Solution"
   ]
  },
  {
   "cell_type": "markdown",
   "id": "53f48f2a-c373-4c65-b4bc-bf3c00f3a34e",
   "metadata": {},
   "source": [
    "This is similar to the image-scaling puzzle: we use short-lived axes to be able to express an operation, but instead of reduction, it's a direction-reversing slice. Without reshaping, we wouldn't be able to express \"groups of 4.\""
   ]
  },
  {
   "cell_type": "code",
   "execution_count": null,
   "id": "44276695-881f-48ea-9eef-12307d886e8d",
   "metadata": {},
   "outputs": [],
   "source": [
    "byte_swapped = array_of_uint8.reshape(-1, 4)[:, ::-1].reshape(-1)"
   ]
  },
  {
   "cell_type": "code",
   "execution_count": null,
   "id": "3244474c-8bec-4cc7-94a2-8f767d306e29",
   "metadata": {},
   "outputs": [],
   "source": [
    "byte_swapped.view(np.float32)"
   ]
  },
  {
   "cell_type": "markdown",
   "id": "98428455-3fe9-474f-91f1-7d22179e790f",
   "metadata": {},
   "source": [
    "<br><br><br>"
   ]
  },
  {
   "cell_type": "markdown",
   "id": "7a30ad5b-c88d-4e48-90b9-eaeefdf88505",
   "metadata": {
    "jp-MarkdownHeadingCollapsed": true
   },
   "source": [
    "## Introduction to ragged arrays"
   ]
  },
  {
   "cell_type": "code",
   "execution_count": null,
   "id": "8d05a9b2-6eba-4ccd-acf0-d29b58a24b72",
   "metadata": {},
   "outputs": [],
   "source": [
    "import awkward as ak"
   ]
  },
  {
   "cell_type": "code",
   "execution_count": null,
   "id": "10954cc6-3ee1-4067-9728-bd9c1fffa572",
   "metadata": {},
   "outputs": [],
   "source": [
    "array2d = np.array([\n",
    "    [  1,   2,   3,   4],\n",
    "    [ 10,  20,  30,  40],\n",
    "    [100, 200, 300, 400],\n",
    "])\n",
    "array2d"
   ]
  },
  {
   "cell_type": "code",
   "execution_count": null,
   "id": "a8c6ee25-9569-4a24-8215-42c55d9960b2",
   "metadata": {},
   "outputs": [],
   "source": [
    "ragged = ak.Array([\n",
    "    [   1,    2,    3,   4],\n",
    "    [  10, None,   30     ],\n",
    "    [ 100,  200           ],\n",
    "])\n",
    "ragged"
   ]
  },
  {
   "cell_type": "markdown",
   "id": "2407ffc3-328c-48ad-8932-a778e2202717",
   "metadata": {},
   "source": [
    "Some operations, like summation along an axis, need to be generalized."
   ]
  },
  {
   "cell_type": "markdown",
   "id": "6a486dff-9845-46a0-9775-2e05b014e6f1",
   "metadata": {},
   "source": [
    "<img src=\"img/example-reducer-2d.svg\" width=\"50%\"><img src=\"img/example-reducer-ragged.svg\" width=\"50%\">"
   ]
  },
  {
   "cell_type": "code",
   "execution_count": null,
   "id": "dd55e3f4-db76-4e97-a574-3c58fbeec9f4",
   "metadata": {},
   "outputs": [],
   "source": [
    "np.sum(array2d, axis=0)"
   ]
  },
  {
   "cell_type": "code",
   "execution_count": null,
   "id": "be1d7de2-5c81-4398-8bcc-d525ebf4d5f6",
   "metadata": {},
   "outputs": [],
   "source": [
    "np.sum(array2d, axis=1)"
   ]
  },
  {
   "cell_type": "code",
   "execution_count": null,
   "id": "2981df9c-0fa2-41bb-8fc6-b65ca689ef8b",
   "metadata": {},
   "outputs": [],
   "source": [
    "np.sum(ragged, axis=0)"
   ]
  },
  {
   "cell_type": "code",
   "execution_count": null,
   "id": "2f7ee34b-65ff-47b8-a5f0-75d8a01271a5",
   "metadata": {},
   "outputs": [],
   "source": [
    "np.sum(ragged, axis=1)"
   ]
  },
  {
   "cell_type": "markdown",
   "id": "a5c5575f-fffd-4ac4-921f-8838d2f517da",
   "metadata": {},
   "source": [
    "Particle physics data naturally comes in ragged arrays."
   ]
  },
  {
   "cell_type": "code",
   "execution_count": null,
   "id": "40aea3a5-e48e-4491-9b00-8acb1434648f",
   "metadata": {},
   "outputs": [],
   "source": [
    "import uproot"
   ]
  },
  {
   "cell_type": "code",
   "execution_count": null,
   "id": "a3b7dedd-64cb-406d-9aae-a376f6551bf9",
   "metadata": {},
   "outputs": [],
   "source": [
    "with uproot.open(\"data/SMHiggsToZZTo4L.root\") as file:\n",
    "    dataset = file[\"Events\"].arrays()"
   ]
  },
  {
   "cell_type": "code",
   "execution_count": null,
   "id": "edb4ffae-f73b-4c1f-ad19-2f4e80964179",
   "metadata": {},
   "outputs": [],
   "source": [
    "dataset"
   ]
  },
  {
   "cell_type": "code",
   "execution_count": null,
   "id": "fd8f6937-39b1-4f61-9928-9f724541e211",
   "metadata": {},
   "outputs": [],
   "source": [
    "dataset.Electron_pt"
   ]
  },
  {
   "cell_type": "markdown",
   "id": "26a53acd-4172-4787-8c74-b55e9d08d173",
   "metadata": {},
   "source": [
    "Almost always, `axis=0` is the _events_ axis (collision events), and `axis=1` is the _particle_ axis (electrons, muons, jets...).\n",
    "\n",
    "Let's make this easier to use by defining:"
   ]
  },
  {
   "cell_type": "code",
   "execution_count": null,
   "id": "867081ab-666f-4a0d-8007-df31a8ff0a6e",
   "metadata": {},
   "outputs": [],
   "source": [
    "EVENT = 0\n",
    "PARTICLE = 1"
   ]
  },
  {
   "cell_type": "code",
   "execution_count": null,
   "id": "a13420ea-9136-4285-9ba8-571e75fc7de4",
   "metadata": {},
   "outputs": [],
   "source": [
    "ak.num(dataset, axis=EVENT)"
   ]
  },
  {
   "cell_type": "markdown",
   "id": "d439bac3-dc38-4acb-8543-f7e2be2dc36f",
   "metadata": {},
   "source": [
    "The number of events is 299973. (See documentation for [ak.num](https://awkward-array.org/doc/main/reference/generated/ak.num.html).)"
   ]
  },
  {
   "cell_type": "code",
   "execution_count": null,
   "id": "98d49dfe-3d46-47a4-adee-d393058d5df5",
   "metadata": {},
   "outputs": [],
   "source": [
    "ak.num(dataset.Electron_pt, axis=PARTICLE)"
   ]
  },
  {
   "cell_type": "markdown",
   "id": "d55da3a0-0728-4dcf-9fbc-4fdaeffeb760",
   "metadata": {},
   "source": [
    "The number of electrons is 0 (in the first event), 4 (in the second event), 2 (in the third event), ... 2 (in the last event).\n",
    "\n",
    "The following computes the average electron $p_T$ in each event:"
   ]
  },
  {
   "cell_type": "code",
   "execution_count": null,
   "id": "bc1fe13f-365f-4d28-b413-1f68f02bdfed",
   "metadata": {},
   "outputs": [],
   "source": [
    "np.mean(dataset.Electron_pt, axis=PARTICLE)"
   ]
  },
  {
   "cell_type": "markdown",
   "id": "1b068fcf-a1ad-462c-ae4e-94be5dc2387e",
   "metadata": {},
   "source": [
    "**Question:** what is the following? (What does the calculation mean?)"
   ]
  },
  {
   "cell_type": "code",
   "execution_count": null,
   "id": "1cb4543c-70d4-4f39-a8c1-4d5926149935",
   "metadata": {},
   "outputs": [],
   "source": [
    "np.mean(dataset.Electron_pt, axis=EVENT)"
   ]
  },
  {
   "cell_type": "markdown",
   "id": "3ff80071-a292-4d9c-87e1-f31cd3141281",
   "metadata": {},
   "source": [
    "<br><br><br>"
   ]
  },
  {
   "cell_type": "markdown",
   "id": "9bac7bdd-d60c-424f-afa4-1ef6194d99fe",
   "metadata": {
    "jp-MarkdownHeadingCollapsed": true
   },
   "source": [
    "## Awkward puzzles"
   ]
  },
  {
   "cell_type": "markdown",
   "id": "b8be74a2-50f2-4d2a-b44d-067148d5b28e",
   "metadata": {
    "jp-MarkdownHeadingCollapsed": true
   },
   "source": [
    "### Awkward puzzle 1"
   ]
  },
  {
   "cell_type": "markdown",
   "id": "16cf2435-6080-47fd-954c-a850a1842057",
   "metadata": {},
   "source": [
    "Are the muon $p_T$ values sorted within each event? That is, is it true that\n",
    "\n",
    "```python\n",
    "dataset.Muon_pt[i, j] > dataset.Muon_pt[i, j + 1]\n",
    "```\n",
    "\n",
    "for all `i` and `j`? Perform a calculation that proves it.\n",
    "\n",
    "<details>\n",
    "    <summary style=\"font-weight: bold;\">Hint!</summary>\n",
    "\n",
    "<p>Think about NumPy puzzle 2.</p>\n",
    "\n",
    "</details>"
   ]
  },
  {
   "cell_type": "code",
   "execution_count": null,
   "id": "1ee5e64d-cc0b-4c45-b06f-cc4f4eeba7f5",
   "metadata": {},
   "outputs": [],
   "source": []
  },
  {
   "cell_type": "code",
   "execution_count": null,
   "id": "1cd09416-6aac-47c5-ab32-94c559c51515",
   "metadata": {},
   "outputs": [],
   "source": []
  },
  {
   "cell_type": "markdown",
   "id": "d134aab9-3e84-47d1-a236-a6d10eb9c0c5",
   "metadata": {},
   "source": [
    "<br><br><br>"
   ]
  },
  {
   "cell_type": "markdown",
   "id": "311d9040-db08-4da5-acfa-c9048092628a",
   "metadata": {},
   "source": [
    "#### Solution"
   ]
  },
  {
   "cell_type": "markdown",
   "id": "188096ac-43d2-4cbf-990a-2791cdd50e69",
   "metadata": {},
   "source": [
    "In NumPy puzzle 2, you subtracted each element from its neighbor by slicing array[1:] (drops the first) and array[:-1] (drops the last) before subtracting.\n",
    "\n",
    "Here, you can do something similar, but it has to apply to the particles axis, not the events axis, so\n"
   ]
  },
  {
   "cell_type": "code",
   "execution_count": null,
   "id": "3b70408b-43aa-44d1-8b9b-decdfb365b00",
   "metadata": {},
   "outputs": [],
   "source": [
    "dataset.Muon_pt[:, :-1] > dataset.Muon_pt[:, 1:]"
   ]
  },
  {
   "cell_type": "markdown",
   "id": "4d7091de-0b63-4afb-8d01-b8f4ce9124b3",
   "metadata": {},
   "source": [
    "(either subtract and compare with zero or just compare one to the next).\n",
    "\n",
    "We want to know if it's always true that `dataset.Muon_pt[:, :-1] > dataset.Muon_pt[:, 1:]`. We can see by eye that there are some `False` values above, but we can clinch it by"
   ]
  },
  {
   "cell_type": "code",
   "execution_count": null,
   "id": "509738de-c15e-4c5d-9335-78b40bcb6c01",
   "metadata": {},
   "outputs": [],
   "source": [
    "np.all(dataset.Muon_pt[:, :-1] > dataset.Muon_pt[:, 1:])"
   ]
  },
  {
   "cell_type": "markdown",
   "id": "267ba01e-d5f9-4aa6-851b-41ffd532a8f0",
   "metadata": {},
   "source": [
    "It is not true that the muon $p_T$ values are sorted within each event.\n",
    "\n",
    "The consequence, for this dataset, is that `dataset.Muon_pt[:, 0]` is not the leading $p_T$ and `0` and `1` are not necessarily the two most relevant muons."
   ]
  },
  {
   "cell_type": "markdown",
   "id": "a8034986-0a63-43bc-8c68-89fc4daacec3",
   "metadata": {},
   "source": [
    "<br><br><br>"
   ]
  },
  {
   "cell_type": "markdown",
   "id": "008695e2-3446-425c-b708-0b1500ded31c",
   "metadata": {
    "jp-MarkdownHeadingCollapsed": true
   },
   "source": [
    "### Awkward puzzle 2"
   ]
  },
  {
   "cell_type": "markdown",
   "id": "03453ac4-9d86-4925-83bf-8a9f941842b1",
   "metadata": {},
   "source": [
    "Just as with NumPy arrays, Awkward Arrays can be filtered by slicing them by a boolean array of the same shape."
   ]
  },
  {
   "cell_type": "code",
   "execution_count": null,
   "id": "5e694b01-4fe2-4bd2-904f-4103aa0e022c",
   "metadata": {},
   "outputs": [],
   "source": [
    "boolean_mask = dataset.Muon_pt > 50\n",
    "boolean_mask"
   ]
  },
  {
   "cell_type": "code",
   "execution_count": null,
   "id": "f3ddfbb1-71eb-4418-8322-04cce8c122af",
   "metadata": {},
   "outputs": [],
   "source": [
    "dataset.Muon_pt[boolean_mask]"
   ]
  },
  {
   "cell_type": "markdown",
   "id": "3a5a3d99-53d5-4d54-9575-bdc8807bedc4",
   "metadata": {},
   "source": [
    "Notice that this has filtered _particles_, rather than _events_. That's because `dataset.Muon_pt` and `boolean_mask` are both ragged (with the same numbers of elements in each list).\n",
    "\n",
    "Suppose you want to select \"any event with a muon whose $p_T > 50$ GeV\"? Here are some potentially useful functions (there are several ways to do it):\n",
    "\n",
    "* [ak.any](https://awkward-array.org/doc/main/reference/generated/ak.any.html)\n",
    "* [ak.max](https://awkward-array.org/doc/main/reference/generated/ak.max.html)\n",
    "* [ak.num](https://awkward-array.org/doc/main/reference/generated/ak.num.html)\n",
    "* [ak.count_nonzero](https://awkward-array.org/doc/main/reference/generated/ak.count_nonzero.html) (or [ak.sum](https://awkward-array.org/doc/main/reference/generated/ak.sum.html))"
   ]
  },
  {
   "cell_type": "code",
   "execution_count": null,
   "id": "09e864f6-4542-4b59-85f6-02aa33f14863",
   "metadata": {},
   "outputs": [],
   "source": []
  },
  {
   "cell_type": "code",
   "execution_count": null,
   "id": "125b6ba3-7738-43fb-bc4f-451dcba3f413",
   "metadata": {},
   "outputs": [],
   "source": []
  },
  {
   "cell_type": "markdown",
   "id": "51af285a-648a-454e-bb0e-0eae36d1fb20",
   "metadata": {},
   "source": [
    "<br><br><br>"
   ]
  },
  {
   "cell_type": "markdown",
   "id": "b8274800-9294-4679-9dee-dd25778f906b",
   "metadata": {
    "jp-MarkdownHeadingCollapsed": true
   },
   "source": [
    "#### Solution 1"
   ]
  },
  {
   "cell_type": "markdown",
   "id": "073f8ed1-1113-4fb6-8750-ad21594b26ab",
   "metadata": {},
   "source": [
    "Take an event if \"any muon $p_T > 50$ GeV (considering all particles).\""
   ]
  },
  {
   "cell_type": "code",
   "execution_count": null,
   "id": "09c1e0d2-2617-406b-be67-0183aa01f7c5",
   "metadata": {},
   "outputs": [],
   "source": [
    "boolean_mask_1d = ak.any(dataset.Muon_pt > 50, axis=PARTICLE)\n",
    "boolean_mask_1d"
   ]
  },
  {
   "cell_type": "markdown",
   "id": "460a6520-d10e-491a-bb34-159c03a8ee5e",
   "metadata": {
    "jp-MarkdownHeadingCollapsed": true
   },
   "source": [
    "#### Solution 2"
   ]
  },
  {
   "cell_type": "markdown",
   "id": "3df7365a-1352-4c39-ac78-466ba69e64e4",
   "metadata": {},
   "source": [
    "Take an event if \"the maximum muon $p_T$ (over all particles) $> 50$ GeV.\""
   ]
  },
  {
   "cell_type": "code",
   "execution_count": null,
   "id": "88a3a6a8-266f-4eb4-bd2b-4a57e353e914",
   "metadata": {},
   "outputs": [],
   "source": [
    "boolean_mask_1d = ak.max(dataset.Muon_pt, axis=PARTICLE) > 50\n",
    "boolean_mask_1d"
   ]
  },
  {
   "cell_type": "markdown",
   "id": "264ce634-2b57-4829-acad-c76bee46af61",
   "metadata": {},
   "source": [
    "Some of these boolean values are missing because there is no maximum of an empty list, and that missing value (`None`) results in a missing conclusion about whether it is greater than 50 GeV or not.\n",
    "\n",
    "The missing values can be converted into `False` with [ak.fill_none](https://awkward-array.org/doc/main/reference/generated/ak.fill_none.html)"
   ]
  },
  {
   "cell_type": "code",
   "execution_count": null,
   "id": "247dade2-5b38-49aa-a2a5-2c9db172c85d",
   "metadata": {},
   "outputs": [],
   "source": [
    "boolean_mask_1d = ak.fill_none(ak.max(dataset.Muon_pt, axis=PARTICLE) > 50, False)\n",
    "boolean_mask_1d"
   ]
  },
  {
   "cell_type": "markdown",
   "id": "6dff5b63-6878-4dec-983b-27c11b0f5516",
   "metadata": {
    "jp-MarkdownHeadingCollapsed": true
   },
   "source": [
    "#### Solution 3"
   ]
  },
  {
   "cell_type": "markdown",
   "id": "208fbfc8-a71a-4893-adc2-e7747f31461b",
   "metadata": {},
   "source": [
    "Take an event if \"the number of muons that have $p_T > 50$ GeV is $\\ge 1$.\""
   ]
  },
  {
   "cell_type": "code",
   "execution_count": null,
   "id": "5928d7ce-1ca2-463c-a089-3b0c89c40874",
   "metadata": {},
   "outputs": [],
   "source": [
    "boolean_mask_1d = ak.num(dataset.Muon_pt[dataset.Muon_pt > 50]) >= 1\n",
    "boolean_mask_1d"
   ]
  },
  {
   "cell_type": "markdown",
   "id": "a3d83249-95b8-4aa4-83e5-5ff8d6e29994",
   "metadata": {
    "jp-MarkdownHeadingCollapsed": true
   },
   "source": [
    "#### Solution 4"
   ]
  },
  {
   "cell_type": "markdown",
   "id": "eb0b58e4-5cb4-4359-a3dd-f0ca71024559",
   "metadata": {},
   "source": [
    "Take an event if \"the number of muons in which '$p_T > 50$ GeV' is true (not zero) $\\ge 1$.\""
   ]
  },
  {
   "cell_type": "code",
   "execution_count": null,
   "id": "bb8409bb-38f4-48b3-bc78-d8dd9b7d636f",
   "metadata": {},
   "outputs": [],
   "source": [
    "boolean_mask_1d = ak.count_nonzero(dataset.Muon_pt > 50, axis=PARTICLE) >= 1\n",
    "boolean_mask_1d"
   ]
  },
  {
   "cell_type": "markdown",
   "id": "a4a478b8-3040-4b1c-ac00-a192df2589ab",
   "metadata": {
    "jp-MarkdownHeadingCollapsed": true
   },
   "source": [
    "#### Solution 5"
   ]
  },
  {
   "cell_type": "markdown",
   "id": "7ca162cc-4255-4e53-9be8-69b1ab148d30",
   "metadata": {},
   "source": [
    "Take an event if \"the sum of 'muon $p_T > 50$ GeV' (false = 0, true = 1) over particles is $\\ge 1$.\""
   ]
  },
  {
   "cell_type": "code",
   "execution_count": null,
   "id": "a21a351c-3906-4337-bccd-65564aa803d2",
   "metadata": {},
   "outputs": [],
   "source": [
    "boolean_mask_1d = ak.sum(dataset.Muon_pt > 50, axis=PARTICLE) >= 1\n",
    "boolean_mask_1d"
   ]
  },
  {
   "cell_type": "markdown",
   "id": "964b7ded-1fbc-4828-994f-f95fbacaae61",
   "metadata": {
    "jp-MarkdownHeadingCollapsed": true
   },
   "source": [
    "#### Application"
   ]
  },
  {
   "cell_type": "markdown",
   "id": "540137e9-a244-441d-a1c4-c4b2e8c2915b",
   "metadata": {},
   "source": [
    "Apply it to the `dataset` as a slice. You get whole events (all fields) back."
   ]
  },
  {
   "cell_type": "code",
   "execution_count": null,
   "id": "685c5c79-1b93-47ea-90a7-5fddc0e00234",
   "metadata": {},
   "outputs": [],
   "source": [
    "dataset[boolean_mask_1d]"
   ]
  },
  {
   "cell_type": "markdown",
   "id": "efac9f47-8969-4bd4-b792-2ed23c90cebb",
   "metadata": {},
   "source": [
    "Notice that the total number of events is lower, which is not the case for a particle cut."
   ]
  },
  {
   "cell_type": "markdown",
   "id": "3a8efc8d-42ef-4cde-868f-6ea7b81e6f57",
   "metadata": {},
   "source": [
    "<br><br><br>"
   ]
  },
  {
   "cell_type": "markdown",
   "id": "6c531664-00be-4d72-9024-56d67f3be986",
   "metadata": {
    "jp-MarkdownHeadingCollapsed": true
   },
   "source": [
    "### Awkward puzzle 3"
   ]
  },
  {
   "cell_type": "markdown",
   "id": "ddf6e1b1-5e70-446c-9972-2de12e607b21",
   "metadata": {},
   "source": [
    "Also like NumPy, arrays of booleans can be combined by logical operators `&` (and), `|` (or), `~` (not).\n",
    "\n",
    "Be careful:\n",
    "\n",
    "* The operators aren't `and`, `or`, `not`: the way these have been defined by Python, they can't apply to arrays.\n",
    "* The operators aren't `&&`, `||`, `!`: that's C++.\n",
    "* Comparisons have to be grouped with parentheses:"
   ]
  },
  {
   "cell_type": "code",
   "execution_count": null,
   "id": "d2c168e1-f615-46de-85fd-82ce003e0782",
   "metadata": {},
   "outputs": [],
   "source": [
    "x = 0"
   ]
  },
  {
   "cell_type": "code",
   "execution_count": null,
   "id": "3831f047-4022-42fd-af8c-af5eaab2fa39",
   "metadata": {},
   "outputs": [],
   "source": [
    "x > -10 & x < 10"
   ]
  },
  {
   "cell_type": "code",
   "execution_count": null,
   "id": "f1b9c153-6e4b-4dbc-b67a-0817f5c995c6",
   "metadata": {},
   "outputs": [],
   "source": [
    "(x > -10) & (x < 10)"
   ]
  },
  {
   "cell_type": "markdown",
   "id": "1a748bc2-e54c-4087-82b3-a9afa72a4064",
   "metadata": {},
   "source": [
    "<img src=\"img/bitwise-operator-parentheses.svg\" width=\"75%\">"
   ]
  },
  {
   "cell_type": "markdown",
   "id": "2e51940e-6b52-47cd-a47d-54ec939b10a8",
   "metadata": {},
   "source": [
    "Make a boolean mask for selecting events in which any electron $p_T > 10$ and any muon $p_T > 5$ GeV."
   ]
  },
  {
   "cell_type": "code",
   "execution_count": null,
   "id": "97ccc3c1-a2dc-4e17-a48d-9f8002989f68",
   "metadata": {},
   "outputs": [],
   "source": []
  },
  {
   "cell_type": "code",
   "execution_count": null,
   "id": "e25e7d61-cf2a-485e-8b17-850cde789e06",
   "metadata": {},
   "outputs": [],
   "source": []
  },
  {
   "cell_type": "markdown",
   "id": "d7af7c5f-3b69-4fc6-bdf3-009c3bae058e",
   "metadata": {},
   "source": [
    "<br><br><br>"
   ]
  },
  {
   "cell_type": "markdown",
   "id": "5ae6fa19-6738-4695-8c2c-004f145f8207",
   "metadata": {
    "jp-MarkdownHeadingCollapsed": true
   },
   "source": [
    "#### Solution"
   ]
  },
  {
   "cell_type": "markdown",
   "id": "49be979a-bb97-4865-90d6-67df3aa4878f",
   "metadata": {},
   "source": [
    "This answer can have the same variety as puzzle 2 because it asks for _any_ particle satisfying a condition, as above."
   ]
  },
  {
   "cell_type": "code",
   "execution_count": null,
   "id": "92c490af-5375-47f0-ad3e-83c06ce42e1e",
   "metadata": {},
   "outputs": [],
   "source": [
    "ak.any(dataset.Electron_pt > 10, axis=PARTICLE) & ak.any(dataset.Muon_pt > 5, axis=PARTICLE)"
   ]
  },
  {
   "cell_type": "markdown",
   "id": "7e8ee230-8910-44e6-8e8c-fdf0ab7193bd",
   "metadata": {},
   "source": [
    "<br><br><br>"
   ]
  },
  {
   "cell_type": "markdown",
   "id": "5cd9edbf-dfb4-4ce2-be10-1e3e6ea771e0",
   "metadata": {
    "jp-MarkdownHeadingCollapsed": true
   },
   "source": [
    "### Awkward puzzle 4"
   ]
  },
  {
   "cell_type": "markdown",
   "id": "4082146c-04af-4a8b-b96d-86fa56f47326",
   "metadata": {},
   "source": [
    "Using [ak.num](https://awkward-array.org/doc/main/reference/generated/ak.num.html), select events with exactly two muons and make separate arrays (`mu1`, `mu2`) of those two muons."
   ]
  },
  {
   "cell_type": "code",
   "execution_count": null,
   "id": "d9ea2f96-3d62-4e9b-afb6-8f65c92744ef",
   "metadata": {},
   "outputs": [],
   "source": []
  },
  {
   "cell_type": "code",
   "execution_count": null,
   "id": "791f91c6-b16e-46af-b59d-6ed85a4a2b61",
   "metadata": {},
   "outputs": [],
   "source": []
  },
  {
   "cell_type": "markdown",
   "id": "ee573c25-2e7a-4e56-9f0d-dfacadeeeb06",
   "metadata": {},
   "source": [
    "<br><br><br>"
   ]
  },
  {
   "cell_type": "markdown",
   "id": "5222f8d7-da6e-4b81-95bf-ce76b5d9525b",
   "metadata": {
    "jp-MarkdownHeadingCollapsed": true
   },
   "source": [
    "#### Solution"
   ]
  },
  {
   "cell_type": "markdown",
   "id": "9a5f1b73-9f2e-4690-b295-9f0bb8ffcd0b",
   "metadata": {},
   "source": [
    "You can use [ak.num](https://awkward-array.org/doc/main/reference/generated/ak.num.html) or the `nMuon` field of the `dataset`."
   ]
  },
  {
   "cell_type": "code",
   "execution_count": null,
   "id": "9721ab3b-1ff9-4c54-b1bc-db497b92252a",
   "metadata": {},
   "outputs": [],
   "source": [
    "selected = dataset[ak.num(dataset.Muon_pt) == 2]"
   ]
  },
  {
   "cell_type": "markdown",
   "id": "57005198-73d0-4a30-90dd-61c9e3bd9e41",
   "metadata": {},
   "source": [
    "Remember that the first axis is `EVENT` and we want all of them, so select `:`, then the second axis is `PARTICLE`."
   ]
  },
  {
   "cell_type": "code",
   "execution_count": null,
   "id": "b695dcec-fb1d-482f-9ef1-a4e3637fe8fb",
   "metadata": {},
   "outputs": [],
   "source": [
    "mu1 = selected.Muon_pt[:, 0]\n",
    "mu2 = selected.Muon_pt[:, 1]"
   ]
  },
  {
   "cell_type": "code",
   "execution_count": null,
   "id": "f67261da-8cb5-4872-9cee-81d3566f1b02",
   "metadata": {},
   "outputs": [],
   "source": [
    "mu1"
   ]
  },
  {
   "cell_type": "code",
   "execution_count": null,
   "id": "eda24848-211f-4b17-9659-fc35017c9e9e",
   "metadata": {},
   "outputs": [],
   "source": [
    "mu2"
   ]
  },
  {
   "cell_type": "markdown",
   "id": "386fcb6a-6121-4603-b322-51a8c3e9058d",
   "metadata": {},
   "source": [
    "<br><br><br>"
   ]
  },
  {
   "cell_type": "markdown",
   "id": "2a12b045-b05c-4c43-8147-7c3582536b46",
   "metadata": {
    "jp-MarkdownHeadingCollapsed": true
   },
   "source": [
    "### Awkward puzzle 5"
   ]
  },
  {
   "cell_type": "markdown",
   "id": "a60f432d-652c-4a9c-8c68-95048a90f876",
   "metadata": {},
   "source": [
    "The `dataset` has separate ragged arrays for each particle attribute, such as `Electron_pt`, `Electron_phi`, `Electron_eta`, `Electron_mass`. It would be nicer to work with as arrays of electron _objects_ with Lorentz vector methods.\n",
    "\n",
    "We can do that with [ak.zip](https://awkward-array.org/doc/main/reference/generated/ak.zip.html) and the [Vector](https://vector.readthedocs.io/) library."
   ]
  },
  {
   "cell_type": "code",
   "execution_count": null,
   "id": "f18e2f0b-0c28-4afd-871d-c725fa957afb",
   "metadata": {},
   "outputs": [],
   "source": [
    "import vector\n",
    "vector.register_awkward()"
   ]
  },
  {
   "cell_type": "code",
   "execution_count": null,
   "id": "e4225371-9f1d-485d-8c19-55b63d526729",
   "metadata": {},
   "outputs": [],
   "source": [
    "electrons = ak.zip({\n",
    "    \"pt\": dataset.Electron_pt,\n",
    "    \"phi\": dataset.Electron_phi,\n",
    "    \"eta\": dataset.Electron_eta,\n",
    "    \"mass\": dataset.Electron_mass,\n",
    "    \"charge\": dataset.Electron_charge,\n",
    "}, with_name=\"Momentum4D\")"
   ]
  },
  {
   "cell_type": "code",
   "execution_count": null,
   "id": "1fcdf513-6d4b-4eaf-a906-d0b6dbe93dd4",
   "metadata": {},
   "outputs": [],
   "source": [
    "muons = ak.zip({\n",
    "    \"pt\": dataset.Muon_pt,\n",
    "    \"phi\": dataset.Muon_phi,\n",
    "    \"eta\": dataset.Muon_eta,\n",
    "    \"mass\": dataset.Muon_mass,\n",
    "    \"charge\": dataset.Muon_charge,\n",
    "}, with_name=\"Momentum4D\")"
   ]
  },
  {
   "cell_type": "markdown",
   "id": "b7d8d402-c73e-453f-a982-8f7dc8334a9e",
   "metadata": {},
   "source": [
    "`rapidity` is one of many methods in the [Vector](https://vector.readthedocs.io/) library."
   ]
  },
  {
   "cell_type": "code",
   "execution_count": null,
   "id": "db4070b3-d303-48e1-87ae-195a20eb87a4",
   "metadata": {},
   "outputs": [],
   "source": [
    "electrons.rapidity"
   ]
  },
  {
   "cell_type": "markdown",
   "id": "b0d1cf3b-ea6c-4958-8d2e-4511f428cd93",
   "metadata": {},
   "source": [
    "The [Vector](https://vector.readthedocs.io/) library also defines some binary operators between particle objects, such as `+`."
   ]
  },
  {
   "cell_type": "code",
   "execution_count": null,
   "id": "75b8cae1-abcb-48dc-8e95-22b2a0f7a73e",
   "metadata": {},
   "outputs": [],
   "source": [
    "electrons + electrons"
   ]
  },
  {
   "cell_type": "markdown",
   "id": "19a8e948-bc9d-4746-aec4-26714571577a",
   "metadata": {},
   "source": [
    "Now you're ready to compute dimuon masses.\n",
    "\n",
    "1. Select events with exactly two muons and put each of those muons in separate arrays, as you did in puzzle 4 (but make them arrays of muon _objects_, not just muon $p_T$).\n",
    "2. For each event, add those muon objects together with `+`.\n",
    "3. Get the `mass` property from the Lorentz-added vectors.\n",
    "\n",
    "It should look like\n",
    "\n",
    "```\n",
    "[87.1,\n",
    " 90.5,\n",
    " 89.2,\n",
    " 18.8,\n",
    " 4.59,\n",
    " 37.2,\n",
    " 90.6,\n",
    " 8.91,\n",
    " 18.1,\n",
    " 27.5,\n",
    " ...,\n",
    " 31.2,\n",
    " 0.762,\n",
    " 14.3,\n",
    " 90.7,\n",
    " 90,\n",
    " 88.6,\n",
    " 88.8,\n",
    " 27.9,\n",
    " 90.5]\n",
    "---------------------\n",
    "type: 85838 * float32\n",
    "```"
   ]
  },
  {
   "cell_type": "code",
   "execution_count": null,
   "id": "73920620-79be-4172-9c89-8ddbec544f54",
   "metadata": {},
   "outputs": [],
   "source": []
  },
  {
   "cell_type": "code",
   "execution_count": null,
   "id": "2239431d-5b6f-4387-8f61-2462bb9a3295",
   "metadata": {},
   "outputs": [],
   "source": []
  },
  {
   "cell_type": "markdown",
   "id": "90069f23-51e9-49ac-becc-e5b9d4b196dc",
   "metadata": {},
   "source": [
    "And maybe plot them."
   ]
  },
  {
   "cell_type": "code",
   "execution_count": null,
   "id": "49a81363-4250-4212-87fa-f832f8cdc5c5",
   "metadata": {},
   "outputs": [],
   "source": [
    "from hist import Hist"
   ]
  },
  {
   "cell_type": "code",
   "execution_count": null,
   "id": "3e45fbb4-f7ef-4d7e-86d2-ae087b540852",
   "metadata": {},
   "outputs": [],
   "source": [
    "def quickplot(num_bins, low, high, array, label=\"\"):\n",
    "    return Hist.new.Reg(num_bins, low, high, label=label).Double().fill(array)"
   ]
  },
  {
   "cell_type": "code",
   "execution_count": null,
   "id": "ae897033-efc8-4804-8128-f644ce393423",
   "metadata": {},
   "outputs": [],
   "source": [
    "quickplot(100, 0, 100, ..., \"mass (GeV)\")"
   ]
  },
  {
   "cell_type": "markdown",
   "id": "6beed8d3-c73f-48a5-94ca-074134c93959",
   "metadata": {},
   "source": [
    "<br><br><br>"
   ]
  },
  {
   "cell_type": "markdown",
   "id": "6e19ff0f-9ae4-4b85-8c77-e204082486d1",
   "metadata": {
    "jp-MarkdownHeadingCollapsed": true
   },
   "source": [
    "#### Solution"
   ]
  },
  {
   "cell_type": "code",
   "execution_count": null,
   "id": "20201049-e848-4af8-b83c-c2e8ee5a2682",
   "metadata": {},
   "outputs": [],
   "source": [
    "selected_muons = muons[ak.num(muons) == 2]"
   ]
  },
  {
   "cell_type": "code",
   "execution_count": null,
   "id": "c75c774d-7319-4644-b5ec-d49fbc6e82ed",
   "metadata": {},
   "outputs": [],
   "source": [
    "result = (selected_muons[:, 0] + selected_muons[:, 1]).mass\n",
    "result"
   ]
  },
  {
   "cell_type": "code",
   "execution_count": null,
   "id": "11f55955-ec6f-47c9-a9df-6fd1c1c9a904",
   "metadata": {},
   "outputs": [],
   "source": [
    "quickplot(100, 0, 100, result, \"mass (GeV)\")"
   ]
  },
  {
   "cell_type": "markdown",
   "id": "6cbf9a15-eb33-4d3b-94ae-5a9c49022ade",
   "metadata": {},
   "source": [
    "<br><br><br>"
   ]
  },
  {
   "cell_type": "markdown",
   "id": "d1274473-7ee5-427f-9377-06634437510c",
   "metadata": {
    "jp-MarkdownHeadingCollapsed": true
   },
   "source": [
    "### Awkward puzzle 6"
   ]
  },
  {
   "cell_type": "markdown",
   "id": "fa320722-b081-4140-b472-6bd9a61cd75c",
   "metadata": {},
   "source": [
    "It's too restrictive to ask for events with exactly two muons, since spurious detector signals can show up as low-momentum fake particles.\n",
    "\n",
    "In general, we want to test all _combinations_ of particles to see if they are consistent with an event topology.\n",
    "\n",
    "To enable this, Awkward Array has functions for generating combinations of objects, [ak.cartesian](https://awkward-array.org/doc/main/reference/generated/ak.cartesian.html) and [ak.combinations](https://awkward-array.org/doc/main/reference/generated/ak.combinations.html)."
   ]
  },
  {
   "cell_type": "markdown",
   "id": "c2b48e25-56b8-4e08-98cb-3191c4537581",
   "metadata": {},
   "source": [
    "<table>\n",
    "    <tr style=\"background: white; text-align: center; font-size: 18pt\">\n",
    "        <td>ak.cartesian</td><td>ak.combinations</td>\n",
    "    </tr>\n",
    "    <tr style=\"background: white\">\n",
    "        <td><img src=\"img/cartoon-cartesian.svg\" width=\"300\"></td>\n",
    "        <td><img src=\"img/cartoon-combinations.svg\" width=\"300\"></td>\n",
    "    </tr>\n",
    "</table>"
   ]
  },
  {
   "cell_type": "markdown",
   "id": "8f0a841a-ac12-428b-be57-5884cda85bac",
   "metadata": {},
   "source": [
    "<br><br><br>"
   ]
  },
  {
   "cell_type": "code",
   "execution_count": null,
   "id": "7f8ddaf8-4325-41ff-b94e-ab0d0d0e4787",
   "metadata": {},
   "outputs": [],
   "source": [
    "numbers = ak.Array([[1, 2, 3], [], [4]])\n",
    "letters = ak.Array([[\"a\", \"b\"], [\"c\"], [\"d\", \"e\"]])\n",
    "\n",
    "ak.cartesian([numbers, letters], axis=1)"
   ]
  },
  {
   "cell_type": "markdown",
   "id": "1a5e01b9-6fff-48da-b439-6f7fa462770a",
   "metadata": {},
   "source": [
    "is equivalent to"
   ]
  },
  {
   "cell_type": "code",
   "execution_count": null,
   "id": "ea121403-007a-4793-b2f7-6e68f67d35c9",
   "metadata": {},
   "outputs": [],
   "source": [
    "for numbers_list, letters_list in zip(numbers, letters):\n",
    "    print(\"[\", end=\"\")\n",
    "    for number in numbers_list:\n",
    "        for letter in letters_list:\n",
    "            print(f\"({number}, {letter}), \", end=\"\")\n",
    "    print(\"]\")"
   ]
  },
  {
   "cell_type": "markdown",
   "id": "ce551e3b-8607-4183-b447-e07bb4b96faa",
   "metadata": {},
   "source": [
    "<br><br><br>"
   ]
  },
  {
   "cell_type": "code",
   "execution_count": null,
   "id": "59585b89-c479-4656-9023-b34b8d3bbcc1",
   "metadata": {},
   "outputs": [],
   "source": [
    "numbers = ak.Array([[1.1, 2.2, 3.3, 4.4], [], [5.5, 6.6]])\n",
    "\n",
    "ak.combinations(numbers, 2, axis=1)"
   ]
  },
  {
   "cell_type": "markdown",
   "id": "3166744b-3688-41a9-a294-c5c2f9d99f5a",
   "metadata": {},
   "source": [
    "is equivalent to"
   ]
  },
  {
   "cell_type": "code",
   "execution_count": null,
   "id": "5ef8931f-f6e8-4ee9-98a0-698729252d1a",
   "metadata": {},
   "outputs": [],
   "source": [
    "for numbers_list in numbers:\n",
    "    print(\"[\", end=\"\")\n",
    "    for i in range(len(numbers_list)):\n",
    "        for j in range(i + 1, len(numbers_list)):\n",
    "            print(f\"({numbers_list[i]}, {numbers_list[j]}), \", end=\"\")\n",
    "    print(\"]\")"
   ]
  },
  {
   "cell_type": "markdown",
   "id": "dde6ba2e-27d1-429e-b5be-8b0ec542b339",
   "metadata": {},
   "source": [
    "<br><br><br>"
   ]
  },
  {
   "cell_type": "markdown",
   "id": "fa09f3d3-c842-4f00-a517-9a8cd203bd48",
   "metadata": {},
   "source": [
    "\"For each event, construct all combinations of 2 muons.\""
   ]
  },
  {
   "cell_type": "code",
   "execution_count": null,
   "id": "19b77a5d-a3a9-4499-8166-bcd6d46cc669",
   "metadata": {},
   "outputs": [],
   "source": [
    "muon_pairs = ak.combinations(muons, 2, axis=PARTICLE)\n",
    "muon_pairs"
   ]
  },
  {
   "cell_type": "markdown",
   "id": "263e8ceb-3a9a-4284-819b-4db7fea2cbd1",
   "metadata": {},
   "source": [
    "\"Get the left and right halves of each pair as separate arrays,\" using [ak.unzip](https://awkward-array.org/doc/main/reference/generated/ak.unzip.html)."
   ]
  },
  {
   "cell_type": "code",
   "execution_count": null,
   "id": "361a9995-ba67-438c-a28c-ac3d3b927c82",
   "metadata": {},
   "outputs": [],
   "source": [
    "mu1, mu2 = ak.unzip(muon_pairs)"
   ]
  },
  {
   "cell_type": "markdown",
   "id": "c12a2dfd-bc9a-4d61-b48d-b3d73a35dcc9",
   "metadata": {},
   "source": [
    "(This could also be done with `mu1 = muon_pairs[\"0\"]` and `mu2 = muon_pairs[\"1\"]`.)"
   ]
  },
  {
   "cell_type": "code",
   "execution_count": null,
   "id": "e7084ada-18d6-489a-becc-2a1aabf9e26a",
   "metadata": {},
   "outputs": [],
   "source": [
    "mu1"
   ]
  },
  {
   "cell_type": "code",
   "execution_count": null,
   "id": "906c12fc-204c-41d8-8bd0-a381691e92bb",
   "metadata": {},
   "outputs": [],
   "source": [
    "mu2"
   ]
  },
  {
   "cell_type": "markdown",
   "id": "2501b98d-61cd-44ae-bf8a-bc68a5334698",
   "metadata": {},
   "source": [
    "\"Compute dimuon masses from these.\""
   ]
  },
  {
   "cell_type": "code",
   "execution_count": null,
   "id": "b56d65db-9bcd-4fd4-b759-0b8595f5baef",
   "metadata": {},
   "outputs": [],
   "source": [
    "dimuon_masses = (mu1 + mu2).mass\n",
    "dimuon_masses"
   ]
  },
  {
   "cell_type": "markdown",
   "id": "3f523179-582a-4a58-b74d-d0b34cde3e7f",
   "metadata": {},
   "source": [
    "Now we plot it, using [ak.flatten](https://awkward-array.org/doc/main/reference/generated/ak.flatten.html) to ignore the boundaries between lists (turn the ragged array into a 1-dimensional array)."
   ]
  },
  {
   "cell_type": "code",
   "execution_count": null,
   "id": "390cd81d-24aa-4957-add9-dc0bd6948a1d",
   "metadata": {},
   "outputs": [],
   "source": [
    "quickplot(100, 0, 100, ak.flatten(dimuon_masses), label=\"mass (GeV)\")"
   ]
  },
  {
   "cell_type": "markdown",
   "id": "7fdcd40f-e25f-4a1d-ad39-5e00e80acf8f",
   "metadata": {},
   "source": [
    "<br><br><br>"
   ]
  },
  {
   "cell_type": "markdown",
   "id": "ba9c979c-35fa-4857-b926-69e5415deeed",
   "metadata": {},
   "source": [
    "To ignore same-charge pairs, we could apply a cut to `mu1` and `mu2`,"
   ]
  },
  {
   "cell_type": "code",
   "execution_count": null,
   "id": "5377df15-f41e-45c3-ad71-1df77ff9d705",
   "metadata": {},
   "outputs": [],
   "source": [
    "cut = mu1.charge != mu2.charge\n",
    "\n",
    "quickplot(100, 0, 100, ak.flatten((mu1[cut] + mu2[cut]).mass), label=\"mass GeV\")"
   ]
  },
  {
   "cell_type": "markdown",
   "id": "c565e417-b7d1-4f70-a994-38e4f5f0d0f2",
   "metadata": {},
   "source": [
    "but we could also avoid it by starting with separate `muon_plus` and `muon_minus` collections:"
   ]
  },
  {
   "cell_type": "code",
   "execution_count": null,
   "id": "8217f183-fed0-4a69-b9fe-e3344b2d8a13",
   "metadata": {},
   "outputs": [],
   "source": [
    "muon_plus = muons[muons.charge > 0]\n",
    "muon_minus = muons[muons.charge < 0]"
   ]
  },
  {
   "cell_type": "markdown",
   "id": "4593d429-d333-458b-b05a-253befef9c66",
   "metadata": {},
   "source": [
    "Use these separate-charge collections, [ak.cartesian](https://awkward-array.org/doc/main/reference/generated/ak.cartesian.html), and [ak.unzip](https://awkward-array.org/doc/main/reference/generated/ak.unzip.html) to make the second plot above."
   ]
  },
  {
   "cell_type": "code",
   "execution_count": null,
   "id": "ac27898a-45ca-40bd-8b39-ed89ee655c4a",
   "metadata": {},
   "outputs": [],
   "source": []
  },
  {
   "cell_type": "code",
   "execution_count": null,
   "id": "a782a156-3719-473a-acd2-3e11be9e9440",
   "metadata": {},
   "outputs": [],
   "source": []
  },
  {
   "cell_type": "markdown",
   "id": "f41ddb92-4902-43c6-b46b-a57ccfe080aa",
   "metadata": {},
   "source": [
    "<br><br><br>"
   ]
  },
  {
   "cell_type": "markdown",
   "id": "65e530e5-98c2-45ef-96e8-b9af9cf78af6",
   "metadata": {
    "jp-MarkdownHeadingCollapsed": true
   },
   "source": [
    "#### Solution"
   ]
  },
  {
   "cell_type": "code",
   "execution_count": null,
   "id": "85d12676-5f5d-4bb3-a228-5e0bfc8c35da",
   "metadata": {},
   "outputs": [],
   "source": [
    "mu1, mu2 = ak.unzip(ak.cartesian([muon_plus, muon_minus]))\n",
    "\n",
    "quickplot(100, 0, 100, ak.flatten((mu1 + mu2).mass), label=\"mass GeV\")"
   ]
  },
  {
   "cell_type": "markdown",
   "id": "b5236207-7cbc-4e8e-81e9-eeea464eda69",
   "metadata": {},
   "source": [
    "<br><br><br>"
   ]
  },
  {
   "cell_type": "markdown",
   "id": "d1cc8677-4927-4e00-8ece-f665172699ce",
   "metadata": {
    "jp-MarkdownHeadingCollapsed": true
   },
   "source": [
    "### Awkward puzzle 7"
   ]
  },
  {
   "cell_type": "markdown",
   "id": "095dda3e-45e3-4a66-84ae-089b39bd8555",
   "metadata": {},
   "source": [
    "Using `muon_plus`, `muon_minus` and"
   ]
  },
  {
   "cell_type": "code",
   "execution_count": null,
   "id": "e731f1f3-4454-43ad-a3f3-7a077083401a",
   "metadata": {},
   "outputs": [],
   "source": [
    "electron_plus = electrons[electrons.charge > 0]\n",
    "electron_minus = electrons[electrons.charge < 0]"
   ]
  },
  {
   "cell_type": "markdown",
   "id": "8377d153-4c08-48e5-bc7d-610c749eac38",
   "metadata": {},
   "source": [
    "find quadruples of $e^+$, $e^-$, $\\mu^+$, $\\mu^-$ (without cuts) and plot a Higgs peak at 125 GeV. Remember to [ak.flatten](https://awkward-array.org/doc/main/reference/generated/ak.flatten.html) the ragged array of masses before plotting."
   ]
  },
  {
   "cell_type": "markdown",
   "id": "62862966-3ce1-4eb5-9b2a-2376f9fa260f",
   "metadata": {},
   "source": [
    "<img src=\"img/higgs-to-four-leptons-diagram.png\" width=\"50%\">"
   ]
  },
  {
   "cell_type": "code",
   "execution_count": null,
   "id": "a5a9c6d5-478a-4579-92ac-01d39d7ccf34",
   "metadata": {},
   "outputs": [],
   "source": []
  },
  {
   "cell_type": "code",
   "execution_count": null,
   "id": "81ccade6-5092-487d-98ec-cfec66833547",
   "metadata": {},
   "outputs": [],
   "source": []
  },
  {
   "cell_type": "markdown",
   "id": "7802fc82-ec13-4ccc-9d10-e3d86a0f03d4",
   "metadata": {},
   "source": [
    "<br><br><br>"
   ]
  },
  {
   "cell_type": "markdown",
   "id": "8aa3847d-4bec-44d9-881e-8a1b2a2238ba",
   "metadata": {
    "jp-MarkdownHeadingCollapsed": true
   },
   "source": [
    "#### Solution 1"
   ]
  },
  {
   "cell_type": "markdown",
   "id": "0e82098c-61ca-4e7a-98a7-d008c2e97036",
   "metadata": {},
   "source": [
    "One way, by combining pairs of pairs:"
   ]
  },
  {
   "cell_type": "code",
   "execution_count": null,
   "id": "28869889-d318-4aac-83eb-b1dce1a90d82",
   "metadata": {},
   "outputs": [],
   "source": [
    "muon_pairs = ak.cartesian([muon_plus, muon_minus])\n",
    "electron_pairs = ak.cartesian([electron_plus, electron_minus])\n",
    "\n",
    "higgs_candidates = ak.cartesian([muon_pairs, electron_pairs])\n",
    "higgs_candidates"
   ]
  },
  {
   "cell_type": "markdown",
   "id": "ee2101a0-7c26-4683-8853-d03ed8043c80",
   "metadata": {},
   "source": [
    "These could be pulled apart with [ak.unzip](https://awkward-array.org/doc/main/reference/generated/ak.unzip.html), but because the tuples are nested within tuples, it's a little easier to access them by direct address.\n",
    "\n",
    "`\"0\"` gets the first field (and `\"1\"` gets the second field) of _every tuple in an array_. This is very different from selecting `0` and `1` without quotes."
   ]
  },
  {
   "cell_type": "code",
   "execution_count": null,
   "id": "9db976e9-9c83-4637-a50c-7f2db3813b4f",
   "metadata": {},
   "outputs": [],
   "source": [
    "mu1 = higgs_candidates[\"0\"][\"0\"]\n",
    "mu2 = higgs_candidates[\"0\"][\"1\"]\n",
    "e1 = higgs_candidates[\"1\"][\"0\"]\n",
    "e2 = higgs_candidates[\"1\"][\"1\"]"
   ]
  },
  {
   "cell_type": "code",
   "execution_count": null,
   "id": "eead35d6-c87f-41aa-8a39-413dcc2d786d",
   "metadata": {},
   "outputs": [],
   "source": [
    "quickplot(150, 0, 150, ak.flatten((mu1 + mu2 + e1 + e2).mass))"
   ]
  },
  {
   "cell_type": "markdown",
   "id": "076ef62a-c1dc-48e6-97ca-bb4f250ca909",
   "metadata": {},
   "source": [
    "<br><br><br>"
   ]
  },
  {
   "cell_type": "markdown",
   "id": "f4de1930-1d4a-4001-a45c-964d2c2b7fe1",
   "metadata": {
    "jp-MarkdownHeadingCollapsed": true
   },
   "source": [
    "#### Solution 2"
   ]
  },
  {
   "cell_type": "markdown",
   "id": "1ea37474-752e-4af7-ba4b-9984e264ff44",
   "metadata": {},
   "source": [
    "But if we don't need to address the dimuons and dielectrons directly (to perform cuts on them), we could just use [ak.cartesian](https://awkward-array.org/doc/main/reference/generated/ak.cartesian.html) to make quadruples directly."
   ]
  },
  {
   "cell_type": "code",
   "execution_count": null,
   "id": "741f6be8-878d-4332-a630-e0205a5a448d",
   "metadata": {},
   "outputs": [],
   "source": [
    "quadruples = ak.cartesian([muon_plus, muon_minus, electron_plus, electron_minus])\n",
    "quadruples"
   ]
  },
  {
   "cell_type": "markdown",
   "id": "ecd5e604-d757-4cd9-9859-c1030694c241",
   "metadata": {},
   "source": [
    "Doing it this way, they're not nested, and one [ak.unzip](https://awkward-array.org/doc/main/reference/generated/ak.unzip.html) will pull them apart."
   ]
  },
  {
   "cell_type": "markdown",
   "id": "91870c62-9a3b-421c-be7f-65466b317727",
   "metadata": {},
   "source": [
    "<br><br><br>"
   ]
  },
  {
   "cell_type": "markdown",
   "id": "f042e086-ed11-428e-a99c-eb40deac968d",
   "metadata": {
    "jp-MarkdownHeadingCollapsed": true
   },
   "source": [
    "### Awkward puzzle 8"
   ]
  },
  {
   "cell_type": "markdown",
   "id": "60f41326-0357-4fdc-b17b-f3497bbd950c",
   "metadata": {},
   "source": [
    "Using `muon_plus` and `muon_minus`, find quadruples of $\\mu^+$, $\\mu^-$, $\\mu^+$, $\\mu^-$ (without cuts) and plot a Higgs peak.\n",
    "\n",
    "Very important: don't include the same muon twice! An individual muon can't be the decay product of one Z _and_ the other Z."
   ]
  },
  {
   "cell_type": "markdown",
   "id": "d60a900c-1a09-4d12-a6db-216017a68964",
   "metadata": {},
   "source": [
    "<img src=\"img/higgs-to-four-leptons-diagram-2.png\" width=\"50%\">"
   ]
  },
  {
   "cell_type": "code",
   "execution_count": null,
   "id": "d7e3a6b7-fe87-4394-a299-e1a020355a00",
   "metadata": {},
   "outputs": [],
   "source": []
  },
  {
   "cell_type": "code",
   "execution_count": null,
   "id": "d557e221-ae20-47ab-9c60-cec3a29e5246",
   "metadata": {},
   "outputs": [],
   "source": []
  },
  {
   "cell_type": "markdown",
   "id": "c1be83b3-28de-4d6b-89a4-1bae0d11c42f",
   "metadata": {},
   "source": [
    "<br><br><br>"
   ]
  },
  {
   "cell_type": "markdown",
   "id": "cee5ea39-863a-411b-8df8-24a4fb34cfd1",
   "metadata": {
    "jp-MarkdownHeadingCollapsed": true
   },
   "source": [
    "#### Solution"
   ]
  },
  {
   "cell_type": "code",
   "execution_count": null,
   "id": "3b446b46-b1f6-496f-a370-e6f4c8c0360d",
   "metadata": {},
   "outputs": [],
   "source": [
    "muon_pairs = ak.cartesian([muon_plus, muon_minus])\n",
    "\n",
    "pairs_of_muon_pairs = ak.combinations(muon_pairs, 2)\n",
    "\n",
    "mu1 = pairs_of_muon_pairs[\"0\"][\"0\"]\n",
    "mu2 = pairs_of_muon_pairs[\"0\"][\"1\"]\n",
    "mu3 = pairs_of_muon_pairs[\"1\"][\"0\"]\n",
    "mu4 = pairs_of_muon_pairs[\"1\"][\"1\"]"
   ]
  },
  {
   "cell_type": "code",
   "execution_count": null,
   "id": "c6fc1e43-3b1c-4b2f-ad7f-f51126e8f871",
   "metadata": {},
   "outputs": [],
   "source": [
    "quickplot(150, 0, 150, ak.flatten((mu1 + mu2 + mu3 + mu4).mass))"
   ]
  },
  {
   "cell_type": "markdown",
   "id": "39dcab29-dc7f-4981-b888-d4490c0d7710",
   "metadata": {},
   "source": [
    "<br><br><br>"
   ]
  },
  {
   "cell_type": "markdown",
   "id": "9f441e07-7724-4d32-9092-b3ac45c80ca9",
   "metadata": {
    "jp-MarkdownHeadingCollapsed": true
   },
   "source": [
    "### Awkward puzzle 9"
   ]
  },
  {
   "cell_type": "markdown",
   "id": "a14fa1e3-5e2b-473c-9cc0-748bd1905869",
   "metadata": {},
   "source": [
    "Another common pattern is to\n",
    "\n",
    "1. expand some data with combinatorics,\n",
    "2. compute something on the pairs/triples/quadruples of particles,\n",
    "3. perform a reduction over the computed quantity.\n",
    "\n",
    "For example, if we need to match objects with $\\Delta R$.\n",
    "\n",
    "[ak.cartesian](https://awkward-array.org/doc/main/reference/generated/ak.cartesian.html) has a `nested` argument to ask for combinatorics to be grouped by one (or more) of the input arrays."
   ]
  },
  {
   "cell_type": "code",
   "execution_count": null,
   "id": "f112f053-9e7d-4c16-b07f-f1b8dd8209a1",
   "metadata": {},
   "outputs": [],
   "source": [
    "numbers = ak.Array([[1, 2, 3], [], [4]])\n",
    "letters = ak.Array([[\"a\", \"b\"], [\"c\"], [\"d\", \"e\"]])\n",
    "\n",
    "ak.cartesian([numbers, letters], axis=1)"
   ]
  },
  {
   "cell_type": "code",
   "execution_count": null,
   "id": "22274683-3e1d-47d8-921f-9e22b0cc9efd",
   "metadata": {},
   "outputs": [],
   "source": [
    "ak.cartesian([numbers, letters], axis=1, nested=True)"
   ]
  },
  {
   "cell_type": "markdown",
   "id": "cf4b6e67-87e6-4be2-9a22-8580984ab506",
   "metadata": {},
   "source": [
    "<br><br><br>"
   ]
  },
  {
   "cell_type": "markdown",
   "id": "5d3d6c26-102a-4653-8dbd-d0af0228c125",
   "metadata": {},
   "source": [
    "Although it isn't physically relevant in this sample, let's try computing $\\Delta R$ between all electrons and muons."
   ]
  },
  {
   "cell_type": "code",
   "execution_count": null,
   "id": "298c0e13-7f42-45e8-bfca-08f4050a94e1",
   "metadata": {},
   "outputs": [],
   "source": [
    "e_mu_pairs = ak.cartesian([electrons, muons], nested=True)"
   ]
  },
  {
   "cell_type": "code",
   "execution_count": null,
   "id": "efc4bf09-8f10-43a2-b645-113dc759bdea",
   "metadata": {},
   "outputs": [],
   "source": [
    "e_grouped, mu_grouped = ak.unzip(e_mu_pairs)"
   ]
  },
  {
   "cell_type": "code",
   "execution_count": null,
   "id": "da2a14a6-2244-4c20-afb1-d2ae3383a6d2",
   "metadata": {},
   "outputs": [],
   "source": [
    "e_grouped"
   ]
  },
  {
   "cell_type": "code",
   "execution_count": null,
   "id": "edb686cb-b70b-4e09-8f38-8f3b2750be43",
   "metadata": {},
   "outputs": [],
   "source": [
    "mu_grouped"
   ]
  },
  {
   "cell_type": "markdown",
   "id": "13f2ffe6-b005-4f9a-ba8e-e2b92b472125",
   "metadata": {},
   "source": [
    "Notice the `299973 * var * var * Momentum4D`. We've turned two ragged arrays of particles into ragged-ragged arrays.\n",
    "\n",
    "* `axis=0` ranges over events.\n",
    "* `axis=1` ranges over electrons (the first of the electron-muon pairs).\n",
    "* `axis=2` ranges over muons (the second of the electron-muon pairs).\n",
    "\n",
    "Perhaps we should extend our set of named axes."
   ]
  },
  {
   "cell_type": "code",
   "execution_count": null,
   "id": "82cab2a0-058f-4daf-9941-9a2fdbec06c5",
   "metadata": {},
   "outputs": [],
   "source": [
    "EVENT = 0\n",
    "PARTICLE = 1\n",
    "PARTICLE2 = 2"
   ]
  },
  {
   "cell_type": "markdown",
   "id": "67f31903-61d8-4669-999a-d072a9806eec",
   "metadata": {},
   "source": [
    "Now when we use [Vector](https://vector.readthedocs.io/) to compute $\\Delta R$, the $\\Delta R$ values are also doubly-nested, one for each muon in lists for each electron."
   ]
  },
  {
   "cell_type": "code",
   "execution_count": null,
   "id": "44c081bd-90ae-4945-8aa5-195c2e9dc605",
   "metadata": {},
   "outputs": [],
   "source": [
    "deltaR = e_grouped.deltaR(mu_grouped)\n",
    "deltaR"
   ]
  },
  {
   "cell_type": "markdown",
   "id": "935143d5-010c-4d32-88f0-15e9944b8578",
   "metadata": {},
   "source": [
    "Find the one muon that is closest in $\\Delta R$ to each electron (or `None` if the event has no muons). Use [ak.argmin](https://awkward-array.org/doc/main/reference/generated/ak.argmin.html) with `keepdims=True`.\n",
    "\n",
    "It should look like this:\n",
    "\n",
    "```\n",
    "[[],\n",
    " [None, None, None, None],\n",
    " [None, None],\n",
    " [{pt: 23.5, phi: -0.307, eta: -0.248, mass: 0.106, charge: -1}],\n",
    " [None, None, None, None],\n",
    " [{pt: 47, phi: -1.15, eta: -0.119, mass: 0.106, charge: 1}],\n",
    " [{pt: 4.45, phi: 1.12, eta: -0.986, mass: 0.106, charge: 1}],\n",
    " [None],\n",
    " [None, None, None, None],\n",
    " [],\n",
    " ...,\n",
    " [{pt: 37.2, phi: -0.875, eta: 1.1, mass: 0.106, charge: -1}, {...}],\n",
    " [{pt: 24, phi: 1.38, eta: 0.421, mass: 0.106, charge: -1}],\n",
    " [],\n",
    " [None, None, None],\n",
    " [],\n",
    " [{pt: 43.1, phi: 2.27, eta: -0.162, mass: 0.106, charge: -1}],\n",
    " [],\n",
    " [None, None],\n",
    " [None, None]]\n",
    "---------------------------------------------------------------------\n",
    "type: 299973 * var * ?Momentum4D[\n",
    "    pt: float32,\n",
    "    phi: float32,\n",
    "    eta: float32,\n",
    "    mass: float32,\n",
    "    charge: int32\n",
    "]\n",
    "```"
   ]
  },
  {
   "cell_type": "code",
   "execution_count": null,
   "id": "0fd56521-5e3a-4f5f-897d-3ef0e51f32a7",
   "metadata": {},
   "outputs": [],
   "source": []
  },
  {
   "cell_type": "code",
   "execution_count": null,
   "id": "4305089e-c350-4465-b839-1451f430a832",
   "metadata": {},
   "outputs": [],
   "source": []
  },
  {
   "cell_type": "markdown",
   "id": "6a7180b3-dbc6-4941-9071-3ddf8fb43439",
   "metadata": {},
   "source": [
    "<br><br><br>"
   ]
  },
  {
   "cell_type": "markdown",
   "id": "58ce6c77-37ad-482b-9cef-3c9471651f92",
   "metadata": {
    "jp-MarkdownHeadingCollapsed": true
   },
   "source": [
    "#### Solution"
   ]
  },
  {
   "cell_type": "code",
   "execution_count": null,
   "id": "744fcd8b-1fac-4570-bcb7-c99798425bcc",
   "metadata": {},
   "outputs": [],
   "source": [
    "EVENT = 0\n",
    "PARTICLE = 1\n",
    "PARTICLE2 = 2"
   ]
  },
  {
   "cell_type": "code",
   "execution_count": null,
   "id": "96042df9-8d52-415f-bbf3-b14e743e5489",
   "metadata": {},
   "outputs": [],
   "source": [
    "e_mu_pairs = ak.cartesian([electrons, muons], nested=True)\n",
    "e_grouped, mu_grouped = ak.unzip(e_mu_pairs)\n",
    "deltaR = e_grouped.deltaR(mu_grouped)"
   ]
  },
  {
   "cell_type": "code",
   "execution_count": null,
   "id": "92c7c940-c35c-4828-815c-5b56b8be672a",
   "metadata": {},
   "outputs": [],
   "source": [
    "mu_grouped[ak.argmin(deltaR, axis=PARTICLE2, keepdims=True)][:, :, 0]"
   ]
  },
  {
   "cell_type": "code",
   "execution_count": null,
   "id": "9b69b03d-5701-4675-9029-f134af111bbc",
   "metadata": {},
   "outputs": [],
   "source": []
  },
  {
   "cell_type": "code",
   "execution_count": null,
   "id": "d88d5388-777a-476c-861b-ac8008d97a19",
   "metadata": {},
   "outputs": [],
   "source": []
  },
  {
   "cell_type": "markdown",
   "id": "c9323a50-10a1-4034-8d6e-603c76d0e8b7",
   "metadata": {},
   "source": [
    "<br><br><br>"
   ]
  }
 ],
 "metadata": {
  "kernelspec": {
   "display_name": "Python 3 (ipykernel)",
   "language": "python",
   "name": "python3"
  },
  "language_info": {
   "codemirror_mode": {
    "name": "ipython",
    "version": 3
   },
   "file_extension": ".py",
   "mimetype": "text/x-python",
   "name": "python",
   "nbconvert_exporter": "python",
   "pygments_lexer": "ipython3",
   "version": "3.13.3"
  }
 },
 "nbformat": 4,
 "nbformat_minor": 5
}
