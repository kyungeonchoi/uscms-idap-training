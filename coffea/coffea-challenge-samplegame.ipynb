{
 "cells": [
  {
   "cell_type": "markdown",
   "metadata": {},
   "source": [
    "# The sample guessing game\n",
    "In this game, we analyze 6 files, `sample[0-6].root` that are each a small 500k event sample of a CMS NanoAOD dataset.  All generator-level branches have been removed.  Your task is to figure out which file came from which dataset.  To make it a bit easier, here are the 6 possible datasets:\n",
    "\n",
    "   * `DY2JetsToLL_M-50_TuneCP5_13TeV-madgraphMLM-pythia8`, producing $Z(\\to \\ell\\ell)+2j$ events via QCD processes;\n",
    "   * `ST_t-channel_4f_leptonDecays_TuneCP5_PSweights_13TeV-amcatnlo-pythia8`, producing single-top events through W boson exchange between a light and $b$ quark, where the $W$ boson from the top decay itself decays leptonically;\n",
    "   * `GluGluHToWWTo2L2Nu_M125_13TeV_powheg2_JHUGenV714_pythia8`, producing Higgs boson events through gluon fusion, where the Higgs boson decays via $H\\to WW^{*}\\to 2\\ell2\\nu$;\n",
    "   * `GluGluHToZZTo2L2Q_M125_13TeV_powheg2_JHUGenV7011_pythia8`, producing Higgs boson events through gluon fusion, where the Higgs boson decays via $H\\to ZZ^{*}\\to 2\\ell2q$;\n",
    "   * `TTTo2L2Nu_TuneCP5_13TeV-powheg-pythia8`, producing di-top events, where both $W$ bosons from the top quark decays must decay leptonically; and\n",
    "   * `WWTo2L2Nu_NNPDF31_TuneCP5_13TeV-powheg-pythia8`, producing WW diboson events, where both W bosons decay leptonically $W\\to \\ell\\nu$.\n",
    "   \n",
    "In all cases, the lepton can be any flavor, $\\ell\\in\\{e,\\mu,\\tau\\}$.  All 6 datasets were produced with the `RunIIAutumn18NanoAODv7-Nano02Apr2020_102X_upgrade2018_realistic_v21` conditions tag."
   ]
  },
  {
   "cell_type": "code",
   "execution_count": null,
   "metadata": {
    "tags": []
   },
   "outputs": [],
   "source": [
    "import numpy as np\n",
    "import awkward as ak\n",
    "import matplotlib.pyplot as plt\n",
    "\n",
    "import dask\n",
    "import hist\n",
    "from hist import Hist\n",
    "from coffea.nanoevents import NanoEventsFactory"
   ]
  },
  {
   "cell_type": "code",
   "execution_count": null,
   "metadata": {
    "tags": []
   },
   "outputs": [],
   "source": [
    "prefix = 'root://xcache//store/user/ncsmith/samplegame/'\n",
    "samples = [\n",
    "    NanoEventsFactory.from_root({prefix + \"sample%d.root\" % i: \"Events\"}, mode=\"virtual\",).events()\n",
    "    for i in range(6)\n",
    "]"
   ]
  },
  {
   "cell_type": "markdown",
   "metadata": {},
   "source": [
    "Here's an example of plotting all 6 samples together for one variable (here `Jet.pt`)\n",
    "Let your physics intuition guide you, and good luck!"
   ]
  },
  {
   "cell_type": "code",
   "execution_count": null,
   "metadata": {
    "tags": []
   },
   "outputs": [],
   "source": [
    "h = (\n",
    "    Hist.new\n",
    "    .IntCat(range(6), label=\"Sample\")\n",
    "    .Reg(100, 0, 500, label=\"Jet $p_T$\")\n",
    "    .Double()\n",
    ")\n",
    "for i, sample in enumerate(samples):\n",
    "    h.fill(i, ak.flatten(sample.Jet.pt))\n",
    "\n",
    "fig, ax = plt.subplots()\n",
    "h.plot1d(ax=ax)\n",
    "ax.set_yscale(\"log\")\n",
    "ax.legend(title=\"Sample\")"
   ]
  }
 ],
 "metadata": {
  "kernelspec": {
   "display_name": "Python 3 (ipykernel)",
   "language": "python",
   "name": "python3"
  },
  "language_info": {
   "codemirror_mode": {
    "name": "ipython",
    "version": 3
   },
   "file_extension": ".py",
   "mimetype": "text/x-python",
   "name": "python",
   "nbconvert_exporter": "python",
   "pygments_lexer": "ipython3",
   "version": "3.12.10"
  }
 },
 "nbformat": 4,
 "nbformat_minor": 4
}
