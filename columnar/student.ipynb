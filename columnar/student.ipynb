{
 "cells": [
  {
   "cell_type": "markdown",
   "id": "ffc8c89d-bb08-4223-ae79-4af92889b332",
   "metadata": {},
   "source": [
    "## Puzzles"
   ]
  },
  {
   "cell_type": "markdown",
   "id": "0fdbc45b-c340-4560-88a2-2b16e6c2078e",
   "metadata": {},
   "source": [
    "Run the `piplite` cell only if you're on JupyterLite."
   ]
  },
  {
   "cell_type": "code",
   "execution_count": null,
   "id": "b49c483c-6506-4000-8751-f34030c7bc4a",
   "metadata": {},
   "outputs": [],
   "source": [
    "import piplite\n",
    "await piplite.install(\"awkward==2.5.0\")\n",
    "await piplite.install(\"hist\")\n",
    "await piplite.install(\"uproot==5.3.13\")\n",
    "await piplite.install(\"vector\")"
   ]
  },
  {
   "cell_type": "code",
   "execution_count": null,
   "id": "f4c5adeb-e2ee-4fb4-9abf-17ce6d1f7bdf",
   "metadata": {},
   "outputs": [],
   "source": [
    "import zlib\n",
    "import numpy as np\n",
    "import matplotlib.pyplot as plt\n",
    "import matplotlib.image\n",
    "import awkward as ak\n",
    "from hist import Hist\n",
    "import uproot\n",
    "import vector\n",
    "vector.register_awkward()"
   ]
  },
  {
   "cell_type": "markdown",
   "id": "ca660604-f847-418a-b9a0-9d7e80c3c012",
   "metadata": {},
   "source": [
    "<br><br><br>"
   ]
  },
  {
   "cell_type": "markdown",
   "id": "e368e23d-7fc2-4f8f-89f3-9dc6451e130f",
   "metadata": {},
   "source": [
    "### NumPy puzzle 1"
   ]
  },
  {
   "cell_type": "code",
   "execution_count": null,
   "id": "d0f6c22d-ce12-40e8-9ebb-a29262d57f4f",
   "metadata": {},
   "outputs": [],
   "source": [
    "array3d = np.arange(2 * 3 * 5).reshape(2, 3, 5)"
   ]
  },
  {
   "cell_type": "markdown",
   "id": "9e8a69e2-77ca-4771-94ad-649edee52470",
   "metadata": {},
   "source": [
    "Write a slice the selects these elements:\n",
    "\n",
    "<img src=\"img/array3d-highlight2.svg\" width=\"25%\">"
   ]
  },
  {
   "cell_type": "code",
   "execution_count": null,
   "id": "3b1c2f20-3aa4-4232-9325-adcfecdadc18",
   "metadata": {},
   "outputs": [],
   "source": []
  },
  {
   "cell_type": "code",
   "execution_count": null,
   "id": "82c52da7-5bfd-4f7c-8f09-04f03d268f2b",
   "metadata": {},
   "outputs": [],
   "source": []
  },
  {
   "cell_type": "code",
   "execution_count": null,
   "id": "43556394-56ce-4d94-a722-96dbd6757b15",
   "metadata": {},
   "outputs": [],
   "source": []
  },
  {
   "cell_type": "markdown",
   "id": "1a7127f4-2029-4216-86de-7474eba2ac9e",
   "metadata": {},
   "source": [
    "<br><br><br>"
   ]
  },
  {
   "cell_type": "markdown",
   "id": "b0dd5c8a-d287-4ef2-83bc-eb404c17a5ab",
   "metadata": {},
   "source": [
    "### NumPy puzzle 2"
   ]
  },
  {
   "cell_type": "markdown",
   "id": "f2ff9670-e869-444c-a81f-54b45fc3dc7d",
   "metadata": {},
   "source": [
    "Compute the size of the spaces between consecutive elements in the following array."
   ]
  },
  {
   "cell_type": "code",
   "execution_count": null,
   "id": "b288fa59-dea8-4f48-a0c1-1e4d1527be62",
   "metadata": {},
   "outputs": [],
   "source": [
    "array = np.array([1.1, 2.2, 3.3, 4.4, 5.5, 6.6, 7.7, 8.8, 9.9])"
   ]
  },
  {
   "cell_type": "markdown",
   "id": "a313f8cd-7f1c-45c5-93dd-eb62693cab28",
   "metadata": {},
   "source": [
    "**Hint:**\n",
    "\n",
    "<img src=\"img/flat-operation.svg\" width=\"40%\"><img src=\"img/shifted-operation.svg\" width=\"40%\">"
   ]
  },
  {
   "cell_type": "code",
   "execution_count": null,
   "id": "00336168-624e-435f-ad9f-c6621e868a18",
   "metadata": {},
   "outputs": [],
   "source": []
  },
  {
   "cell_type": "code",
   "execution_count": null,
   "id": "a43f8915-08de-41e9-9a10-404ce8981168",
   "metadata": {},
   "outputs": [],
   "source": []
  },
  {
   "cell_type": "code",
   "execution_count": null,
   "id": "df6d1ca5-0316-4e83-9de9-7dc56627113f",
   "metadata": {},
   "outputs": [],
   "source": []
  },
  {
   "cell_type": "markdown",
   "id": "34ed2f47-6369-48d6-ae8d-33392f2380a3",
   "metadata": {},
   "source": [
    "<br><br><br>"
   ]
  },
  {
   "cell_type": "markdown",
   "id": "79b2b0a6-b73a-49d4-b7d4-b65dd514e8af",
   "metadata": {},
   "source": [
    "### NumPy puzzle 3"
   ]
  },
  {
   "cell_type": "markdown",
   "id": "95356159-31c9-469a-a656-c2697748d668",
   "metadata": {},
   "source": [
    "Compute the length of this curve.\n",
    "\n",
    "<img src=\"img/length-by-segment.svg\" width=\"50%\">"
   ]
  },
  {
   "cell_type": "code",
   "execution_count": null,
   "id": "f2bd857b-6287-4ab9-a2a1-f8e292d29aa9",
   "metadata": {},
   "outputs": [],
   "source": [
    "t = np.linspace(0, 2*np.pi, 10000)\n",
    "x = np.sin(3*t)\n",
    "y = np.sin(4*t)"
   ]
  },
  {
   "cell_type": "code",
   "execution_count": null,
   "id": "e204d854-c148-4fbd-8a16-8e547f396000",
   "metadata": {},
   "outputs": [],
   "source": []
  },
  {
   "cell_type": "code",
   "execution_count": null,
   "id": "6cb1b0ec-7eec-4dc2-9a9c-61be4cfece96",
   "metadata": {},
   "outputs": [],
   "source": []
  },
  {
   "cell_type": "code",
   "execution_count": null,
   "id": "db28770e-419a-4c88-9c33-c9538347168c",
   "metadata": {},
   "outputs": [],
   "source": []
  },
  {
   "cell_type": "markdown",
   "id": "e46462a5-f837-4b63-b581-77e6e3156c3e",
   "metadata": {},
   "source": [
    "<br><br><br>"
   ]
  },
  {
   "cell_type": "markdown",
   "id": "e739b908-1f2f-4d48-b088-f929c45a6a6a",
   "metadata": {},
   "source": [
    "### NumPy puzzle 4"
   ]
  },
  {
   "cell_type": "markdown",
   "id": "37f68f11-57cf-4ffc-a048-adddf125702e",
   "metadata": {},
   "source": [
    "Scale this image down by a factor of 64 on both sides, using only [np.reshape](https://numpy.org/doc/stable/reference/generated/numpy.reshape.html), [np.mean](https://numpy.org/doc/stable/reference/generated/numpy.mean.html), and [np.ndarray.astype](https://numpy.org/doc/stable/reference/generated/numpy.ndarray.astype.html)."
   ]
  },
  {
   "cell_type": "code",
   "execution_count": null,
   "id": "b5734d1f-ec2a-47c3-8b0f-0cf99e488b35",
   "metadata": {},
   "outputs": [],
   "source": [
    "image = matplotlib.image.imread(\"data/sun-shines-in-CMS.jpg\")\n",
    "plt.imshow(image);"
   ]
  },
  {
   "cell_type": "markdown",
   "id": "a8b7e894-d234-4c81-a317-f47c694269c4",
   "metadata": {},
   "source": [
    "The current shape is"
   ]
  },
  {
   "cell_type": "code",
   "execution_count": null,
   "id": "df1015b4-bdc7-4c9b-b572-5a6f830643c2",
   "metadata": {},
   "outputs": [],
   "source": [
    "image.shape"
   ]
  },
  {
   "cell_type": "markdown",
   "id": "e090b467-b91c-4f8d-b83c-90431a763d95",
   "metadata": {},
   "source": [
    "1920 rows, 2560 columns, and the third axis is for (red, green, blue), all `np.uint8`.\n",
    "\n",
    "Your strategy should be to reshape the array, such that the dimension of length `1920` becomes two new dimensions of length `1920 // 64` and `64` and the dimension of length `2560` becomes two new dimensions of length `2560 // 64` and `64`. Then average over each of the dimensions of length `64`.\n",
    "\n",
    "The shape should change as\n",
    "\n",
    "$$\\left(1920, 2560, 3\\right) \\to \\left(\\frac{1920}{64}, 64, \\frac{2560}{64}, 64, 3\\right) \\to \\left(\\frac{1920}{64}, \\frac{2560}{64}, 3\\right)$$\n",
    "\n",
    "and then you need to turn the floating-point dtype back into unsigned 8-bit integers with [np.ndarray.astype](https://numpy.org/doc/stable/reference/generated/numpy.ndarray.astype.html)."
   ]
  },
  {
   "cell_type": "code",
   "execution_count": null,
   "id": "d04e1899-5597-4f5b-bc21-668bd92aaf34",
   "metadata": {},
   "outputs": [],
   "source": []
  },
  {
   "cell_type": "code",
   "execution_count": null,
   "id": "ec23429e-5094-4099-9a23-fe772971349a",
   "metadata": {},
   "outputs": [],
   "source": []
  },
  {
   "cell_type": "code",
   "execution_count": null,
   "id": "9ab6b500-b343-4180-a605-992d1196424b",
   "metadata": {},
   "outputs": [],
   "source": []
  },
  {
   "cell_type": "markdown",
   "id": "e4c08494-ae99-4bbd-b7fd-62a5a3e54f00",
   "metadata": {},
   "source": [
    "<br><br><br>"
   ]
  },
  {
   "cell_type": "markdown",
   "id": "67cfd1f4-2a3b-4549-aeb7-def030f95b7e",
   "metadata": {},
   "source": [
    "### NumPy puzzle 5"
   ]
  },
  {
   "cell_type": "code",
   "execution_count": null,
   "id": "f9651c49-d954-4eae-9efd-d33d0b291207",
   "metadata": {},
   "outputs": [],
   "source": [
    "with open(\"data/SMHiggsToZZTo4L.root\", \"rb\") as file:\n",
    "    file.seek(42104123)\n",
    "    compressed_data = file.read(14718)\n",
    "    uncompressed_data = uncompressed_data = zlib.decompress(compressed_data)\n",
    "    array_of_uint8 = np.frombuffer(uncompressed_data, np.uint8, 12524)"
   ]
  },
  {
   "cell_type": "markdown",
   "id": "6bc3fe67-dfef-4446-b45c-ef1d5544d9db",
   "metadata": {},
   "source": [
    "To fix the endianness, you'll need to reverse the order of bytes _in groups of 4_.\n",
    "\n",
    "<img src=\"img/big-little-endian.svg\" width=\"65%\">\n",
    "\n",
    "Fix the endianness with only [np.reshape](https://numpy.org/doc/stable/reference/generated/numpy.reshape.html) and a slice."
   ]
  },
  {
   "cell_type": "code",
   "execution_count": null,
   "id": "38ccce1c-dee9-48af-98c0-7ac32bc80761",
   "metadata": {},
   "outputs": [],
   "source": [
    "byte_swapped = ???"
   ]
  },
  {
   "cell_type": "code",
   "execution_count": null,
   "id": "fc88b57b-8e0b-46b0-95a3-4f3938b17d92",
   "metadata": {},
   "outputs": [],
   "source": [
    "byte_swapped.view(np.float32)"
   ]
  },
  {
   "cell_type": "code",
   "execution_count": null,
   "id": "0c9c19d0-44ed-4815-9734-b134c8d7bf50",
   "metadata": {},
   "outputs": [],
   "source": []
  },
  {
   "cell_type": "code",
   "execution_count": null,
   "id": "407f638e-49a4-41d2-87ac-635a7061b5c7",
   "metadata": {},
   "outputs": [],
   "source": []
  },
  {
   "cell_type": "code",
   "execution_count": null,
   "id": "cc51632a-f77e-4b4f-ac2b-c8c15832d8a7",
   "metadata": {},
   "outputs": [],
   "source": []
  },
  {
   "cell_type": "markdown",
   "id": "72ad98a1-38fe-4e36-b426-63f546aa9c87",
   "metadata": {},
   "source": [
    "<br><br><br>"
   ]
  },
  {
   "cell_type": "markdown",
   "id": "fdc552dc-0182-4bb7-a0bb-6edc816ecaee",
   "metadata": {},
   "source": [
    "### Awkward puzzle 1"
   ]
  },
  {
   "cell_type": "code",
   "execution_count": null,
   "id": "ead7e633-6691-4039-a165-ad0a29bfaddb",
   "metadata": {},
   "outputs": [],
   "source": [
    "with uproot.open(\"data/SMHiggsToZZTo4L.root\", handler=uproot.MemmapSource) as file:\n",
    "    dataset = file[\"Events\"].arrays()"
   ]
  },
  {
   "cell_type": "code",
   "execution_count": null,
   "id": "fd28e5f6-e3a0-42ff-a105-6112a1fd4ded",
   "metadata": {},
   "outputs": [],
   "source": [
    "EVENT = 0\n",
    "PARTICLE = 1"
   ]
  },
  {
   "cell_type": "markdown",
   "id": "caa842b0-5c68-4292-9779-0f1f65b657d5",
   "metadata": {},
   "source": [
    "Are the muon $p_T$ values sorted within each event? That is, is it true that\n",
    "\n",
    "```python\n",
    "dataset.Muon_pt[i, j] > dataset.Muon_pt[i, j + 1]\n",
    "```\n",
    "\n",
    "for all `i` and `j`? Perform a calculation that proves it.\n",
    "\n",
    "<details>\n",
    "    <summary style=\"font-weight: bold;\">Hint!</summary>\n",
    "\n",
    "<p>Think about NumPy puzzle 2.</p>\n",
    "\n",
    "</details>"
   ]
  },
  {
   "cell_type": "code",
   "execution_count": null,
   "id": "52ffd787-21a3-4f3b-97d2-df2cd659dea9",
   "metadata": {},
   "outputs": [],
   "source": []
  },
  {
   "cell_type": "code",
   "execution_count": null,
   "id": "922d886f-8557-4461-b8ff-b3509b710371",
   "metadata": {},
   "outputs": [],
   "source": []
  },
  {
   "cell_type": "code",
   "execution_count": null,
   "id": "a2823b23-fd30-46c3-b439-11ad56812485",
   "metadata": {},
   "outputs": [],
   "source": []
  },
  {
   "cell_type": "markdown",
   "id": "5d0afe66-b586-44b3-b818-490e84f6e1d2",
   "metadata": {},
   "source": [
    "<br><br><br>"
   ]
  },
  {
   "cell_type": "markdown",
   "id": "69c16c2b-a1c8-4c17-890d-9f8270bfa8c9",
   "metadata": {},
   "source": [
    "### Awkward puzzle 2"
   ]
  },
  {
   "cell_type": "code",
   "execution_count": null,
   "id": "da2ba534-198b-487b-8589-dc4eeea78bcd",
   "metadata": {},
   "outputs": [],
   "source": [
    "boolean_mask = dataset.Muon_pt > 50\n",
    "boolean_mask"
   ]
  },
  {
   "cell_type": "code",
   "execution_count": null,
   "id": "74a5dc9a-69cd-494b-8f29-3dc98ad4294e",
   "metadata": {},
   "outputs": [],
   "source": [
    "dataset.Muon_pt[boolean_mask]"
   ]
  },
  {
   "cell_type": "markdown",
   "id": "0665b22e-9138-45be-9db6-9b5716152de7",
   "metadata": {},
   "source": [
    "Notice that this has filtered _particles_, rather than _events_. That's because `dataset.Muon_pt` and `boolean_mask` are both ragged (with the same numbers of elements in each list).\n",
    "\n",
    "Suppose you want to select \"any event with a muon whose $p_T > 50$ GeV\"? Here are some potentially useful functions (there are several ways to do it):\n",
    "\n",
    "* [ak.any](https://awkward-array.org/doc/main/reference/generated/ak.any.html)\n",
    "* [ak.max](https://awkward-array.org/doc/main/reference/generated/ak.max.html)\n",
    "* [ak.num](https://awkward-array.org/doc/main/reference/generated/ak.num.html)\n",
    "* [ak.count_nonzero](https://awkward-array.org/doc/main/reference/generated/ak.count_nonzero.html) (or [ak.sum](https://awkward-array.org/doc/main/reference/generated/ak.sum.html))"
   ]
  },
  {
   "cell_type": "code",
   "execution_count": null,
   "id": "66224417-aa06-4b8a-8442-b2d435e49a8d",
   "metadata": {},
   "outputs": [],
   "source": []
  },
  {
   "cell_type": "code",
   "execution_count": null,
   "id": "1a5ad87b-951e-4df9-a799-9a2c1586a16e",
   "metadata": {},
   "outputs": [],
   "source": []
  },
  {
   "cell_type": "code",
   "execution_count": null,
   "id": "321686d6-ae22-42b7-8f90-4d5cc85fd42d",
   "metadata": {},
   "outputs": [],
   "source": []
  },
  {
   "cell_type": "markdown",
   "id": "b9db4499-cacb-4542-b11d-9149d037dab6",
   "metadata": {},
   "source": [
    "<br><br><br>"
   ]
  },
  {
   "cell_type": "markdown",
   "id": "18c9d3c8-e99a-4afb-9b77-a6efaa9170e1",
   "metadata": {},
   "source": [
    "### Awkward puzzle 3"
   ]
  },
  {
   "cell_type": "markdown",
   "id": "b4749f6a-f5be-4fcc-84a1-5e08acfe8bc6",
   "metadata": {},
   "source": [
    "Make a boolean mask for selecting events in which any electron $p_T > 10$ and any muon $p_T > 5$ GeV."
   ]
  },
  {
   "cell_type": "code",
   "execution_count": null,
   "id": "74b7e474-3f06-4156-a027-07becfba340c",
   "metadata": {},
   "outputs": [],
   "source": []
  },
  {
   "cell_type": "code",
   "execution_count": null,
   "id": "be3a1733-fe0b-45f9-9285-4d35aee847fa",
   "metadata": {},
   "outputs": [],
   "source": []
  },
  {
   "cell_type": "code",
   "execution_count": null,
   "id": "90c0d2dd-46bf-42d2-b7cb-9569e4d94af1",
   "metadata": {},
   "outputs": [],
   "source": []
  },
  {
   "cell_type": "markdown",
   "id": "a655b7ca-72e9-4de1-a0e2-cfea439b4480",
   "metadata": {},
   "source": [
    "<br><br><br>"
   ]
  },
  {
   "cell_type": "markdown",
   "id": "ed8ff856-db2e-48be-b545-6eb48166d4c8",
   "metadata": {},
   "source": [
    "### Awkward puzzle 4"
   ]
  },
  {
   "cell_type": "markdown",
   "id": "ccd6b45b-7595-4242-94b9-c9d3436f6c59",
   "metadata": {},
   "source": [
    "Using [ak.num](https://awkward-array.org/doc/main/reference/generated/ak.num.html), select events with exactly two muons and make separate arrays (`mu1`, `mu2`) of those two muons."
   ]
  },
  {
   "cell_type": "code",
   "execution_count": null,
   "id": "ebf3873b-9e9a-4d01-ac63-be75eb0c83bf",
   "metadata": {},
   "outputs": [],
   "source": []
  },
  {
   "cell_type": "code",
   "execution_count": null,
   "id": "60506e74-241f-462f-9964-4d1734eef0cb",
   "metadata": {},
   "outputs": [],
   "source": []
  },
  {
   "cell_type": "code",
   "execution_count": null,
   "id": "c709932c-20d6-4334-bed5-55b260a8dd77",
   "metadata": {},
   "outputs": [],
   "source": []
  },
  {
   "cell_type": "markdown",
   "id": "d17a114f-9146-4792-a2b6-a8ed061eeecc",
   "metadata": {},
   "source": [
    "<br><br><br>"
   ]
  },
  {
   "cell_type": "markdown",
   "id": "8d6dfa43-43a7-4246-a6ef-5fe22d63e931",
   "metadata": {},
   "source": [
    "### Awkward puzzle 5"
   ]
  },
  {
   "cell_type": "code",
   "execution_count": null,
   "id": "9827802d-2902-4725-9d51-6f7ef33b96de",
   "metadata": {},
   "outputs": [],
   "source": [
    "electrons = ak.zip({\n",
    "    \"pt\": dataset.Electron_pt,\n",
    "    \"phi\": dataset.Electron_phi,\n",
    "    \"eta\": dataset.Electron_eta,\n",
    "    \"mass\": dataset.Electron_mass,\n",
    "    \"charge\": dataset.Electron_charge,\n",
    "}, with_name=\"Momentum4D\")"
   ]
  },
  {
   "cell_type": "code",
   "execution_count": null,
   "id": "8af486c8-463c-4ee1-afe0-6791e5114f5e",
   "metadata": {},
   "outputs": [],
   "source": [
    "muons = ak.zip({\n",
    "    \"pt\": dataset.Muon_pt,\n",
    "    \"phi\": dataset.Muon_phi,\n",
    "    \"eta\": dataset.Muon_eta,\n",
    "    \"mass\": dataset.Muon_mass,\n",
    "    \"charge\": dataset.Muon_charge,\n",
    "}, with_name=\"Momentum4D\")"
   ]
  },
  {
   "cell_type": "markdown",
   "id": "01f44554-6249-440f-af6f-2692baef3e56",
   "metadata": {},
   "source": [
    "Now you're ready to compute dimuon masses.\n",
    "\n",
    "1. Select events with exactly two muons and put each of those muons in separate arrays, as you did in puzzle 4 (but make them arrays of muon _objects_, not just muon $p_T$).\n",
    "2. For each event, add those muon objects together with `+`.\n",
    "3. Get the `mass` property from the Lorentz-added vectors.\n",
    "\n",
    "It should look like\n",
    "\n",
    "```\n",
    "[87.1,\n",
    " 90.5,\n",
    " 89.2,\n",
    " 18.8,\n",
    " 4.59,\n",
    " 37.2,\n",
    " 90.6,\n",
    " 8.91,\n",
    " 18.1,\n",
    " 27.5,\n",
    " ...,\n",
    " 31.2,\n",
    " 0.762,\n",
    " 14.3,\n",
    " 90.7,\n",
    " 90,\n",
    " 88.6,\n",
    " 88.8,\n",
    " 27.9,\n",
    " 90.5]\n",
    "---------------------\n",
    "type: 85838 * float32\n",
    "```"
   ]
  },
  {
   "cell_type": "code",
   "execution_count": null,
   "id": "3a7256e3-a590-4594-b0d1-da304ebb1c75",
   "metadata": {},
   "outputs": [],
   "source": [
    "def quickplot(num_bins, low, high, array, label=\"\"):\n",
    "    return Hist.new.Reg(num_bins, low, high, label=label).Double().fill(array)"
   ]
  },
  {
   "cell_type": "code",
   "execution_count": null,
   "id": "de25279a-4f6a-4dda-993b-6470c760bde9",
   "metadata": {},
   "outputs": [],
   "source": []
  },
  {
   "cell_type": "code",
   "execution_count": null,
   "id": "d49faa92-6fc2-44cf-a9c4-fbbeb8053d03",
   "metadata": {},
   "outputs": [],
   "source": []
  },
  {
   "cell_type": "code",
   "execution_count": null,
   "id": "30e68067-4c6b-495a-baa6-2f6645a8a4a8",
   "metadata": {},
   "outputs": [],
   "source": []
  },
  {
   "cell_type": "markdown",
   "id": "12baabdb-8689-4402-b3f1-0c60adc5a411",
   "metadata": {},
   "source": [
    "<br><br><br>"
   ]
  },
  {
   "cell_type": "markdown",
   "id": "370bfc07-5acc-4ac0-8008-62d10f70ff47",
   "metadata": {},
   "source": [
    "### Awkward puzzle 6"
   ]
  },
  {
   "cell_type": "markdown",
   "id": "9e06dfc4-0939-447d-b70c-89d4dae532db",
   "metadata": {},
   "source": [
    "<table>\n",
    "    <tr style=\"background: white; text-align: center; font-size: 18pt\">\n",
    "        <td>ak.cartesian</td><td>ak.combinations</td>\n",
    "    </tr>\n",
    "    <tr style=\"background: white\">\n",
    "        <td><img src=\"img/cartoon-cartesian.svg\" width=\"300\"></td>\n",
    "        <td><img src=\"img/cartoon-combinations.svg\" width=\"300\"></td>\n",
    "    </tr>\n",
    "</table>"
   ]
  },
  {
   "cell_type": "code",
   "execution_count": null,
   "id": "9d4b0d49-c318-4039-98a3-2df329897cf9",
   "metadata": {},
   "outputs": [],
   "source": [
    "numbers = ak.Array([[1, 2, 3], [], [4]])\n",
    "letters = ak.Array([[\"a\", \"b\"], [\"c\"], [\"d\", \"e\"]])\n",
    "\n",
    "ak.cartesian([numbers, letters], axis=1)"
   ]
  },
  {
   "cell_type": "markdown",
   "id": "4e072f92-a4f8-4ffb-84eb-7a589182c657",
   "metadata": {},
   "source": [
    "is equivalent to"
   ]
  },
  {
   "cell_type": "code",
   "execution_count": null,
   "id": "dc62dac4-b305-479f-a848-634cad17ed51",
   "metadata": {},
   "outputs": [],
   "source": [
    "for numbers_list, letters_list in zip(numbers, letters):\n",
    "    print(\"[\", end=\"\")\n",
    "    for number in numbers_list:\n",
    "        for letter in letters_list:\n",
    "            print(f\"({number}, {letter}), \", end=\"\")\n",
    "    print(\"]\")"
   ]
  },
  {
   "cell_type": "markdown",
   "id": "b3401011-1480-4123-8c6d-3b63fabf5f02",
   "metadata": {},
   "source": [
    "<br><br><br>"
   ]
  },
  {
   "cell_type": "code",
   "execution_count": null,
   "id": "2ed7b26a-c451-4c59-aaad-77998aaa10f8",
   "metadata": {},
   "outputs": [],
   "source": [
    "numbers = ak.Array([[1.1, 2.2, 3.3, 4.4], [], [5.5, 6.6]])\n",
    "\n",
    "ak.combinations(numbers, 2, axis=1)"
   ]
  },
  {
   "cell_type": "markdown",
   "id": "89028edc-e9e1-46e9-a304-ada0b9e1adcc",
   "metadata": {},
   "source": [
    "is equivalent to"
   ]
  },
  {
   "cell_type": "code",
   "execution_count": null,
   "id": "70302fe6-5b01-4289-870d-8f14e8175ae3",
   "metadata": {},
   "outputs": [],
   "source": [
    "for numbers_list in numbers:\n",
    "    print(\"[\", end=\"\")\n",
    "    for i in range(len(numbers_list)):\n",
    "        for j in range(i + 1, len(numbers_list)):\n",
    "            print(f\"({numbers_list[i]}, {numbers_list[j]}), \", end=\"\")\n",
    "    print(\"]\")"
   ]
  },
  {
   "cell_type": "markdown",
   "id": "68b4d759-f42a-45e2-9995-b48e6b656974",
   "metadata": {},
   "source": [
    "<br><br><br>"
   ]
  },
  {
   "cell_type": "markdown",
   "id": "440c66c6-6418-43e2-9cb7-c657d680d6d2",
   "metadata": {},
   "source": [
    "Use these separate-charge collections, [ak.cartesian](https://awkward-array.org/doc/main/reference/generated/ak.cartesian.html), and [ak.unzip](https://awkward-array.org/doc/main/reference/generated/ak.unzip.html) to make a plot of opposite-sign dimuons."
   ]
  },
  {
   "cell_type": "code",
   "execution_count": null,
   "id": "497e0437-5700-43d4-a3fe-86ec99221676",
   "metadata": {},
   "outputs": [],
   "source": [
    "muon_plus = muons[muons.charge > 0]\n",
    "muon_minus = muons[muons.charge < 0]"
   ]
  },
  {
   "cell_type": "code",
   "execution_count": null,
   "id": "b2406317-8f82-49d2-b363-bdf7ba6144c7",
   "metadata": {},
   "outputs": [],
   "source": []
  },
  {
   "cell_type": "code",
   "execution_count": null,
   "id": "c1c61905-1d5e-42ae-8fdc-88ff4cfe2eea",
   "metadata": {},
   "outputs": [],
   "source": []
  },
  {
   "cell_type": "code",
   "execution_count": null,
   "id": "069bb964-581c-420f-aff4-2858a5a99f0c",
   "metadata": {},
   "outputs": [],
   "source": []
  },
  {
   "cell_type": "markdown",
   "id": "eb347a08-b71a-4e5d-9692-4d46fb7e27de",
   "metadata": {},
   "source": [
    "<br><br><br>"
   ]
  },
  {
   "cell_type": "markdown",
   "id": "74d9afc2-55f8-4476-897a-f58b0b53e207",
   "metadata": {},
   "source": [
    "### Awkward puzzle 7"
   ]
  },
  {
   "cell_type": "markdown",
   "id": "39339a9d-7089-443f-9cf1-fb6c272dac61",
   "metadata": {},
   "source": [
    "Using `muon_plus`, `muon_minus` and"
   ]
  },
  {
   "cell_type": "code",
   "execution_count": null,
   "id": "341e49c2-47ea-4bea-944e-b2f252cd8c37",
   "metadata": {},
   "outputs": [],
   "source": [
    "electron_plus = electrons[electrons.charge > 0]\n",
    "electron_minus = electrons[electrons.charge < 0]"
   ]
  },
  {
   "cell_type": "markdown",
   "id": "f2b627e4-5424-4628-a4fa-257c655477a1",
   "metadata": {},
   "source": [
    "find quadruples of $e^+$, $e^-$, $\\mu^+$, $\\mu^-$ (without cuts) and plot a Higgs peak at 125 GeV. Remember to [ak.flatten](https://awkward-array.org/doc/main/reference/generated/ak.flatten.html) the ragged array of masses before plotting."
   ]
  },
  {
   "cell_type": "markdown",
   "id": "1fa8e76f-0287-4a2f-8692-0d20c62dcdd4",
   "metadata": {},
   "source": [
    "<img src=\"img/higgs-to-four-leptons-diagram.png\" width=\"50%\">"
   ]
  },
  {
   "cell_type": "code",
   "execution_count": null,
   "id": "820f0a62-b42b-44ff-9477-471a9ac5fcb4",
   "metadata": {},
   "outputs": [],
   "source": []
  },
  {
   "cell_type": "code",
   "execution_count": null,
   "id": "6ac0c52c-e1e7-47eb-ab8a-2628544d84a4",
   "metadata": {},
   "outputs": [],
   "source": []
  },
  {
   "cell_type": "code",
   "execution_count": null,
   "id": "09b46ad4-e148-4aea-92bb-5a20f0d93b91",
   "metadata": {},
   "outputs": [],
   "source": []
  },
  {
   "cell_type": "markdown",
   "id": "9f2bd175-cd33-4fe6-8b32-1c946cbd4ff4",
   "metadata": {},
   "source": [
    "<br><br><br>"
   ]
  },
  {
   "cell_type": "markdown",
   "id": "ca2c7b11-b288-4318-a7e0-fbe1bd0b2119",
   "metadata": {},
   "source": [
    "### Awkward puzzle 8"
   ]
  },
  {
   "cell_type": "markdown",
   "id": "97972f2c-373b-49b0-852e-caa4471d8719",
   "metadata": {},
   "source": [
    "Using `muon_plus` and `muon_minus`, find quadruples of $\\mu^+$, $\\mu^-$, $\\mu^+$, $\\mu^-$ (without cuts) and plot a Higgs peak.\n",
    "\n",
    "Very important: don't include the same muon twice! An individual muon can't be the decay product of one Z _and_ the other Z."
   ]
  },
  {
   "cell_type": "markdown",
   "id": "6c56bb39-8d37-4df9-a7f3-a042f12874b6",
   "metadata": {},
   "source": [
    "<img src=\"img/higgs-to-four-leptons-diagram-2.png\" width=\"50%\">"
   ]
  },
  {
   "cell_type": "code",
   "execution_count": null,
   "id": "aaaeb373-4173-4bf8-8f30-c211a56b1240",
   "metadata": {},
   "outputs": [],
   "source": []
  },
  {
   "cell_type": "code",
   "execution_count": null,
   "id": "0a107e91-3e89-4c36-a65b-69d242705b7f",
   "metadata": {},
   "outputs": [],
   "source": []
  },
  {
   "cell_type": "code",
   "execution_count": null,
   "id": "127bb25f-5199-44f0-a5ef-93c3b41f2fe3",
   "metadata": {},
   "outputs": [],
   "source": []
  },
  {
   "cell_type": "markdown",
   "id": "2ff0fd05-70bd-42ff-93f1-18c608e9bd95",
   "metadata": {},
   "source": [
    "<br><br><br>"
   ]
  },
  {
   "cell_type": "markdown",
   "id": "479e4ae8-77e2-451a-8314-47ced60055af",
   "metadata": {},
   "source": [
    "### Awkward puzzle 9"
   ]
  },
  {
   "cell_type": "code",
   "execution_count": null,
   "id": "b59ac4b6-8df5-493d-970e-fe4653ccb18d",
   "metadata": {},
   "outputs": [],
   "source": [
    "EVENT = 0\n",
    "PARTICLE = 1\n",
    "PARTICLE2 = 2"
   ]
  },
  {
   "cell_type": "markdown",
   "id": "91667d8f-e45c-4358-9c4a-b212809d37ab",
   "metadata": {},
   "source": [
    "Although it isn't physically relevant in this sample, let's try computing $\\Delta R$ between all electrons and muons."
   ]
  },
  {
   "cell_type": "code",
   "execution_count": null,
   "id": "6baa0fcc-7251-4942-801d-ad05971bac71",
   "metadata": {},
   "outputs": [],
   "source": [
    "e_mu_pairs = ak.cartesian([electrons, muons], nested=True)"
   ]
  },
  {
   "cell_type": "code",
   "execution_count": null,
   "id": "9085eec1-36f4-43c0-a5b5-d8c156fdf3ab",
   "metadata": {},
   "outputs": [],
   "source": [
    "e_grouped, mu_grouped = ak.unzip(e_mu_pairs)"
   ]
  },
  {
   "cell_type": "code",
   "execution_count": null,
   "id": "0440cfeb-7eb7-4bed-918b-6324008f9582",
   "metadata": {},
   "outputs": [],
   "source": [
    "deltaR = e_grouped.deltaR(mu_grouped)"
   ]
  },
  {
   "cell_type": "markdown",
   "id": "d0523360-8789-462d-a529-97a0b9dfae94",
   "metadata": {},
   "source": [
    "Find the one muon that is closest in $\\Delta R$ to each electron (or `None` if the event has no muons). Use [ak.argmin](https://awkward-array.org/doc/main/reference/generated/ak.argmin.html) with `keepdims=True`.\n",
    "\n",
    "It should look like this:\n",
    "\n",
    "```\n",
    "[[],\n",
    " [None, None, None, None],\n",
    " [None, None],\n",
    " [{pt: 23.5, phi: -0.307, eta: -0.248, mass: 0.106, charge: -1}],\n",
    " [None, None, None, None],\n",
    " [{pt: 47, phi: -1.15, eta: -0.119, mass: 0.106, charge: 1}],\n",
    " [{pt: 4.45, phi: 1.12, eta: -0.986, mass: 0.106, charge: 1}],\n",
    " [None],\n",
    " [None, None, None, None],\n",
    " [],\n",
    " ...,\n",
    " [{pt: 37.2, phi: -0.875, eta: 1.1, mass: 0.106, charge: -1}, {...}],\n",
    " [{pt: 24, phi: 1.38, eta: 0.421, mass: 0.106, charge: -1}],\n",
    " [],\n",
    " [None, None, None],\n",
    " [],\n",
    " [{pt: 43.1, phi: 2.27, eta: -0.162, mass: 0.106, charge: -1}],\n",
    " [],\n",
    " [None, None],\n",
    " [None, None]]\n",
    "---------------------------------------------------------------------\n",
    "type: 299973 * var * ?Momentum4D[\n",
    "    pt: float32,\n",
    "    phi: float32,\n",
    "    eta: float32,\n",
    "    mass: float32,\n",
    "    charge: int32\n",
    "]\n",
    "```"
   ]
  },
  {
   "cell_type": "code",
   "execution_count": null,
   "id": "c95d4a4d-5384-45ac-8a53-0985e76282b6",
   "metadata": {},
   "outputs": [],
   "source": []
  },
  {
   "cell_type": "code",
   "execution_count": null,
   "id": "4b16b7cf-5bd2-4fcb-8b56-8e089d616325",
   "metadata": {},
   "outputs": [],
   "source": []
  },
  {
   "cell_type": "code",
   "execution_count": null,
   "id": "fcc0daf3-79d8-4590-a976-ea423708eab3",
   "metadata": {},
   "outputs": [],
   "source": []
  }
 ],
 "metadata": {
  "kernelspec": {
   "display_name": "Python 3 (ipykernel)",
   "language": "python",
   "name": "python3"
  },
  "language_info": {
   "codemirror_mode": {
    "name": "ipython",
    "version": 3
   },
   "file_extension": ".py",
   "mimetype": "text/x-python",
   "name": "python",
   "nbconvert_exporter": "python",
   "pygments_lexer": "ipython3",
   "version": "3.13.3"
  }
 },
 "nbformat": 4,
 "nbformat_minor": 5
}
