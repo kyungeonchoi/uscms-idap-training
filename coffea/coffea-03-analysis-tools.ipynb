{
 "cells": [
  {
   "cell_type": "markdown",
   "metadata": {},
   "source": [
    "# Analysis tools\n",
    "\n",
    "Now that we know how to access data with NanoEvents and apply corrections, let's go through some useful columnar analysis tools and idioms for building collections of results, namely, the eventual output of a coffea callable (or processor). The most familiar type of output may be the histogram (one type of accumulator).\n",
    "\n",
    "We'll use our small sample file to demonstrate the utilities, although it won't be very interesting to analyze"
   ]
  },
  {
   "cell_type": "code",
   "execution_count": null,
   "metadata": {
    "tags": []
   },
   "outputs": [],
   "source": [
    "import numpy as np\n",
    "import awkward as ak\n",
    "import dask\n",
    "from hist import Hist\n",
    "from coffea.nanoevents import NanoEventsFactory, NanoAODSchema\n",
    "\n",
    "NanoAODSchema.warn_missing_crossrefs = False"
   ]
  },
  {
   "cell_type": "code",
   "execution_count": null,
   "metadata": {},
   "outputs": [],
   "source": [
    "fname = \"nano_dy.root\"\n",
    "access_log = []\n",
    "events = NanoEventsFactory.from_root(\n",
    "    {fname: \"Events\"},\n",
    "    schemaclass=NanoAODSchema,\n",
    "    metadata={\"dataset\": \"DYJets\"},\n",
    "    mode=\"virtual\",\n",
    "    access_log=access_log,\n",
    ").events()"
   ]
  },
  {
   "cell_type": "markdown",
   "metadata": {},
   "source": [
    "To generate some mock systematics, we'll use one of the scale factors from the applying_corrections notebook (note you will have to at least execute the cell that downloads test data in that notebook for this to work)"
   ]
  },
  {
   "cell_type": "code",
   "execution_count": null,
   "metadata": {
    "tags": []
   },
   "outputs": [],
   "source": [
    "from coffea.lookup_tools import extractor\n",
    "\n",
    "ext = extractor()\n",
    "ext.add_weight_sets([\"* * data/testSF2d.histo.root\"])\n",
    "ext.finalize()\n",
    "evaluator = ext.make_evaluator()\n",
    "evaluator.keys()"
   ]
  },
  {
   "cell_type": "markdown",
   "metadata": {},
   "source": [
    "## Weights\n",
    "\n",
    "This is a container for event weights and associated systematic shifts, which helps track the product of the weights (i.e. the total event weight to be used for filling histograms) as well as systematic variations to that product. Here we demo its use by constructing an event weight consisting of the generator weight, the $\\alpha_s$ uncertainty variation, and the electron ID scale factor with its associated systematic."
   ]
  },
  {
   "cell_type": "code",
   "execution_count": null,
   "metadata": {
    "tags": []
   },
   "outputs": [],
   "source": [
    "from coffea.analysis_tools import Weights\n",
    "\n",
    "weights = Weights(len(events))\n",
    "\n",
    "weights.add(\"genWeight\", events.genWeight)\n",
    "\n",
    "weights.add(\n",
    "    \"alphaS\",\n",
    "    # in NanoAOD, the generator weights are already stored with respect to nominal\n",
    "    weight=ak.ones_like(events.run, dtype=float),\n",
    "    # 31 => alphas(MZ)=0.1165 central value; 32 => alphas(MZ)=0.1195\n",
    "    # per https://lhapdfsets.web.cern.ch/current/PDF4LHC15_nnlo_30_pdfas/PDF4LHC15_nnlo_30_pdfas.info\n",
    "    # which was found by looking up the LHA ID in events.LHEPdfWeight.__doc__\n",
    "    weightUp=events.LHEPdfWeight[:, 32],\n",
    "    weightDown=events.LHEPdfWeight[:, 31],\n",
    ")\n",
    "\n",
    "eleSF = evaluator[\"scalefactors_Tight_Electron\"](events.Electron.eta, events.Electron.pt)\n",
    "eleSFerror = evaluator[\"scalefactors_Tight_Electron_error\"](events.Electron.eta, events.Electron.pt)\n",
    "weights.add(\n",
    "    \"eleSF\",\n",
    "    # the event weight is the product of the per-electron weights\n",
    "    # note, in a real analysis we would first have to select electrons of interest\n",
    "    weight=ak.prod(eleSF, axis=1),\n",
    "    weightUp=ak.prod(eleSF + eleSFerror, axis=1),\n",
    ")"
   ]
  },
  {
   "cell_type": "markdown",
   "metadata": {},
   "source": [
    "A [WeightStatistics](https://coffea-hep.readthedocs.io/en/latest/api/coffea.analysis_tools.WeightStatistics.html) object tracks the smallest and largest weights seen per type, as well as some other summary statistics. It is kept internally and can be accessed via `weights.weightStatistics`. This object is addable, so it can be used in an accumulator."
   ]
  },
  {
   "cell_type": "code",
   "execution_count": null,
   "metadata": {
    "tags": []
   },
   "outputs": [],
   "source": [
    "weights.weightStatistics"
   ]
  },
  {
   "cell_type": "markdown",
   "metadata": {},
   "source": [
    "Then the total event weight is available via"
   ]
  },
  {
   "cell_type": "code",
   "execution_count": null,
   "metadata": {
    "tags": []
   },
   "outputs": [],
   "source": [
    "weights.weight()"
   ]
  },
  {
   "cell_type": "markdown",
   "metadata": {},
   "source": [
    "And the total event weight with a given variation is available via"
   ]
  },
  {
   "cell_type": "code",
   "execution_count": null,
   "metadata": {
    "tags": []
   },
   "outputs": [],
   "source": [
    "weights.weight(\"eleSFUp\")"
   ]
  },
  {
   "cell_type": "markdown",
   "metadata": {},
   "source": [
    "all variations tracked by the `weights` object are available via"
   ]
  },
  {
   "cell_type": "code",
   "execution_count": null,
   "metadata": {
    "tags": []
   },
   "outputs": [],
   "source": [
    "weights.variations"
   ]
  },
  {
   "cell_type": "markdown",
   "metadata": {},
   "source": [
    "## PackedSelection\n",
    "\n",
    "This class can store several boolean arrays in a memory-efficient mannner and evaluate arbitrary combinations of boolean requirements in an CPU-efficient way. Supported inputs include 1D numpy or awkward arrays. This makes it a good tool to form analysis signal and control regions, and to implement cutflow or \"N-1\" plots.\n",
    "\n",
    "Below we create a packed selection with some typical selections for a Z+jets study, to be used later to form same-sign and opposite-sign $ee$ and $\\mu\\mu$ event categories/regions."
   ]
  },
  {
   "cell_type": "code",
   "execution_count": null,
   "metadata": {
    "tags": []
   },
   "outputs": [],
   "source": [
    "from coffea.analysis_tools import PackedSelection\n",
    "\n",
    "selection = PackedSelection()\n",
    "\n",
    "selection.add(\"twoElectron\", ak.num(events.Electron, axis=1) == 2)\n",
    "selection.add(\"eleOppSign\", ak.sum(events.Electron.charge, axis=1) == 0)\n",
    "selection.add(\"noElectron\", ak.num(events.Electron, axis=1) == 0)\n",
    "\n",
    "selection.add(\"twoMuon\", ak.num(events.Muon, axis=1) == 2)\n",
    "selection.add(\"muOppSign\", ak.sum(events.Muon.charge, axis=1) == 0)\n",
    "selection.add(\"noMuon\", ak.num(events.Muon, axis=1) == 0)\n",
    "\n",
    "\n",
    "selection.add(\n",
    "    \"leadPt20\",\n",
    "    # assuming one of `twoElectron` or `twoMuon` is imposed, this implies at least one is above threshold\n",
    "    ak.any(events.Electron.pt >= 20.0, axis=1) | ak.any(events.Muon.pt >= 20.0, axis=1)\n",
    ")\n",
    "\n",
    "print(selection.names)"
   ]
  },
  {
   "cell_type": "markdown",
   "metadata": {},
   "source": [
    "To evaluate a boolean mask (e.g. to filter events) we can use the `selection.all(*names)` function, which will compute the AND of all listed boolean selections"
   ]
  },
  {
   "cell_type": "code",
   "execution_count": null,
   "metadata": {
    "tags": []
   },
   "outputs": [],
   "source": [
    "selection.all(\"twoElectron\", \"noMuon\", \"leadPt20\")"
   ]
  },
  {
   "cell_type": "markdown",
   "metadata": {},
   "source": [
    "We can also be more specific and require that a specific set of selections have a given value (with the unspecified ones allowed to be either true or false) using `selection.require`"
   ]
  },
  {
   "cell_type": "code",
   "execution_count": null,
   "metadata": {
    "tags": []
   },
   "outputs": [],
   "source": [
    "selection.require(twoElectron=True, noMuon=True, eleOppSign=False)"
   ]
  },
  {
   "cell_type": "markdown",
   "metadata": {},
   "source": [
    "Using the python syntax for passing an arguments variable, we can easily implement a \"N-1\" style selection"
   ]
  },
  {
   "cell_type": "code",
   "execution_count": null,
   "metadata": {},
   "outputs": [],
   "source": [
    "allCuts = [\"twoElectron\", \"noMuon\", \"leadPt20\"]\n",
    "results = {}\n",
    "for cut in allCuts:\n",
    "    nev = ak.sum(selection.all(*(set(allCuts) - {cut})), axis=0)\n",
    "    results[cut] = nev\n",
    "    \n",
    "results[\"None\"] = ak.sum(selection.all(*allCuts), axis=0)\n",
    "\n",
    "for cut, nev in results.items():\n",
    "    print(f\"Events passing all cuts, ignoring {cut}: {nev}\")"
   ]
  },
  {
   "cell_type": "markdown",
   "metadata": {},
   "source": [
    "Luckily coffea implements a helper for that and also for a \"Cutflow\" selection (with `.cutflow`)"
   ]
  },
  {
   "cell_type": "code",
   "execution_count": null,
   "metadata": {},
   "outputs": [],
   "source": [
    "nminusone = selection.nminusone(\"twoElectron\", \"noMuon\", \"leadPt20\")\n",
    "nminusone"
   ]
  },
  {
   "cell_type": "code",
   "execution_count": null,
   "metadata": {},
   "outputs": [],
   "source": [
    "nminusone.print()"
   ]
  },
  {
   "cell_type": "code",
   "execution_count": null,
   "metadata": {},
   "outputs": [],
   "source": [
    "from matplotlib import pyplot as plt\n",
    "\n",
    "h, labels = nminusone.yieldhist()\n",
    "h.plot()\n",
    "plt.xticks(plt.gca().get_xticks(), labels, rotation=45)\n",
    "plt.show()"
   ]
  },
  {
   "cell_type": "markdown",
   "metadata": {},
   "source": [
    "### Bringing it together\n",
    "\n",
    "Let's build a callable function that books a few results, per dataset:\n",
    " - the sum of weights for the events processed, to use for later luminosity-normalizing the yields;\n",
    " - a histogram of the dilepton invariant mass, with category axes for various selection regions of interest and  systematics; and\n",
    " - the weight statistics, for debugging purposes"
   ]
  },
  {
   "cell_type": "code",
   "execution_count": null,
   "metadata": {
    "tags": []
   },
   "outputs": [],
   "source": [
    "fname = \"nano_dy.root\"\n",
    "access_log = []\n",
    "events = NanoEventsFactory.from_root(\n",
    "    {fname: \"Events\"},\n",
    "    schemaclass=NanoAODSchema,\n",
    "    metadata={\"dataset\": \"DYJets\"},\n",
    "    mode=\"virtual\",\n",
    "    access_log=access_log,\n",
    ").events()"
   ]
  },
  {
   "cell_type": "code",
   "execution_count": null,
   "metadata": {
    "tags": []
   },
   "outputs": [],
   "source": [
    "def results_tg(events):\n",
    "\n",
    "    regions = {\n",
    "        \"ee\": {\"twoElectron\": True, \"noMuon\": True, \"leadPt20\": True, \"eleOppSign\": True},\n",
    "        \"eeSS\": {\"twoElectron\": True, \"noMuon\": True, \"leadPt20\": True, \"eleOppSign\": False},\n",
    "        \"mm\": {\"twoMuon\": True, \"noElectron\": True, \"leadPt20\": True, \"muOppSign\": True},\n",
    "        \"mmSS\": {\"twoMuon\": True, \"noElectron\": True, \"leadPt20\": True, \"muOppSign\": False},\n",
    "    }\n",
    "\n",
    "    masshist = (\n",
    "        Hist.new\n",
    "        .StrCat(regions.keys(), name=\"region\")\n",
    "        .StrCat([\"nominal\"] + list(weights.variations), name=\"systematic\")\n",
    "        .Reg(60, 60, 120, name=\"mass\", label=\"$m_{ll}$ [GeV]\")\n",
    "        .Weight()\n",
    "    )\n",
    "\n",
    "    for region, cuts in regions.items():\n",
    "        goodevent = selection.require(**cuts)\n",
    "\n",
    "        if region.startswith(\"ee\"):\n",
    "            leptons = events.Electron[goodevent]\n",
    "        elif region.startswith(\"mm\"):\n",
    "            leptons = events.Muon[goodevent]\n",
    "        lep1 = leptons[:, 0]\n",
    "        lep2 = leptons[:, 1]\n",
    "        mass = (lep1 + lep2).mass\n",
    "\n",
    "        masshist.fill(\n",
    "            region=region,\n",
    "            systematic=\"nominal\",\n",
    "            mass=mass,\n",
    "            weight=weights.weight()[goodevent],\n",
    "        )\n",
    "        for syst in weights.variations:\n",
    "            masshist.fill(\n",
    "                region=region,\n",
    "                systematic=syst,\n",
    "                mass=mass,\n",
    "                weight=weights.weight(syst)[goodevent],\n",
    "            )\n",
    "\n",
    "    out = {\n",
    "        events.metadata[\"dataset\"]: {\n",
    "            \"sumw\": ak.sum(events.genWeight, axis=0),\n",
    "            \"mass\": masshist,\n",
    "            \"weightStats\": weights.weightStatistics,\n",
    "        }\n",
    "    }\n",
    "    return out"
   ]
  },
  {
   "cell_type": "code",
   "execution_count": null,
   "metadata": {
    "tags": []
   },
   "outputs": [],
   "source": [
    "out = results_tg(events)\n",
    "out"
   ]
  },
  {
   "cell_type": "markdown",
   "metadata": {},
   "source": [
    "The mass histogram itself is not very interesting with only 40 input events, however"
   ]
  },
  {
   "cell_type": "code",
   "execution_count": null,
   "metadata": {
    "tags": []
   },
   "outputs": [],
   "source": [
    "out[\"DYJets\"][\"mass\"][sum, \"nominal\", :].plot();"
   ]
  },
  {
   "cell_type": "code",
   "execution_count": null,
   "metadata": {},
   "outputs": [],
   "source": []
  }
 ],
 "metadata": {
  "kernelspec": {
   "display_name": "Python 3 (ipykernel)",
   "language": "python",
   "name": "python3"
  },
  "language_info": {
   "codemirror_mode": {
    "name": "ipython",
    "version": 3
   },
   "file_extension": ".py",
   "mimetype": "text/x-python",
   "name": "python",
   "nbconvert_exporter": "python",
   "pygments_lexer": "ipython3",
   "version": "3.12.10"
  }
 },
 "nbformat": 4,
 "nbformat_minor": 4
}
