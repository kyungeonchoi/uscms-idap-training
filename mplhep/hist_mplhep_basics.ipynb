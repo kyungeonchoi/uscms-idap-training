{
 "cells": [
  {
   "cell_type": "markdown",
   "id": "3282cb21",
   "metadata": {},
   "source": [
    "# Plotting Basics - IRIS-HEP Analysis Training \n",
    "\n",
    "Authored by: [Andrzej Novak](https://github.com/andrzejnovak), [Matthew Feickert](https://github.com/matthewfeickert)"
   ]
  },
  {
   "cell_type": "markdown",
   "id": "b0cf40cd",
   "metadata": {},
   "source": [
    "### Histograms mean different things in different contexts\n",
    "- Counts, bin edges &mdash; useful for a bar plot &mdash; `np.histogram` / `plt.bar`\n",
    "- Counts, bin edges, pre computed errors &mdash; `TGraphErrors`/`plt.errorbar`\n",
    "- Weighted values, weights squared, bin_edges &mdash; proper error calculation `TH1`/`Coffea.hist`/`hist`"
   ]
  },
  {
   "cell_type": "markdown",
   "id": "f1bf8e9d",
   "metadata": {},
   "source": [
    "## UHI - [Unified Histogram Interface](https://uhi.readthedocs.io/en/latest/plotting.html#using-the-protocol)\n",
    "- (Plottable) Histogram protocol designed to make libraries interoperable, easy to navigate\n",
    "  - Conformed to by `hist`, `mplhep`, `uproot`, `histoprint`, and now also ROOT (full UHI support in ROOT coming soon)!\n",
    "- Each UHI histogram has the following methods\n",
    "  - `h.values()`: The value (as given by the kind)\n",
    "  - `h.variances()`: The variance in the value (None if an unweighed histogram was filled with weights)\n",
    "  - `h.counts()`: How many fills the bin received or the effective number of fills if the histogram is weighted\n",
    "  - `h.axes`: A Sequence of axes\n",
    "  - and a few other properties"
   ]
  },
  {
   "cell_type": "markdown",
   "id": "b54dd272",
   "metadata": {},
   "source": [
    "## [hist](https://github.com/scikit-hep/hist)\n",
    "* Python go to one-stop for histogramming\n",
    "* Extends [boost-histogram](https://github.com/scikit-hep/boost-histogram) (Python binding for C++ `Boost::Histogram` library &mdash; *FAST*)\n",
    "  - Makes it user friendly\n",
    "* Shortcuts for convenience and interactive plotting/fitting"
   ]
  },
  {
   "cell_type": "markdown",
   "id": "7d8c4da0",
   "metadata": {},
   "source": [
    "## [mplhep](https://github.com/scikit-hep/mplhep)\n",
    "- Built on top of `matplotlib`\n",
    "- Extends functionality to easily plot histograms from various inputs\n",
    "- Holds style sheets for easy experiment specific style application"
   ]
  },
  {
   "cell_type": "markdown",
   "id": "1af84932-4b9d-408c-85fd-ab9eb76187ed",
   "metadata": {},
   "source": [
    "We'll be using `mplhep` and `hist` the most in this tutorial, so let's make sure that the latest versions are installed in your environment. We'll also need [`scikit-hep-testdata`](https://github.com/scikit-hep/scikit-hep-testdata) and so will need to ensure it is installed in the environment.\n",
    "\n",
    "### On Coffea-casa\n",
    "\n",
    "```console\n",
    "$ conda upgrade --yes mplhep hist\n",
    "$ conda install --yes scikit-hep-testdata\n",
    "```\n",
    "\n",
    "### On your local machine in a Python virtual environment\n",
    "\n",
    "```console\n",
    "$ python -m pip install --upgrade mplhep hist scikit-hep-testdata\n",
    "```\n",
    "\n",
    "### On your local maching in a Pixi environment\n",
    "\n",
    "```console\n",
    "$ pixi upgrade hist\n",
    "$ pixi add scikit-hep-testdata\n",
    "```\n",
    "\n",
    "### On your local maching in a Conda environment\n",
    "\n",
    "```console\n",
    "$ conda upgrade --yes mplhep hist\n",
    "$ conda install --yes scikit-hep-testdata\n",
    "```\n",
    "\n",
    "## Tip\n",
    "\n",
    "You can run the commands in your notebooks by prefixing with the `!` iPython magics (which escapes out to the shell). Example:\n",
    "\n",
    "```\n",
    "! conda upgrade --yes mplhep hist\n",
    "```"
   ]
  },
  {
   "cell_type": "markdown",
   "id": "1ae6d07c",
   "metadata": {},
   "source": [
    "# Outline"
   ]
  },
  {
   "cell_type": "markdown",
   "id": "27e1fe78",
   "metadata": {},
   "source": [
    " - Short Matplotlib info\n",
    " - Histogramming in Matplotlib\n",
    " - `mplhep` basic example\n",
    " - `hist` basic examples and indexing with UHI\n",
    " - Analysis style example"
   ]
  },
  {
   "cell_type": "markdown",
   "id": "66fa7941-af64-48c2-b441-db552f0dbbcb",
   "metadata": {},
   "source": [
    "We'll also use ROOT later on. In the event that you don't have ROOT on your machine already, you can install it from conda-forge with the following:\n",
    "\n",
    "## In a Pixi environment\n",
    "\n",
    "```console\n",
    "$ pixi add root_base\n",
    "```\n",
    "\n",
    "## In a Conda environment\n",
    "\n",
    "```console\n",
    "$ conda install --channel conda-forge --yes root_base\n",
    "```"
   ]
  },
  {
   "cell_type": "markdown",
   "id": "2ace763a",
   "metadata": {},
   "source": [
    "# Two APIs of matplotlib"
   ]
  },
  {
   "cell_type": "markdown",
   "id": "25eaf120-f29c-4ce9-9880-3bb12c842f11",
   "metadata": {},
   "source": [
    "**References**\n",
    "\n",
    "* [Anatomy of a [Matplotlib] figure](https://matplotlib.org/stable/gallery/showcase/anatomy.html)"
   ]
  },
  {
   "cell_type": "code",
   "execution_count": null,
   "id": "cc1c046a",
   "metadata": {},
   "outputs": [],
   "source": [
    "import numpy as np\n",
    "import matplotlib.pyplot as plt\n",
    "from pathlib import Path"
   ]
  },
  {
   "cell_type": "code",
   "execution_count": null,
   "id": "4a4e165d-c771-4d1e-a1f5-a6345f06d493",
   "metadata": {},
   "outputs": [],
   "source": [
    "fig_dir = Path.cwd() / \"figures\"\n",
    "fig_dir.mkdir(exist_ok=True)"
   ]
  },
  {
   "cell_type": "markdown",
   "id": "9185a6e0-1c89-4dd4-bd36-1b273d3fda33",
   "metadata": {},
   "source": [
    "Matpltolib has two [high level APIs](https://matplotlib.org/stable/api/index.html):\n",
    "* The `pyplot` interface (function-based, implicit)\n",
    "* The `Axes` interface (object-based, explicit)\n",
    "\n",
    "Matplotlib as a project strongly recommends using the `Axes` API, but there are times when using the `pyplot` API is useful too."
   ]
  },
  {
   "cell_type": "markdown",
   "id": "9ec874b5",
   "metadata": {},
   "source": [
    "### Stateful (`pyplot` API)"
   ]
  },
  {
   "cell_type": "markdown",
   "id": "b971e190-3328-40f6-96c4-e1bd71d09852",
   "metadata": {},
   "source": [
    "If we execute a comamnd using the `pyplot` API we see that a global state object is created"
   ]
  },
  {
   "cell_type": "code",
   "execution_count": null,
   "id": "59a85207",
   "metadata": {},
   "outputs": [],
   "source": [
    "plt.plot(np.arange(0, 10, 1), np.linspace(0, 1, 10))"
   ]
  },
  {
   "cell_type": "markdown",
   "id": "c92db124-0c04-4fbe-b450-fa99028fafbc",
   "metadata": {},
   "source": [
    "We can continue to operate on this global state `Axes` through the `plt` API even though we aren't giving a specific `matplotlib.Axes` object to operate on"
   ]
  },
  {
   "cell_type": "code",
   "execution_count": null,
   "id": "cea23f4b-4a8f-425e-bb6f-f998b60c7ae7",
   "metadata": {},
   "outputs": [],
   "source": [
    "plt.plot(np.arange(0, 10, 1), np.linspace(0, 1, 10))\n",
    "plt.title(\"pyplot Example\")\n",
    "plt.savefig(fig_dir / \"pyplot_example.png\")"
   ]
  },
  {
   "cell_type": "markdown",
   "id": "7b9da32d",
   "metadata": {},
   "source": [
    "### Object-oriented (`Axes` API)"
   ]
  },
  {
   "cell_type": "markdown",
   "id": "e118c31e-7ad0-4b3a-b4dc-823581a41d90",
   "metadata": {},
   "source": [
    "With the `Axes` API, we need to explicitly create a [`Figure`](https://matplotlib.org/stable/api/_as_gen/matplotlib.figure.Figure.html#matplotlib.figure.Figure) and [`Axes`](https://matplotlib.org/stable/api/_as_gen/matplotlib.axes.Axes.html#matplotlib.axes.Axes) object and then call functions that operate explicitily on the `Axes` object."
   ]
  },
  {
   "cell_type": "code",
   "execution_count": null,
   "id": "24094f56",
   "metadata": {},
   "outputs": [],
   "source": [
    "fig, ax = plt.subplots()"
   ]
  },
  {
   "cell_type": "code",
   "execution_count": null,
   "id": "691466c5",
   "metadata": {},
   "outputs": [],
   "source": [
    "ax.plot(np.linspace(0, 1, 10), np.linspace(0, 10, 10))\n",
    "ax.set_title(\"Axes Example\")"
   ]
  },
  {
   "cell_type": "code",
   "execution_count": null,
   "id": "4061af50",
   "metadata": {},
   "outputs": [],
   "source": [
    "fig.savefig(fig_dir / \"axes_example.png\")\n",
    "\n",
    "fig"
   ]
  },
  {
   "cell_type": "markdown",
   "id": "e07041cf-eb6d-483a-87bd-97e8aaff90fe",
   "metadata": {},
   "source": [
    "You might notice that we still used the `pyplot` API even though we're using the `Axes` API. That's a shortcut, but you can also use the full object oriented Matplotlib API like the following"
   ]
  },
  {
   "cell_type": "code",
   "execution_count": null,
   "id": "0719194e-5c16-411d-bff8-60457cc269a1",
   "metadata": {},
   "outputs": [],
   "source": [
    "from matplotlib.figure import Figure\n",
    "import numpy as np\n",
    "\n",
    "fig = Figure()\n",
    "ax = fig.subplots()\n",
    "\n",
    "x = np.linspace(0, 10, 1000)\n",
    "y = np.sin(x)\n",
    "\n",
    "ax.plot(x, y)\n",
    "\n",
    "fig.savefig(fig_dir / \"full_axes_api_example.png\")\n",
    "\n",
    "fig"
   ]
  },
  {
   "cell_type": "markdown",
   "id": "4a23b9da",
   "metadata": {},
   "source": [
    "## Switching back and forth"
   ]
  },
  {
   "cell_type": "markdown",
   "id": "70b4a118-ed49-40ab-a19e-67b6c97f2790",
   "metadata": {},
   "source": [
    "While it is generally recommended to stick with one API, it is possible to mix the two APIs in the same code"
   ]
  },
  {
   "cell_type": "code",
   "execution_count": null,
   "id": "29544dea",
   "metadata": {},
   "outputs": [],
   "source": [
    "fig, ax = plt.subplots()  # Axes and pyplot API\n",
    "ax.stairs([1, 2, 3, 4, 3, 2, 1])  # Axes API\n",
    "plt.title(\"Example\")  # pyplot API"
   ]
  },
  {
   "cell_type": "code",
   "execution_count": null,
   "id": "475bf28e",
   "metadata": {},
   "outputs": [],
   "source": [
    "plt.stairs([1, 2, 3, 4, 3, 2, 1])  # pyplot API\n",
    "ax = plt.gca()  # Axes and pyplot API\n",
    "ax.set_title(\"Example\")  # Axes API"
   ]
  },
  {
   "cell_type": "markdown",
   "id": "25e06371",
   "metadata": {},
   "source": [
    "# Histogramming in matplotlib"
   ]
  },
  {
   "cell_type": "markdown",
   "id": "2937b530-74a9-4eea-abbe-1a26ff678eab",
   "metadata": {},
   "source": [
    "Matplotlib has the concept of histograms built into it, and through the [`stairs` API](https://matplotlib.org/stable/api/_as_gen/matplotlib.axes.Axes.stairs.html) (contributed from HEP) we can arrive at something that looks familiar to us"
   ]
  },
  {
   "cell_type": "code",
   "execution_count": null,
   "id": "b29bd542",
   "metadata": {},
   "outputs": [],
   "source": [
    "fig, ax = plt.subplots()\n",
    "ax.stairs([1, 2, 3, 4, 2, 1, 0])"
   ]
  },
  {
   "cell_type": "markdown",
   "id": "8c9e1e20-9061-431a-b4de-10ede236365a",
   "metadata": {},
   "source": [
    "Visualizations of histograms can be filled with colors"
   ]
  },
  {
   "cell_type": "code",
   "execution_count": null,
   "id": "9b656bd1",
   "metadata": {},
   "outputs": [],
   "source": [
    "fig, ax = plt.subplots()\n",
    "ax.stairs([1, 2, 3, 4, 2, 1, 0], baseline=0, fill=True)"
   ]
  },
  {
   "cell_type": "markdown",
   "id": "4a89968f-dccc-476b-be19-a9d052a9f1de",
   "metadata": {},
   "source": [
    "Histograms can be drawn on top of each other"
   ]
  },
  {
   "cell_type": "code",
   "execution_count": null,
   "id": "30ff295c",
   "metadata": {},
   "outputs": [],
   "source": [
    "a, b = [1, 2, 3, 4, 2, 1, 0], [1, 2, 3, 2, 2, 3, 1]\n",
    "\n",
    "fig, ax = plt.subplots()\n",
    "ax.stairs(a, label=\"A\")\n",
    "ax.stairs(b, label=\"B\", ls=\"--\")\n",
    "ax.legend()"
   ]
  },
  {
   "cell_type": "markdown",
   "id": "bd3ed70b-2063-4cd0-aa4f-fea765eccf07",
   "metadata": {},
   "source": [
    "and `stairs` understands how to operate on [Array API](https://proceedings.scipy.org/articles/gerudo-f2bc6f59-001) compatbile objects (like NumPy arrays)"
   ]
  },
  {
   "cell_type": "code",
   "execution_count": null,
   "id": "c569c6ba",
   "metadata": {},
   "outputs": [],
   "source": [
    "fig, ax = plt.subplots()\n",
    "ax.stairs(np.sum([a, b], axis=0), baseline=b, fill=True, label=\"A\")\n",
    "ax.stairs(b, fill=True, label=\"B\")\n",
    "ax.legend()"
   ]
  },
  {
   "cell_type": "markdown",
   "id": "4b7f75ee",
   "metadata": {},
   "source": [
    "## Other histogramming methods from Matplotlib"
   ]
  },
  {
   "cell_type": "code",
   "execution_count": null,
   "id": "ce98e3b4",
   "metadata": {},
   "outputs": [],
   "source": [
    "fig, axs = plt.subplots(2, 2, figsize=(10, 10))\n",
    "axs = axs.flatten()\n",
    "\n",
    "# in-situ np.histogram()\n",
    "axs[0].hist(np.random.normal(5, 1, 10000))\n",
    "axs[0].set_title(\"NumPy histogram\")\n",
    "\n",
    "# bar plots\n",
    "axs[1].bar([1, 2, 3], [2, 3, 4])  # (x-position), bin-value);\n",
    "axs[1].set_title(\"Bar plots\")\n",
    "\n",
    "# step - skyline\n",
    "axs[2].step(np.arange(0, 5, 1), [2, 3, 4, 2, 1], where=\"post\")\n",
    "axs[2].set_title(\"step API\")\n",
    "\n",
    "# filled\n",
    "axs[3].fill_between(np.arange(0, 5, 1), [2, 3, 4, 2, 1], step=\"post\")\n",
    "axs[3].set_title(\"fill_between API\")"
   ]
  },
  {
   "cell_type": "markdown",
   "id": "7b629167",
   "metadata": {},
   "source": [
    "# Better histogramming: `mplhep`"
   ]
  },
  {
   "cell_type": "markdown",
   "id": "c26117dd-d8d4-4f5a-912d-80bbdca1bcec",
   "metadata": {},
   "source": [
    "`mplhep` gives us a high level API that allows for quickly getting the information that we traditionally think about when it comes to histograms in particle physics."
   ]
  },
  {
   "cell_type": "code",
   "execution_count": null,
   "id": "7c5f650d",
   "metadata": {},
   "outputs": [],
   "source": [
    "import mplhep"
   ]
  },
  {
   "cell_type": "code",
   "execution_count": null,
   "id": "a6de4c41",
   "metadata": {},
   "outputs": [],
   "source": [
    "yields, bins = np.histogram(np.random.normal(5, 1, 5000), bins=10)"
   ]
  },
  {
   "cell_type": "code",
   "execution_count": null,
   "id": "1bc69ad6",
   "metadata": {},
   "outputs": [],
   "source": [
    "mplhep.histplot(yields)"
   ]
  },
  {
   "cell_type": "code",
   "execution_count": null,
   "id": "28a1aa5e-298b-4d4a-b4e3-18b0438c7d65",
   "metadata": {},
   "outputs": [],
   "source": [
    "? mplhep.histplot"
   ]
  },
  {
   "cell_type": "markdown",
   "id": "ab50a470",
   "metadata": {},
   "source": [
    "### Primary goal is to stay unobtrusive, if it works in `matplotlib`, it should work in `mplhep`"
   ]
  },
  {
   "cell_type": "code",
   "execution_count": null,
   "id": "164e5e82",
   "metadata": {},
   "outputs": [],
   "source": [
    "fig, axs = plt.subplots(1, 2, figsize=(12, 4))\n",
    "\n",
    "mplhep.histplot(yields, ax=axs[0])\n",
    "mplhep.histplot(yields, bins, yerr=True, ax=axs[1])\n",
    "axs[1].set_title(\"Uncertainties shown\");"
   ]
  },
  {
   "cell_type": "markdown",
   "id": "6c05c4e7",
   "metadata": {},
   "source": [
    "### `kwargs` are passed though to `matplotlib`"
   ]
  },
  {
   "cell_type": "code",
   "execution_count": null,
   "id": "ec368883",
   "metadata": {},
   "outputs": [],
   "source": [
    "fig, axs = plt.subplots(1, 2, figsize=(12, 4))\n",
    "\n",
    "mplhep.histplot(\n",
    "    yields, ax=axs[0], histtype=\"fill\", hatch=\"///\", edgecolor=\"red\", facecolor=\"none\"\n",
    ")\n",
    "axs[0].set_title(\"Filled histogram\")\n",
    "mplhep.histplot(\n",
    "    yields, ax=axs[1], histtype=\"errorbar\", yerr=True, color=\"black\", capsize=4\n",
    ")\n",
    "axs[1].set_title(\"Uncertainity outline\");"
   ]
  },
  {
   "cell_type": "markdown",
   "id": "cd51024b",
   "metadata": {},
   "source": [
    "### Stacking and normalizing is available"
   ]
  },
  {
   "cell_type": "code",
   "execution_count": null,
   "id": "93c9d199",
   "metadata": {},
   "outputs": [],
   "source": [
    "bin_contents = yields.copy()\n",
    "fig, axs = plt.subplots(1, 3, figsize=(18, 4))\n",
    "\n",
    "data = np.random.poisson(bin_contents * 3)\n",
    "mplhep.histplot(\n",
    "    [bin_contents, bin_contents * 2],\n",
    "    bins=bins,\n",
    "    ax=axs[0],\n",
    "    yerr=True,\n",
    "    label=[\"MC1\", \"MC2\"],\n",
    ")\n",
    "mplhep.histplot(data, bins=bins, ax=axs[1], yerr=True, label=\"Data\")\n",
    "\n",
    "mplhep.histplot(\n",
    "    [bin_contents, bin_contents * 2],\n",
    "    bins=bins,\n",
    "    ax=axs[2],\n",
    "    stack=True,\n",
    "    label=[\"MC1\", \"MC2\"],\n",
    "    density=True,\n",
    ")\n",
    "mplhep.histplot(\n",
    "    data,\n",
    "    bins=bins,\n",
    "    ax=axs[2],\n",
    "    yerr=True,\n",
    "    histtype=\"errorbar\",\n",
    "    label=\"Data\",\n",
    "    density=True,\n",
    "    color=\"k\",\n",
    ")\n",
    "for ax in axs:\n",
    "    ax.legend()\n",
    "axs[0].set_title(\"Some MCs\")\n",
    "axs[1].set_title(\"Draw Poisson Data\")\n",
    "axs[2].set_title(\"Data/MC Shape comparison\");"
   ]
  },
  {
   "cell_type": "markdown",
   "id": "ce45a23d",
   "metadata": {},
   "source": [
    "### Convenient sorting options"
   ]
  },
  {
   "cell_type": "code",
   "execution_count": null,
   "id": "e0990172",
   "metadata": {},
   "outputs": [],
   "source": [
    "fig, axs = plt.subplots(1, 2, figsize=(12, 4))\n",
    "mplhep.histplot(\n",
    "    [bin_contents * 2, bin_contents * 3, bin_contents],\n",
    "    bins=bins,\n",
    "    ax=axs[0],\n",
    "    stack=True,\n",
    "    histtype=\"fill\",\n",
    "    label=[\"A\", \"B\", \"C\"],\n",
    "    sort=\"yield\",\n",
    ")\n",
    "mplhep.histplot(\n",
    "    [bin_contents * 2, bin_contents * 3, bin_contents],\n",
    "    bins=bins,\n",
    "    ax=axs[1],\n",
    "    stack=True,\n",
    "    histtype=\"fill\",\n",
    "    label=[\"A\", \"B\", \"C\"],\n",
    "    sort=\"label_r\",\n",
    ")\n",
    "for ax in axs:\n",
    "    ax.legend()\n",
    "axs[0].set_title(\"Sort by yield\")\n",
    "axs[1].set_title(\"Sort by label (add _r to reverse)\");"
   ]
  },
  {
   "cell_type": "markdown",
   "id": "b3dbd5bf-fbc2-485c-a1db-483be57350c4",
   "metadata": {},
   "source": [
    "## Uproot TH1"
   ]
  },
  {
   "cell_type": "markdown",
   "id": "1dc2f750-e745-46ed-9691-a406c1879b13",
   "metadata": {},
   "source": [
    "`mplhep` is able to operate on histogram objects in ROOT files that have been deserialized with `uproot`"
   ]
  },
  {
   "cell_type": "code",
   "execution_count": null,
   "id": "e492b221",
   "metadata": {},
   "outputs": [],
   "source": [
    "import uproot\n",
    "from skhep_testdata import data_path\n",
    "\n",
    "file_name = data_path(\"uproot-hepdata-example.root\")\n",
    "histogram = uproot.open(file_name)\n",
    "print(histogram.keys())\n",
    "print(histogram[\"hpx\"])\n",
    "mplhep.histplot(histogram[\"hpx\"]);"
   ]
  },
  {
   "cell_type": "markdown",
   "id": "ce140f5e-8fd1-4830-972e-f906240fcbf1",
   "metadata": {},
   "source": [
    "## PyTROOT TH1"
   ]
  },
  {
   "cell_type": "markdown",
   "id": "ddc079a7-56e0-4cf4-a1d2-9200f51b1cd9",
   "metadata": {},
   "source": [
    "`mplhep` also is able to operate direclty on ROOT histogram objects in PyROOT thanks to `uhi`"
   ]
  },
  {
   "cell_type": "code",
   "execution_count": null,
   "id": "a1563b8f",
   "metadata": {},
   "outputs": [],
   "source": [
    "import ROOT\n",
    "\n",
    "histogram = ROOT.TH1F(\"h1\", \"h1\", 50, -2.5, 2.5)\n",
    "histogram.FillRandom(\"gaus\", 10000)\n",
    "\n",
    "mplhep.histplot(histogram);"
   ]
  },
  {
   "cell_type": "markdown",
   "id": "eabcf565",
   "metadata": {},
   "source": [
    "# Better histogramming with `hist`"
   ]
  },
  {
   "cell_type": "code",
   "execution_count": null,
   "id": "0db78d21",
   "metadata": {},
   "outputs": [],
   "source": [
    "import hist"
   ]
  },
  {
   "cell_type": "markdown",
   "id": "90514205-e239-48f1-bdd1-adf5a7e7c4e1",
   "metadata": {},
   "source": [
    "First let's make just a histogram axis"
   ]
  },
  {
   "cell_type": "code",
   "execution_count": null,
   "id": "4b3d8004",
   "metadata": {},
   "outputs": [],
   "source": [
    "# histogram creation\n",
    "one_axis_hist = hist.Hist(\n",
    "    hist.axis.Regular(10, 0, 10, name=\"x\", label=\"x-axis\"), hist.storage.Int64()\n",
    ")\n",
    "\n",
    "one_axis_hist"
   ]
  },
  {
   "cell_type": "code",
   "execution_count": null,
   "id": "e950d50a-5722-4b24-9145-b61854dc0fd2",
   "metadata": {},
   "outputs": [],
   "source": [
    "two_axes_hist = hist.Hist(\n",
    "    hist.axis.Regular(10, 0, 10, name=\"x\", label=\"x-axis\"),\n",
    "    hist.axis.Variable([0, 1, 2, 5, 10], name=\"y\", label=\"y-axis\"),\n",
    "    hist.storage.Int64(),\n",
    ")\n",
    "\n",
    "two_axes_hist"
   ]
  },
  {
   "cell_type": "markdown",
   "id": "79d41d39-fdfd-4d89-a0ea-6a0335e444dc",
   "metadata": {},
   "source": [
    "and now let's fill it"
   ]
  },
  {
   "cell_type": "code",
   "execution_count": null,
   "id": "d03b042c",
   "metadata": {},
   "outputs": [],
   "source": [
    "# basic filling\n",
    "one_axis_hist.fill([1, 4, 6])\n",
    "\n",
    "one_axis_hist"
   ]
  },
  {
   "cell_type": "code",
   "execution_count": null,
   "id": "eac35214-c102-4816-86ce-96a0956622f4",
   "metadata": {},
   "outputs": [],
   "source": [
    "# basic filling\n",
    "two_axes_hist.fill([1, 4, 6], [3, 5, 2])\n",
    "\n",
    "two_axes_hist"
   ]
  },
  {
   "cell_type": "code",
   "execution_count": null,
   "id": "101cf2eb",
   "metadata": {},
   "outputs": [],
   "source": [
    "# Filling by names is possible for better bookkeeping:\n",
    "two_axes_hist.fill(x=[1, 5, 5, 7], y=[3, 5, 2, 7])\n",
    "\n",
    "two_axes_hist"
   ]
  },
  {
   "cell_type": "code",
   "execution_count": null,
   "id": "fd025e76",
   "metadata": {},
   "outputs": [],
   "source": [
    "# information access\n",
    "two_axes_hist.values()"
   ]
  },
  {
   "cell_type": "code",
   "execution_count": null,
   "id": "6f0920f1",
   "metadata": {},
   "outputs": [],
   "source": [
    "two_axes_hist.axes[0]"
   ]
  },
  {
   "cell_type": "code",
   "execution_count": null,
   "id": "39e5a1ea",
   "metadata": {},
   "outputs": [],
   "source": [
    "two_axes_hist.axes[0].edges"
   ]
  },
  {
   "cell_type": "code",
   "execution_count": null,
   "id": "6e922f33",
   "metadata": {},
   "outputs": [],
   "source": [
    "# Print it (to CLI) using histoprint 'under the hood'\n",
    "one_axis_hist.show(columns=50)"
   ]
  },
  {
   "cell_type": "markdown",
   "id": "fcd28543",
   "metadata": {},
   "source": [
    "## Quick hist creation"
   ]
  },
  {
   "cell_type": "markdown",
   "id": "3cad33a5-e91d-4968-9933-8cc61a220609",
   "metadata": {},
   "source": [
    "Instead of having to define each axis as its own `hist.axis` object, you can also create the same histogram by chaining axes together. This is useful for quickly creating or redefining histograms."
   ]
  },
  {
   "cell_type": "code",
   "execution_count": null,
   "id": "b41ae38b",
   "metadata": {},
   "outputs": [],
   "source": [
    "# histogram creation\n",
    "h = (\n",
    "    hist.new.Regular(10, 0, 10, name=\"x\", label=\"x-axis\")\n",
    "    .Variable(range(10), name=\"y\", label=\"y-axis\")\n",
    "    .Int64()\n",
    "    .fill(*np.random.multivariate_normal([4, 6], [[2, 0], [0, 1]], 10000).T)\n",
    ")\n",
    "\n",
    "h"
   ]
  },
  {
   "cell_type": "code",
   "execution_count": null,
   "id": "9e9cc940",
   "metadata": {},
   "outputs": [],
   "source": [
    "# even quicker\n",
    "h = hist.new.Reg(10, 0, 10).Var(range(10)).Int64()\n",
    "# .fill(*np.random.multivariate_normal([4, 6], [[2, 0], [0, 1]], 10000).T)\n",
    "h"
   ]
  },
  {
   "cell_type": "markdown",
   "id": "3560f41c",
   "metadata": {},
   "source": [
    "## Axis types "
   ]
  },
  {
   "cell_type": "markdown",
   "id": "fff920a9-d335-4b69-bff1-39c638e037c3",
   "metadata": {},
   "source": [
    "`hist` allows for [multiple kinds of axes](https://hist.readthedocs.io/en/latest/user-guide/axes.html#axis-types) from [`boost-histogram`](https://github.com/scikit-hep/boost-histogram):\n",
    "\n",
    "* [Regular](https://hist.readthedocs.io/en/latest/user-guide/axes.html#regular-axis)\n",
    "* Boolean\n",
    "* [Variable](https://hist.readthedocs.io/en/latest/user-guide/axes.html#variable-axis) (variable width bins)\n",
    "* Integer\n",
    "* [IntCategory](https://hist.readthedocs.io/en/latest/user-guide/axes.html#category-axis) (bins correspond to categories that are indexed by integer values, e.g. `[2, 5, 7, 3, 9]`)\n",
    "* [StrCategory](https://hist.readthedocs.io/en/latest/user-guide/axes.html#category-axis) (bins correspond to categories that are indexed by string values, e.g. `[\"Electron\", \"Muon\"]`)"
   ]
  },
  {
   "cell_type": "code",
   "execution_count": null,
   "id": "316254a0",
   "metadata": {},
   "outputs": [],
   "source": [
    "axis0 = hist.axis.Regular(10, -5, 5, overflow=False, underflow=False, name=\"A\")\n",
    "axis1 = hist.axis.Boolean(name=\"B\")\n",
    "axis2 = hist.axis.Variable(range(10), name=\"C\")\n",
    "axis3 = hist.axis.Integer(-5, 5, overflow=False, underflow=False, name=\"D\")\n",
    "axis4 = hist.axis.IntCategory(range(10), name=\"E\")\n",
    "axis5 = hist.axis.StrCategory([\"Electron\", \"Muon\"], name=\"F\", label=\"Particles\")"
   ]
  },
  {
   "cell_type": "code",
   "execution_count": null,
   "id": "2ba4da5f",
   "metadata": {},
   "outputs": [],
   "source": [
    "# Growth!\n",
    "h = hist.new.Reg(10, 0, 10).StrCat([], growth=True).Weight()\n",
    "h.fill(np.random.normal(5, 2, 1000), \"A\")\n",
    "h.fill(np.random.normal(7, 2, 1000), \"B\")"
   ]
  },
  {
   "cell_type": "markdown",
   "id": "652ed676",
   "metadata": {},
   "source": [
    "## Storage types"
   ]
  },
  {
   "cell_type": "markdown",
   "id": "d86f33d9",
   "metadata": {},
   "source": [
    "A number of possible [storage types](https://hist.readthedocs.io/en/latest/user-guide/storages.html) exist: `Double`, `Unlimited`, `Int64`, `AutomicInt64`, `Weight`, `Mean`, and `WeightedMean`."
   ]
  },
  {
   "cell_type": "markdown",
   "id": "a5723957",
   "metadata": {},
   "source": [
    "In practice you will most commonly use `Weight()` (which keeps a sum of weights)"
   ]
  },
  {
   "cell_type": "markdown",
   "id": "283c9021-b8b9-46c9-b005-3477ba2489c2",
   "metadata": {},
   "source": [
    "By default, the `weight`s will be `1`"
   ]
  },
  {
   "cell_type": "code",
   "execution_count": null,
   "id": "7b76a5a6-e522-4382-97aa-126baf09b010",
   "metadata": {},
   "outputs": [],
   "source": [
    "hist.new.Reg(10, 0, 10).Weight().fill([1, 2, 3, 5]).plot();"
   ]
  },
  {
   "cell_type": "markdown",
   "id": "e8e73347-660e-488a-84a0-f4c78da899ce",
   "metadata": {},
   "source": [
    "and you can pass `weights` for each bin"
   ]
  },
  {
   "cell_type": "code",
   "execution_count": null,
   "id": "218885b6",
   "metadata": {},
   "outputs": [],
   "source": [
    "hist.new.Reg(10, 0, 10).Weight().fill([1, 2, 3, 5], weight=[1, 1, 1, 0.5]).plot();"
   ]
  },
  {
   "cell_type": "markdown",
   "id": "10f5926e",
   "metadata": {},
   "source": [
    "## Hist manipulation and UHI"
   ]
  },
  {
   "cell_type": "markdown",
   "id": "646a45ab-f3dc-4435-82ce-87ff750db7fe",
   "metadata": {},
   "source": [
    "For mor information on `hist` check out the user guide: https://hist.readthedocs.io/\n",
    "\n",
    "and for `uhi` the docs live at https://uhi.readthedocs.io/"
   ]
  },
  {
   "cell_type": "code",
   "execution_count": null,
   "id": "53215627",
   "metadata": {},
   "outputs": [],
   "source": [
    "# example histogram\n",
    "example_hist = (\n",
    "    hist.new.Reg(10, 0, 10, name=\"x\")\n",
    "    .Var(range(10), name=\"y\")\n",
    "    .Var(range(10), name=\"z\")\n",
    "    .Weight()\n",
    "    .fill(*np.random.multivariate_normal([4, 6, 4], np.eye(3), 100000).T)\n",
    ")\n",
    "\n",
    "example_hist"
   ]
  },
  {
   "cell_type": "code",
   "execution_count": null,
   "id": "71e8ca3d",
   "metadata": {},
   "outputs": [],
   "source": [
    "# Project on an axis\n",
    "example_hist.project(\"x\")"
   ]
  },
  {
   "cell_type": "code",
   "execution_count": null,
   "id": "55874a69-b70f-4e69-893a-5b8d4d24a232",
   "metadata": {},
   "outputs": [],
   "source": [
    "example_hist.project(\"y\")"
   ]
  },
  {
   "cell_type": "code",
   "execution_count": null,
   "id": "6410b27a-0613-487b-a536-5bf0667ab1ff",
   "metadata": {},
   "outputs": [],
   "source": [
    "example_hist.project(\"z\")"
   ]
  },
  {
   "cell_type": "code",
   "execution_count": null,
   "id": "b24025dc",
   "metadata": {},
   "outputs": [],
   "source": [
    "# Slicing (applying cuts)\n",
    "# also need to project into a one or two dimensional space (summing the counts in 'z') before visualizing\n",
    "\n",
    "# example_hist[5:, :, sum]\n",
    "example_hist[5:, :, sum].plot();"
   ]
  },
  {
   "cell_type": "markdown",
   "id": "c8af48ab-ee4f-46b2-ade7-0e6be1133c51",
   "metadata": {},
   "source": [
    "By default if we index a histogram array we are indexing by _bin_. We can also use the [`j` suffix syntax to index by _value_](https://uhi.readthedocs.io/en/latest/indexing%2B.html)"
   ]
  },
  {
   "cell_type": "code",
   "execution_count": null,
   "id": "ffce0d6f",
   "metadata": {},
   "outputs": [],
   "source": [
    "# Indexing by bin 5 onwards for x, and by value 6 onwards for y\n",
    "example_hist[5:, 6j:, sum].plot();"
   ]
  },
  {
   "cell_type": "markdown",
   "id": "5ff3acb7-7864-4874-b0f6-6e617f76eba4",
   "metadata": {},
   "source": [
    "Dictionary access also allows for selecting out views of the multidimensional object"
   ]
  },
  {
   "cell_type": "code",
   "execution_count": null,
   "id": "eb9a3e8e",
   "metadata": {},
   "outputs": [],
   "source": [
    "example_hist[5:, :, sum][{\"y\": 5}].plot();"
   ]
  },
  {
   "cell_type": "markdown",
   "id": "e05cdbb3-eda3-4d10-a9c4-76f8d7bc1799",
   "metadata": {},
   "source": [
    "and then to perform potentially complex operations"
   ]
  },
  {
   "cell_type": "code",
   "execution_count": null,
   "id": "c6b37977-377a-4d32-b56f-527a60510d02",
   "metadata": {},
   "outputs": [],
   "source": [
    "example_hist[5:, :, sum][{\"y\": 6, \"x\": sum}]\n",
    "# example_hist[5:, :, sum][{\"y\": 6, \"x\": 7j}]"
   ]
  },
  {
   "cell_type": "code",
   "execution_count": null,
   "id": "91aa8f29",
   "metadata": {},
   "outputs": [],
   "source": [
    "# Makes slicing inside dictionaries simpler\n",
    "slicer = hist.tag.Slicer()\n",
    "slicer"
   ]
  },
  {
   "cell_type": "code",
   "execution_count": null,
   "id": "7564106c",
   "metadata": {},
   "outputs": [],
   "source": [
    "example_hist[{\"z\": sum, \"y\": slicer[: hist.loc(5) : hist.sum]}]\n",
    "\n",
    "# same as:\n",
    "#\n",
    "# example_hist[:, :, sum][{\"y\": 5j}]\n",
    "#\n",
    "# but with explicit hist APIs for slicing"
   ]
  },
  {
   "cell_type": "markdown",
   "id": "888bba9c",
   "metadata": {},
   "source": [
    "## Mind the (under or over)flow bins!"
   ]
  },
  {
   "cell_type": "code",
   "execution_count": null,
   "id": "b0653956",
   "metadata": {},
   "outputs": [],
   "source": [
    "example_hist[sum, sum, :].values()"
   ]
  },
  {
   "cell_type": "code",
   "execution_count": null,
   "id": "c17eae4c",
   "metadata": {},
   "outputs": [],
   "source": [
    "example_hist[sum, sum, :].values(flow=True)"
   ]
  },
  {
   "cell_type": "code",
   "execution_count": null,
   "id": "0c3fe281",
   "metadata": {},
   "outputs": [],
   "source": [
    "example_hist[sum, 0:len:sum, :].values(flow=True)"
   ]
  },
  {
   "cell_type": "code",
   "execution_count": null,
   "id": "73d8e00d",
   "metadata": {},
   "outputs": [],
   "source": [
    "example_hist[sum, sum, :].values(flow=True) - example_hist[sum, 0:len:sum, :].values(\n",
    "    flow=True\n",
    ")"
   ]
  },
  {
   "cell_type": "code",
   "execution_count": null,
   "id": "34307226",
   "metadata": {},
   "outputs": [],
   "source": [
    "# Doesn't work in dict-access\n",
    "# example_hist[{0: 0:len:sum}]"
   ]
  },
  {
   "cell_type": "code",
   "execution_count": null,
   "id": "3b2b5ba4",
   "metadata": {},
   "outputs": [],
   "source": [
    "# Meanwhile slicer allows this syntax in dict-access\n",
    "example_hist[{0: slicer[0:len:sum]}]"
   ]
  },
  {
   "cell_type": "code",
   "execution_count": null,
   "id": "4a4b33c0",
   "metadata": {},
   "outputs": [],
   "source": [
    "# If you know you won't need them, you can skip flow bins\n",
    "hist.new.Reg(10, 0, 10, flow=False).Weight()"
   ]
  },
  {
   "cell_type": "markdown",
   "id": "86d4055b",
   "metadata": {},
   "source": [
    " ## Hist plots with mplhep"
   ]
  },
  {
   "cell_type": "code",
   "execution_count": null,
   "id": "e7e863cb",
   "metadata": {},
   "outputs": [],
   "source": [
    "h = hist.new.Reg(10, 0, 10).Weight().fill(np.random.normal(5, 1, 1000))"
   ]
  },
  {
   "cell_type": "code",
   "execution_count": null,
   "id": "52294ffc",
   "metadata": {},
   "outputs": [],
   "source": [
    "# Plot it\n",
    "h.plot(color=\"red\", density=True);"
   ]
  },
  {
   "cell_type": "code",
   "execution_count": null,
   "id": "a4970d1b",
   "metadata": {},
   "outputs": [],
   "source": [
    "# equivalent to\n",
    "mplhep.histplot(h, color=\"red\", density=True)"
   ]
  },
  {
   "cell_type": "code",
   "execution_count": null,
   "id": "526ce8eb",
   "metadata": {},
   "outputs": [],
   "source": [
    "# Access and modify artists\n",
    "art = h.plot(color=\"red\", density=True)\n",
    "plt.setp(\n",
    "    art[0].stairs, edgecolor=\"blue\", fill=True, facecolor=\"lightgreen\", hatch=\"///\"\n",
    ");"
   ]
  },
  {
   "cell_type": "markdown",
   "id": "bbff9946",
   "metadata": {},
   "source": [
    "## N-D Histograms are cool"
   ]
  },
  {
   "cell_type": "markdown",
   "id": "e9040b52-ca9c-40f8-b528-4ac828a8500b",
   "metadata": {},
   "source": [
    "We can create a multi-dimensional histogram"
   ]
  },
  {
   "cell_type": "code",
   "execution_count": null,
   "id": "1df6a615",
   "metadata": {},
   "outputs": [],
   "source": [
    "# Create a new hist\n",
    "h2d = (\n",
    "    hist.new.Reg(10, 0, 10, name=\"x\")\n",
    "    .StrCat([\"A\", \"B\"], growth=True, name=\"dataset\")\n",
    "    .Weight()\n",
    ")\n",
    "h2d"
   ]
  },
  {
   "cell_type": "markdown",
   "id": "fc51d5df-bb0e-4417-9bca-12fc63b88825",
   "metadata": {},
   "source": [
    "and then fill it (and expand the number of axes)"
   ]
  },
  {
   "cell_type": "code",
   "execution_count": null,
   "id": "19c812c3",
   "metadata": {},
   "outputs": [],
   "source": [
    "h2d.fill(np.random.normal(3, 1, 1000), \"A\")\n",
    "h2d.fill(np.random.normal(5, 1, 3000), \"B\")\n",
    "h2d.fill(np.random.normal(7, 1, 2000), \"C\")\n",
    "h2d.plot2d();"
   ]
  },
  {
   "cell_type": "markdown",
   "id": "72829121-38a7-4f6d-86e5-2e385626ac53",
   "metadata": {},
   "source": [
    "and also project down into a subset of the axes into different ranges"
   ]
  },
  {
   "cell_type": "code",
   "execution_count": null,
   "id": "a76ebc94",
   "metadata": {},
   "outputs": [],
   "source": [
    "h2d[:6, [\"A\", \"B\"]].plot(stack=True, histtype=\"step\", sort=\"y_r\")\n",
    "plt.legend()"
   ]
  },
  {
   "cell_type": "code",
   "execution_count": null,
   "id": "2ff6d513",
   "metadata": {},
   "outputs": [],
   "source": [
    "mplhep.hist2dplot(h2d, labels=True);"
   ]
  },
  {
   "cell_type": "markdown",
   "id": "84caa02f",
   "metadata": {},
   "source": [
    "# Analysis-like example"
   ]
  },
  {
   "cell_type": "code",
   "execution_count": null,
   "id": "6560726c",
   "metadata": {},
   "outputs": [],
   "source": [
    "nd_hist = (\n",
    "    hist.new.Reg(100, 0, 100, name=\"x\", label=\"Observable\")\n",
    "    .Var([0, 0.2, 0.5, 0.9, 1], name=\"tag\", label=\"Some MVA\")\n",
    "    .StrCat([\"A\"], growth=True, name=\"dataset\")\n",
    "    .IntCat([0, 1, 2, 3], name=\"region\")\n",
    "    .StrCat([\"A\"], growth=True, name=\"syst\", label=\"Systematic\")\n",
    "    .Weight()\n",
    ")"
   ]
  },
  {
   "cell_type": "code",
   "execution_count": null,
   "id": "77952be3",
   "metadata": {},
   "outputs": [],
   "source": [
    "# Small random letter helper\n",
    "def rnd_letters(a=\"A\", z=\"Z\", N=10):\n",
    "    A, Z = np.array([a, z]).view(\"int32\")\n",
    "    return list(\n",
    "        np.random.randint(low=A, high=Z, size=N, dtype=\"int32\").view(f\"U{N}\")[0]\n",
    "    )\n",
    "\n",
    "\n",
    "rnd_letters(\"C\", \"F\")"
   ]
  },
  {
   "cell_type": "code",
   "execution_count": null,
   "id": "9d55e692",
   "metadata": {},
   "outputs": [],
   "source": [
    "# And fill it\n",
    "N = 400000\n",
    "for sample in set(rnd_letters(\"A\", \"G\", 500)):\n",
    "    nd_hist.fill(\n",
    "        x=np.random.normal(np.random.randint(20, 80, 1), 10, N),\n",
    "        tag=np.random.uniform(0, 1, N),\n",
    "        dataset=sample,\n",
    "        region=np.random.randint(0, 4, N),\n",
    "        syst=rnd_letters(\"P\", \"Z\", N=N),\n",
    "    )\n",
    "\n",
    "nd_hist"
   ]
  },
  {
   "cell_type": "code",
   "execution_count": null,
   "id": "062d70e1",
   "metadata": {},
   "outputs": [],
   "source": [
    "# Simple slices\n",
    "nd_hist[:, 0.5j:len:sum, :, 0, \"X\"].plot2d()"
   ]
  },
  {
   "cell_type": "code",
   "execution_count": null,
   "id": "7f1248f8",
   "metadata": {},
   "outputs": [],
   "source": [
    "# Slice by name\n",
    "s = hist.tag.Slicer()\n",
    "nd_hist[{\"tag\": s[0.5j:len:sum], \"region\": 0, \"syst\": \"X\"}].plot()\n",
    "plt.legend();"
   ]
  },
  {
   "cell_type": "markdown",
   "id": "a086adbc",
   "metadata": {},
   "source": [
    "### Scale \"sample\" by \"cross-section\""
   ]
  },
  {
   "cell_type": "code",
   "execution_count": null,
   "id": "8c7adbac",
   "metadata": {},
   "outputs": [],
   "source": [
    "nd_hist[{\"dataset\": \"A\"}] = nd_hist[{\"dataset\": \"A\"}].view() * 2.5\n",
    "\n",
    "nd_hist[{\"tag\": s[0.5j:len:sum], \"region\": 0, \"syst\": \"X\"}].plot()\n",
    "plt.legend();"
   ]
  },
  {
   "cell_type": "markdown",
   "id": "8a503acb",
   "metadata": {},
   "source": [
    "### Group datasets (to be replaced by native hist function)"
   ]
  },
  {
   "cell_type": "code",
   "execution_count": null,
   "id": "8c881f2b",
   "metadata": {},
   "outputs": [],
   "source": [
    "def groupby(h, groupmap, axis=\"dataset\"):\n",
    "    new = hist.Hist(\n",
    "        *[ax for ax in h.axes if ax.name != axis],\n",
    "        hist.axis.StrCategory(groupmap.keys(), name=axis, growth=True),\n",
    "        hist.storage.Weight(),\n",
    "    )\n",
    "\n",
    "    for name, cats in groupmap.items():\n",
    "        grouped = sum([h[{axis: name}] for name in cats])\n",
    "        new[{axis: name}] = grouped.view(flow=True)\n",
    "    return new\n",
    "\n",
    "\n",
    "groupby(nd_hist, {\"d1\": [\"A\", \"B\", \"C\"], \"d2\": [\"D\", \"E\", \"F\"]})[\n",
    "    {\"tag\": s[0.5j:len:sum], \"region\": 0, \"syst\": \"X\"}\n",
    "].plot()\n",
    "plt.legend();"
   ]
  },
  {
   "cell_type": "markdown",
   "id": "226dc054",
   "metadata": {},
   "source": [
    "### Desired end goal - 1D templates of each sample, passing a cut, per region per systematic"
   ]
  },
  {
   "cell_type": "code",
   "execution_count": null,
   "id": "8e92eb38",
   "metadata": {},
   "outputs": [],
   "source": [
    "cut = {\"tag\": s[0.5j:len:sum]}  # Events passing 0.5 threshold\n",
    "\n",
    "templates = {}\n",
    "for sample in nd_hist.axes[\"dataset\"]:\n",
    "    for region in nd_hist.axes[\"region\"]:\n",
    "        for syst in nd_hist.axes[\"syst\"]:\n",
    "            template_name = f\"region{region}_{sample}_sys{syst}\"\n",
    "            templates[template_name] = nd_hist[\n",
    "                {**cut, \"dataset\": sample, \"region\": region, \"syst\": syst}\n",
    "            ]"
   ]
  },
  {
   "cell_type": "code",
   "execution_count": null,
   "id": "9087e40b",
   "metadata": {},
   "outputs": [],
   "source": [
    "templates[\"region0_B_sysX\"]"
   ]
  },
  {
   "cell_type": "markdown",
   "id": "8364021a",
   "metadata": {},
   "source": [
    "### Save it via uproot"
   ]
  },
  {
   "cell_type": "code",
   "execution_count": null,
   "id": "4408878c",
   "metadata": {},
   "outputs": [],
   "source": [
    "import uproot\n",
    "\n",
    "output_file = uproot.recreate(\"some_file.root\")\n",
    "output_file[\"my_hist\"] = templates[\"region0_B_sysX\"]\n",
    "output_file.close()"
   ]
  },
  {
   "cell_type": "markdown",
   "id": "34852a00-68b5-4bba-a7f7-d523633355f9",
   "metadata": {},
   "source": [
    "and read it back in"
   ]
  },
  {
   "cell_type": "code",
   "execution_count": null,
   "id": "b59a15cd",
   "metadata": {},
   "outputs": [],
   "source": [
    "input_file = uproot.open(\"some_file.root\")\n",
    "mplhep.histplot(input_file[\"my_hist\"])"
   ]
  },
  {
   "cell_type": "markdown",
   "id": "aa390a1f",
   "metadata": {},
   "source": [
    "# Styling with mplhep\n",
    "* Primary purpose of `mplhep` is to serve and distribute styles \n",
    "   - **ALICE**\n",
    "   - **ATLAS**\n",
    "   - **CMS**\n",
    "   - **LHCb**\n",
    "* To ensure plots looks the same on any framework fonts need to be included\n",
    "   - I am liable to go on a rant, so suffice to say:\n",
    "      - We package an open look-alike of Helvetica called Tex Gyre Heros"
   ]
  },
  {
   "cell_type": "code",
   "execution_count": null,
   "id": "924c256d",
   "metadata": {},
   "outputs": [],
   "source": [
    "mplhep.style.use([mplhep.style.CMS, {\"figure.figsize\": (8, 8)}])\n",
    "mplhep.histplot(np.histogram(np.random.normal(10, 3, 1000)), histtype=\"fill\")\n",
    "mplhep.cms.label();"
   ]
  },
  {
   "cell_type": "markdown",
   "id": "7bc382e6",
   "metadata": {},
   "source": [
    "# CMS Colors - automatically with `hep.style.CMS`"
   ]
  },
  {
   "cell_type": "markdown",
   "id": "7c744770",
   "metadata": {},
   "source": [
    "- Data should be always shown in black. Basic color recommendations with examples are found below.\n",
    "\n",
    "- Categorical Data (e.g. 1D Stackplots): Use the color sequence suggested by M. Petroff in [Accessible Color Sequences for Data Visualization](https://arxiv.org/abs/2107.02270) and [available on GitHub](https://github.com/mpetroff/accessible-color-cycles) (MIT License). \n",
    "- Specifically you should use the Petroff 6-color cycle:\n",
    "`[\"#5790fc\", \"#f89c20\", \"#e42536\", \"#964a8b\", \"#9c9ca1\", \"#7a21dd\"]`"
   ]
  },
  {
   "cell_type": "code",
   "execution_count": null,
   "id": "cadb8b74",
   "metadata": {},
   "outputs": [],
   "source": [
    "from matplotlib.colors import ListedColormap\n",
    "\n",
    "petroff6 = ListedColormap(\n",
    "    [\"#5790fc\", \"#f89c20\", \"#e42536\", \"#964a8b\", \"#9c9ca1\", \"#7a21dd\"]\n",
    ")\n",
    "petroff6"
   ]
  },
  {
   "cell_type": "code",
   "execution_count": null,
   "id": "2a95ae1d",
   "metadata": {},
   "outputs": [],
   "source": [
    "nd_hist[\n",
    "    {\"tag\": s[0.5j:len:sum], \"region\": 0, \"syst\": \"X\", \"x\": s[:: hist.tag.rebin(3)]}\n",
    "].plot(histtype=\"fill\", stack=True)\n",
    "plt.legend();"
   ]
  },
  {
   "cell_type": "markdown",
   "id": "d9fd4f1b",
   "metadata": {},
   "source": [
    " - or if more colors are needed the Petroff 10-color cycle:\n",
    "    ```\n",
    "    [\"#3f90da\", \"#ffa90e\", \"#bd1f01\", \"#94a4a2\", \"#832db6\", \"#a96b59\", \"#e76300\", \"#b9ac70\", \"#717581\", \"#92dadd\"]\n",
    "    ```\n",
    "\n",
    "which was added to Matplotlib in `v3.10.0`."
   ]
  },
  {
   "cell_type": "code",
   "execution_count": null,
   "id": "4b80d810",
   "metadata": {},
   "outputs": [],
   "source": [
    "# matplotlib v3.9.x\n",
    "# from matplotlib.colors import ListedColormap\n",
    "# petroff10 = ListedColormap([\"#3f90da\", \"#ffa90e\", \"#bd1f01\", \"#94a4a2\", \"#832db6\", \"#a96b59\", \"#e76300\", \"#b9ac70\", \"#717581\", \"#92dadd\"])\n",
    "# petroff10\n",
    "\n",
    "# maptlotlib v3.10.0+\n",
    "import matplotlib.pyplot as plt\n",
    "\n",
    "plt.style.use(\"petroff10\")"
   ]
  },
  {
   "cell_type": "code",
   "execution_count": null,
   "id": "883dd8d6-23e1-4188-9339-a6af0711b922",
   "metadata": {},
   "outputs": [],
   "source": [
    "import matplotlib as mpl\n",
    "from matplotlib.colors import ListedColormap\n",
    "\n",
    "ListedColormap(mpl.color_sequences[\"petroff10\"])"
   ]
  },
  {
   "cell_type": "markdown",
   "id": "1743af6a",
   "metadata": {},
   "source": [
    "# 2D plot"
   ]
  },
  {
   "cell_type": "code",
   "execution_count": null,
   "id": "e53677c5",
   "metadata": {},
   "outputs": [],
   "source": [
    "nd_hist[\n",
    "    {\"tag\": s[0.5j:len:sum], \"region\": 0, \"syst\": \"X\", \"x\": s[:: hist.tag.rebin(3)]}\n",
    "].plot2d();"
   ]
  },
  {
   "cell_type": "markdown",
   "id": "1fcc632f-c1ea-465a-82ec-6499bf1e88eb",
   "metadata": {},
   "source": [
    "## 2025 Improvements"
   ]
  },
  {
   "cell_type": "markdown",
   "id": "18e902ec-2fc3-4270-b0a0-2176a247b0ae",
   "metadata": {},
   "source": [
    "### hist"
   ]
  },
  {
   "cell_type": "markdown",
   "id": "89edddd5-5cf4-45b1-993f-3b220e45328c",
   "metadata": {},
   "source": [
    "`StrCat` list indexing now allows for wildcards to be used"
   ]
  },
  {
   "cell_type": "code",
   "execution_count": null,
   "id": "cfa7e40b-b0e3-41a9-8aea-8fe4a943e624",
   "metadata": {},
   "outputs": [],
   "source": [
    "import hist\n",
    "import numpy as np\n",
    "import string\n",
    "\n",
    "h = hist.new.Reg(10, 0, 10).StrCat([], growth=True).Weight()\n",
    "N = 100_000\n",
    "for cat in [\"ABC\", \"BCD\", \"CDE\", \"DEF\"]:\n",
    "    h.fill(np.random.normal(np.random.uniform(0, 10), 1, N), cat)\n",
    "h.plot2d();"
   ]
  },
  {
   "cell_type": "markdown",
   "id": "3115cce0-d9ed-45aa-83cb-392c827378da",
   "metadata": {},
   "source": [
    "Project out the axes that have an `E` in the axes name"
   ]
  },
  {
   "cell_type": "code",
   "execution_count": null,
   "id": "2a2d35a6-075b-4c18-8e8a-460ac32601df",
   "metadata": {},
   "outputs": [],
   "source": [
    "h[:, \"*E*\"].plot2d();"
   ]
  },
  {
   "cell_type": "markdown",
   "id": "2afad263-29ea-418d-ac24-f51302861e8c",
   "metadata": {},
   "source": [
    "Project out the axes that have a `B` in the axes name and any axes that have an axes name that is 3 charecters long where the middle character is `D`.\n",
    "\n",
    "### Note\n",
    "\n",
    "If you're not familiar with the `?` wildcard syntax, it means \"match exactly one charecter of any kind\" where `*` means \"match zero or more charecters of any kind\"."
   ]
  },
  {
   "cell_type": "code",
   "execution_count": null,
   "id": "e4ba5c5d-9cad-40a4-a75c-bc1aa6cd9ab3",
   "metadata": {},
   "outputs": [],
   "source": [
    "h[:, [\"*B*\", \"?D?\"]].plot2d();"
   ]
  }
 ],
 "metadata": {
  "kernelspec": {
   "display_name": "Python 3 (ipykernel)",
   "language": "python",
   "name": "python3"
  },
  "language_info": {
   "codemirror_mode": {
    "name": "ipython",
    "version": 3
   },
   "file_extension": ".py",
   "mimetype": "text/x-python",
   "name": "python",
   "nbconvert_exporter": "python",
   "pygments_lexer": "ipython3",
   "version": "3.13.3"
  }
 },
 "nbformat": 4,
 "nbformat_minor": 5
}
