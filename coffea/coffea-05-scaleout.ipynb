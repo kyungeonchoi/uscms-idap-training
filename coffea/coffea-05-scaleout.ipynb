{
 "cells": [
  {
   "cell_type": "code",
   "execution_count": null,
   "id": "6ecec3ca",
   "metadata": {},
   "outputs": [],
   "source": [
    "import awkward as ak\n",
    "import dask\n",
    "import hist\n",
    "import hist.dask\n",
    "import json\n",
    "from coffea import processor\n",
    "from coffea.nanoevents import BaseSchema, NanoAODSchema \n",
    "from coffea.dataset_tools import apply_to_dataset, apply_to_fileset, preprocess, rucio_utils\n",
    "from coffea.dataset_tools import max_chunks, max_files, slice_chunks, slice_files\n",
    "import corrections\n",
    "import matplotlib.pyplot as plt\n",
    "\n",
    "\n",
    "class MyZPeak(processor.ProcessorABC):\n",
    "    def __init__(self, mode=\"virtual\"):\n",
    "        assert mode in [\"eager\", \"virtual\", \"dask\"]\n",
    "        self._mode = mode\n",
    "        \n",
    "    def process(self, events):\n",
    "        dataset = events.metadata['dataset']\n",
    "        isRealData = \"genWeight\" not in events.fields\n",
    "        sumw = 0. if isRealData else ak.sum(events.genWeight, axis=0)\n",
    "        cutflow = {\"start\": ak.num(events, axis=0)}\n",
    "        \n",
    "        if isRealData:\n",
    "            events = events[\n",
    "                corrections.lumimask(events.run, events.luminosityBlock)\n",
    "            ]\n",
    "            cutflow[\"lumimask\"] = ak.num(events, axis=0)\n",
    "    \n",
    "        events[\"goodmuons\"] = events.Muon[\n",
    "            (events.Muon.pt >= 20.)\n",
    "            & events.Muon.tightId\n",
    "        ]\n",
    "\n",
    "        events = events[\n",
    "            (ak.num(events.goodmuons) == 2)\n",
    "            & (ak.sum(events.goodmuons.charge, axis=1) == 0)\n",
    "        ]\n",
    "        cutflow[\"ossf\"] = ak.num(events, axis=0)\n",
    "        \n",
    "        # add first and second muon p4 in every event together\n",
    "        events[\"zcand\"] = events.goodmuons[:, 0] + events.goodmuons[:, 1]\n",
    "\n",
    "        # require trigger\n",
    "        events = events[\n",
    "            # https://twiki.cern.ch/twiki/bin/view/CMS/MuonHLT2018\n",
    "            events.HLT.Mu17_TrkIsoVVL_Mu8_TrkIsoVVL_DZ_Mass3p8\n",
    "        ]\n",
    "        weight = 1 * ak.ones_like(events.event) if isRealData else events.genWeight\n",
    "        cutflow[\"trigger\"] = ak.num(events, axis=0)\n",
    "\n",
    "        if self._mode == \"dask\":\n",
    "            hist_class = hist.dask.Hist\n",
    "        else:\n",
    "            hist_class = hist.Hist\n",
    "\n",
    "        h = hist_class.new.Reg(120, 0., 120., label=r\"$m_{\\mu\\mu}$ [GeV]\").Weight()\n",
    "\n",
    "        if self._mode == \"dask\":\n",
    "            return {\n",
    "                    \"entries\": ak.num(events, axis=0),\n",
    "                    \"sumw\": sumw,\n",
    "                    \"cutflow\": cutflow,\n",
    "                    \"mass\": h.fill(events.zcand.mass, weight=weight)\n",
    "                }\n",
    "        else:\n",
    "            return {\n",
    "                dataset: {\n",
    "                    \"entries\": ak.num(events, axis=0),\n",
    "                    \"sumw\": sumw,\n",
    "                    \"cutflow\": cutflow,\n",
    "                    \"mass\": h.fill(events.zcand.mass, weight=weight)\n",
    "                }\n",
    "            }\n",
    "\n",
    "    def postprocess(self, accumulator):\n",
    "        return accumulator"
   ]
  },
  {
   "cell_type": "code",
   "execution_count": null,
   "id": "ef8ed89c-606f-4d6b-9ee8-65fc51a39bbb",
   "metadata": {
    "tags": []
   },
   "outputs": [],
   "source": [
    "from dask.distributed import Client\n",
    "\n",
    "client = Client(\"tls://localhost:8786\")\n",
    "client"
   ]
  },
  {
   "cell_type": "code",
   "execution_count": null,
   "id": "6e4fa5b5",
   "metadata": {},
   "outputs": [],
   "source": [
    "import shutil\n",
    "shutil.make_archive(\"corrections\", \"zip\", base_dir=\"corrections\")"
   ]
  },
  {
   "cell_type": "code",
   "execution_count": null,
   "id": "5954b16e-1e8c-4280-af62-c487a2b49d69",
   "metadata": {},
   "outputs": [],
   "source": [
    "client.upload_file(\"corrections.zip\")"
   ]
  },
  {
   "cell_type": "code",
   "execution_count": null,
   "id": "1645956d-00ce-4fee-b521-8296097a5a08",
   "metadata": {
    "tags": []
   },
   "outputs": [],
   "source": [
    "with open(\"fileset.json\", \"rt\") as file:\n",
    "    initial_fileset = json.load(file)"
   ]
  },
  {
   "cell_type": "markdown",
   "id": "4e0f0ad9-03b0-4244-aad0-06db06661516",
   "metadata": {},
   "source": [
    "# Scaling in Virtual mode"
   ]
  },
  {
   "cell_type": "code",
   "execution_count": null,
   "id": "defadc71-1ad0-4401-a2b7-cf58bf6dcd82",
   "metadata": {},
   "outputs": [],
   "source": [
    "run = processor.Runner(\n",
    "    executor = processor.DaskExecutor(client=client, compression=None),\n",
    "    schema=NanoAODSchema,\n",
    "    chunksize=100_000,\n",
    "    skipbadfiles=True,\n",
    "    savemetrics=True,\n",
    "    maxchunks=7,\n",
    ")\n",
    "\n",
    "small_result, small_report = run(\n",
    "    initial_fileset,\n",
    "    processor_instance=MyZPeak(\"virtual\"),\n",
    ")"
   ]
  },
  {
   "cell_type": "markdown",
   "id": "07408384-fca7-47fb-a50d-eb58ecde649b",
   "metadata": {},
   "source": [
    "# Scaling in Dask mode"
   ]
  },
  {
   "cell_type": "code",
   "execution_count": null,
   "id": "5fca39dc-246a-424a-8e43-4b0771d766ae",
   "metadata": {},
   "outputs": [],
   "source": [
    "preprocessed_available, preprocessed_total = preprocess(\n",
    "        initial_fileset,\n",
    "        step_size=100_000,\n",
    "        align_clusters=None,\n",
    "        skip_bad_files=True,\n",
    "        recalculate_steps=False,\n",
    "        files_per_batch=1,\n",
    "        file_exceptions=(OSError,),\n",
    "        save_form=True,\n",
    "        uproot_options={},\n",
    "        step_size_safety_factor=0.5,\n",
    "    )"
   ]
  },
  {
   "cell_type": "code",
   "execution_count": null,
   "id": "81d2939e-a443-45d1-b010-f9cf90a38400",
   "metadata": {
    "tags": []
   },
   "outputs": [],
   "source": [
    "import gzip, pickle, json\n",
    "output_file = \"scaleout_fileset\"\n",
    "with gzip.open(f\"{output_file}_available.json.gz\", \"wt\") as file:\n",
    "    json.dump(preprocessed_available, file, indent=2)\n",
    "    print(f\"Saved available fileset chunks to {output_file}_available.json.gz\")\n",
    "with gzip.open(f\"{output_file}_all.json.gz\", \"wt\") as file:\n",
    "    json.dump(preprocessed_total, file, indent=2)\n",
    "    print(f\"Saved complete fileset chunks to {output_file}_all.json.gz\")"
   ]
  },
  {
   "cell_type": "code",
   "execution_count": null,
   "id": "1d7762d7-e4d3-45ee-acda-eb816ef47e42",
   "metadata": {},
   "outputs": [],
   "source": [
    "test_preprocessed_files = max_files(preprocessed_available, 5)\n",
    "test_preprocessed = max_chunks(test_preprocessed_files, 7)"
   ]
  },
  {
   "cell_type": "code",
   "execution_count": null,
   "id": "ad9fd74e-ee15-4d10-8822-6729325d7749",
   "metadata": {},
   "outputs": [],
   "source": [
    "small_tg, small_rep = apply_to_fileset(data_manipulation=MyZPeak(\"dask\"),\n",
    "                            fileset=test_preprocessed,\n",
    "                            schemaclass=NanoAODSchema,\n",
    "                            uproot_options={\"allow_read_errors_with_report\": (OSError, ValueError)},\n",
    "                           )"
   ]
  },
  {
   "cell_type": "code",
   "execution_count": null,
   "id": "50367b4a-9f05-4fd5-bfb7-d2d573f0ca80",
   "metadata": {
    "tags": []
   },
   "outputs": [],
   "source": [
    "small_result, small_report = dask.compute(small_tg, small_rep)"
   ]
  },
  {
   "cell_type": "code",
   "execution_count": null,
   "id": "c02bdce6-d79e-40a7-ba25-3596e87360f2",
   "metadata": {},
   "outputs": [],
   "source": []
  }
 ],
 "metadata": {
  "kernelspec": {
   "display_name": "Python 3 (ipykernel)",
   "language": "python",
   "name": "python3"
  },
  "language_info": {
   "codemirror_mode": {
    "name": "ipython",
    "version": 3
   },
   "file_extension": ".py",
   "mimetype": "text/x-python",
   "name": "python",
   "nbconvert_exporter": "python",
   "pygments_lexer": "ipython3",
   "version": "3.12.10"
  }
 },
 "nbformat": 4,
 "nbformat_minor": 5
}
