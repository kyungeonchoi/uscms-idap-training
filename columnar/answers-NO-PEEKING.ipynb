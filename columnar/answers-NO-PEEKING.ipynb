{
 "cells": [
  {
   "cell_type": "markdown",
   "id": "0bd07e5a-95b2-43de-b44c-a14b06cc61d9",
   "metadata": {},
   "source": [
    "## Answers"
   ]
  },
  {
   "cell_type": "markdown",
   "id": "d9710fd1-90d7-40fc-a3db-34b29dcf2193",
   "metadata": {},
   "source": [
    "Run the `piplite` cell only if you're on JupyterLite."
   ]
  },
  {
   "cell_type": "code",
   "execution_count": null,
   "id": "68a248b8-e1fa-47a8-a839-11b4fc7ef47e",
   "metadata": {},
   "outputs": [],
   "source": [
    "import piplite\n",
    "await piplite.install(\"awkward==2.5.0\")\n",
    "await piplite.install(\"hist\")\n",
    "await piplite.install(\"uproot\")\n",
    "await piplite.install(\"vector\")"
   ]
  },
  {
   "cell_type": "code",
   "execution_count": 1,
   "id": "3ae625e1-9746-40e8-a3b7-8d9ba21c7014",
   "metadata": {},
   "outputs": [],
   "source": [
    "import zlib\n",
    "import numpy as np\n",
    "import matplotlib.pyplot as plt\n",
    "import matplotlib.image\n",
    "import awkward as ak\n",
    "from hist import Hist\n",
    "import uproot\n",
    "import vector\n",
    "vector.register_awkward()"
   ]
  },
  {
   "cell_type": "markdown",
   "id": "5fb717b4-8fb0-4d44-afba-3079e2755363",
   "metadata": {},
   "source": [
    "<br><br><br>"
   ]
  },
  {
   "cell_type": "markdown",
   "id": "4e165289-75e7-458e-9565-e6010b85892c",
   "metadata": {},
   "source": [
    "### NumPy puzzle 1"
   ]
  },
  {
   "cell_type": "code",
   "execution_count": 2,
   "id": "d0f6c22d-ce12-40e8-9ebb-a29262d57f4f",
   "metadata": {},
   "outputs": [],
   "source": [
    "array3d = np.arange(2 * 3 * 5).reshape(2, 3, 5)"
   ]
  },
  {
   "cell_type": "markdown",
   "id": "298851aa-2878-41bd-85a1-99d06311b9b5",
   "metadata": {},
   "source": [
    "#### Solution"
   ]
  },
  {
   "cell_type": "markdown",
   "id": "2728af73-4fe5-4d01-8678-c4eaa9843962",
   "metadata": {},
   "source": [
    "Either keep the number of dimensions intact (the first dimension has length 1):"
   ]
  },
  {
   "cell_type": "code",
   "execution_count": 3,
   "id": "6048f0c3-894e-4949-bb56-6fcc50928585",
   "metadata": {},
   "outputs": [
    {
     "data": {
      "text/plain": [
       "array([[[ 2,  3,  4],\n",
       "        [ 7,  8,  9],\n",
       "        [12, 13, 14]]])"
      ]
     },
     "execution_count": 3,
     "metadata": {},
     "output_type": "execute_result"
    }
   ],
   "source": [
    "array3d[:1, :, 2:]"
   ]
  },
  {
   "cell_type": "markdown",
   "id": "30e3de45-a766-488d-a178-b949c2bb1db1",
   "metadata": {},
   "source": [
    "or reduce that dimension:"
   ]
  },
  {
   "cell_type": "code",
   "execution_count": 4,
   "id": "895c4104-9868-490f-b3e2-a095f50c72d2",
   "metadata": {},
   "outputs": [
    {
     "data": {
      "text/plain": [
       "array([[ 2,  3,  4],\n",
       "       [ 7,  8,  9],\n",
       "       [12, 13, 14]])"
      ]
     },
     "execution_count": 4,
     "metadata": {},
     "output_type": "execute_result"
    }
   ],
   "source": [
    "array3d[0, :, 2:]"
   ]
  },
  {
   "cell_type": "markdown",
   "id": "2a958544-6587-4251-8c77-687f5e7792b0",
   "metadata": {},
   "source": [
    "These are different answers to the question, but both are fine."
   ]
  },
  {
   "cell_type": "markdown",
   "id": "27f63c67-2afd-4604-8faa-c4448b0bea27",
   "metadata": {},
   "source": [
    "<br><br><br>"
   ]
  },
  {
   "cell_type": "markdown",
   "id": "f9f8b5c5-00ba-4065-b5fd-320205862c56",
   "metadata": {
    "jp-MarkdownHeadingCollapsed": true
   },
   "source": [
    "### NumPy puzzle 2"
   ]
  },
  {
   "cell_type": "code",
   "execution_count": 5,
   "id": "ff00f772-f2f0-4b74-bb41-d1f5e23bfd57",
   "metadata": {},
   "outputs": [],
   "source": [
    "array = np.array([1.1, 2.2, 3.3, 4.4, 5.5, 6.6, 7.7, 8.8, 9.9])"
   ]
  },
  {
   "cell_type": "markdown",
   "id": "0a71aed5-4231-4b3c-b19f-d1915f80e582",
   "metadata": {},
   "source": [
    "#### Solution"
   ]
  },
  {
   "cell_type": "markdown",
   "id": "3f778392-4683-4bc5-a0ce-2a528881a419",
   "metadata": {},
   "source": [
    "This involves slicing and applying a [universal function](https://numpy.org/doc/stable/reference/ufuncs.html) across all elements, showing how NumPy's elementary operations can be combined to get functionality that wasn't explicitly compiled into the library."
   ]
  },
  {
   "cell_type": "code",
   "execution_count": 6,
   "id": "58fe3314-481a-447c-828d-18bcc6253489",
   "metadata": {},
   "outputs": [
    {
     "data": {
      "text/plain": [
       "array([1.1, 1.1, 1.1, 1.1, 1.1, 1.1, 1.1, 1.1])"
      ]
     },
     "execution_count": 6,
     "metadata": {},
     "output_type": "execute_result"
    }
   ],
   "source": [
    "array[1:] - array[:-1]"
   ]
  },
  {
   "cell_type": "markdown",
   "id": "193d6e9a-848d-4c99-9971-2b5b3a19558d",
   "metadata": {},
   "source": [
    "<br><br><br>"
   ]
  },
  {
   "cell_type": "markdown",
   "id": "c4698f7a-f7d2-48e0-80dc-ab577fec85c7",
   "metadata": {
    "jp-MarkdownHeadingCollapsed": true
   },
   "source": [
    "### NumPy puzzle 3"
   ]
  },
  {
   "cell_type": "code",
   "execution_count": 7,
   "id": "90ccdbf1-d79e-4649-b0a0-7aafc1060410",
   "metadata": {},
   "outputs": [],
   "source": [
    "t = np.linspace(0, 2*np.pi, 10000)\n",
    "x = np.sin(3*t)\n",
    "y = np.sin(4*t)"
   ]
  },
  {
   "cell_type": "markdown",
   "id": "578ef2bf-a7c6-45ef-bfe2-dc96679ef061",
   "metadata": {},
   "source": [
    "#### Solution"
   ]
  },
  {
   "cell_type": "markdown",
   "id": "9e061ad0-616f-4954-8df1-0ce57967f3d4",
   "metadata": {},
   "source": [
    "This calculation of path length involves slicing, universal functions, and reduction."
   ]
  },
  {
   "cell_type": "code",
   "execution_count": 8,
   "id": "65e32cfb-5133-4d56-a045-54807348aafb",
   "metadata": {},
   "outputs": [
    {
     "data": {
      "text/plain": [
       "9564.961050220914"
      ]
     },
     "execution_count": 8,
     "metadata": {},
     "output_type": "execute_result"
    }
   ],
   "source": [
    "np.sum(np.sqrt((x[1:] - x[-1:])**2 + (y[1:] - y[-1:])**2), axis=0)"
   ]
  },
  {
   "cell_type": "markdown",
   "id": "7414d05e-9a72-4235-9242-91b5f28b73e2",
   "metadata": {},
   "source": [
    "<br><br><br>"
   ]
  },
  {
   "cell_type": "markdown",
   "id": "81184944-56dc-4c89-8a34-b00ee71cab96",
   "metadata": {
    "jp-MarkdownHeadingCollapsed": true
   },
   "source": [
    "### NumPy puzzle 4"
   ]
  },
  {
   "cell_type": "code",
   "execution_count": 9,
   "id": "b5734d1f-ec2a-47c3-8b0f-0cf99e488b35",
   "metadata": {},
   "outputs": [],
   "source": [
    "image = matplotlib.image.imread(\"data/sun-shines-in-CMS.jpg\")"
   ]
  },
  {
   "cell_type": "markdown",
   "id": "7599a221-1075-4b22-9913-3af6abda0afb",
   "metadata": {
    "jp-MarkdownHeadingCollapsed": true
   },
   "source": [
    "#### Solution"
   ]
  },
  {
   "cell_type": "markdown",
   "id": "07fc1210-4e42-4c56-830f-fe3a74233914",
   "metadata": {},
   "source": [
    "In NumPy, the shapes of arrays are fluid. An array can be reshaped from 3 dimensional to 5 dimensional as long as the number of items is unchanged.\n",
    "\n",
    "Reshaping provides new axes for reducers like [np.mean](https://numpy.org/doc/stable/reference/generated/numpy.mean.html) to apply.\n",
    "\n",
    "Be sure to average over axis 3 before axis 1, since reduction removes an axis, changing the numbering of later axes."
   ]
  },
  {
   "cell_type": "code",
   "execution_count": 10,
   "id": "b02fb820-9264-4d77-91a2-60a9c3868b07",
   "metadata": {},
   "outputs": [],
   "source": [
    "resampled = np.mean(\n",
    "    np.mean(\n",
    "        image.reshape(1920 // 64, 64, 2560 // 64, 64, 3),\n",
    "        axis=3,\n",
    "    ),\n",
    "    axis=1,\n",
    ")"
   ]
  },
  {
   "cell_type": "markdown",
   "id": "e1a599a3-0dbc-48df-802f-73f4481e66ee",
   "metadata": {},
   "source": [
    "Or alternatively, use negative axis numbers and do it in the other order."
   ]
  },
  {
   "cell_type": "code",
   "execution_count": 11,
   "id": "bd73dadb-0a2e-4bd1-b7a0-42ba4ea8b79a",
   "metadata": {},
   "outputs": [],
   "source": [
    "resampled = np.mean(\n",
    "    np.mean(\n",
    "        image.reshape(1920 // 64, 64, 2560 // 64, 64, 3),\n",
    "        axis=-4,\n",
    "    ),\n",
    "    axis=-2,\n",
    ")"
   ]
  },
  {
   "cell_type": "markdown",
   "id": "7dc4f74c-ef6b-458a-8f43-5d53dcd8a192",
   "metadata": {},
   "source": [
    "Or as a third option, use `keepdims=True` to keep the axis numbering from changing and only remove the length 1 dimensions after all reductions are done."
   ]
  },
  {
   "cell_type": "code",
   "execution_count": 12,
   "id": "8029020f-a579-4439-8397-cefda10b37ec",
   "metadata": {},
   "outputs": [],
   "source": [
    "resampled = np.mean(\n",
    "    np.mean(\n",
    "        image.reshape(1920 // 64, 64, 2560 // 64, 64, 3),\n",
    "        axis=1,\n",
    "        keepdims=True,\n",
    "    ),\n",
    "    axis=3,\n",
    "    keepdims=True,\n",
    ").reshape(1920 // 64, 2560 // 64, 3)"
   ]
  },
  {
   "cell_type": "code",
   "execution_count": 13,
   "id": "b18c9149-99e3-4b2e-aebf-168c47242b53",
   "metadata": {},
   "outputs": [
    {
     "data": {
      "image/png": "[encoded data removed]",
      "text/plain": [
       "<Figure size 640x480 with 1 Axes>"
      ]
     },
     "metadata": {},
     "output_type": "display_data"
    }
   ],
   "source": [
    "plt.imshow(resampled.astype(np.uint8));"
   ]
  },
  {
   "cell_type": "markdown",
   "id": "91185599-4d75-41c6-903b-69b4df6d5336",
   "metadata": {},
   "source": [
    "<br><br><br>"
   ]
  },
  {
   "cell_type": "markdown",
   "id": "4247f920-9cc5-490a-a530-38e655589853",
   "metadata": {
    "jp-MarkdownHeadingCollapsed": true
   },
   "source": [
    "### NumPy puzzle 5"
   ]
  },
  {
   "cell_type": "code",
   "execution_count": 14,
   "id": "16813b20-3b25-4683-8f6e-143229ed8082",
   "metadata": {},
   "outputs": [],
   "source": [
    "with open(\"data/SMHiggsToZZTo4L.root\", \"rb\") as file:\n",
    "    file.seek(42104123)\n",
    "    compressed_data = file.read(14718)\n",
    "    uncompressed_data = uncompressed_data = zlib.decompress(compressed_data)\n",
    "    array_of_uint8 = np.frombuffer(uncompressed_data, np.uint8, 12524)"
   ]
  },
  {
   "cell_type": "markdown",
   "id": "21ff894e-e61f-444e-ae98-f266870e65fe",
   "metadata": {
    "jp-MarkdownHeadingCollapsed": true
   },
   "source": [
    "#### Solution"
   ]
  },
  {
   "cell_type": "markdown",
   "id": "bed8de53-5786-4bac-ae0d-5394476a0853",
   "metadata": {},
   "source": [
    "This is similar to the image-scaling puzzle: we use short-lived axes to be able to express an operation, but instead of reduction, it's a direction-reversing slice. Without reshaping, we wouldn't be able to express \"groups of 4.\""
   ]
  },
  {
   "cell_type": "code",
   "execution_count": 15,
   "id": "0509c0e5-e738-46aa-aee8-241674fdac08",
   "metadata": {},
   "outputs": [],
   "source": [
    "byte_swapped = array_of_uint8.reshape(-1, 4)[:, ::-1].reshape(-1)"
   ]
  },
  {
   "cell_type": "code",
   "execution_count": 16,
   "id": "d2a5718d-728e-4da7-8da7-97e9b95c3e86",
   "metadata": {},
   "outputs": [
    {
     "data": {
      "text/plain": [
       "array([ 9.831079 , 12.383099 , 12.991788 , ...,  4.3587666,  5.632667 ,\n",
       "        4.7507796], dtype=float32)"
      ]
     },
     "execution_count": 16,
     "metadata": {},
     "output_type": "execute_result"
    }
   ],
   "source": [
    "byte_swapped.view(np.float32)"
   ]
  },
  {
   "cell_type": "markdown",
   "id": "27c22687-2f21-4d7e-ba92-bfadf408822d",
   "metadata": {},
   "source": [
    "<br><br><br>"
   ]
  },
  {
   "cell_type": "markdown",
   "id": "ae426d1d-b7d6-42f3-94a0-15d26cc7843c",
   "metadata": {
    "jp-MarkdownHeadingCollapsed": true
   },
   "source": [
    "### Awkward puzzle 1"
   ]
  },
  {
   "cell_type": "code",
   "execution_count": 17,
   "id": "d30f7eda-0292-40ed-b1d1-03d7d669027e",
   "metadata": {},
   "outputs": [],
   "source": [
    "with uproot.open(\"data/SMHiggsToZZTo4L.root\", handler=uproot.MemmapSource) as file:\n",
    "    dataset = file[\"Events\"].arrays()"
   ]
  },
  {
   "cell_type": "code",
   "execution_count": 18,
   "id": "71a7ef49-252f-40a4-b114-c0004dc39bb1",
   "metadata": {},
   "outputs": [],
   "source": [
    "EVENT = 0\n",
    "PARTICLE = 1"
   ]
  },
  {
   "cell_type": "markdown",
   "id": "42588531-a411-4835-ac62-5d99b6d706d4",
   "metadata": {
    "jp-MarkdownHeadingCollapsed": true
   },
   "source": [
    "#### Solution"
   ]
  },
  {
   "cell_type": "markdown",
   "id": "af0bd31d-1131-457c-8946-e2c821f68d51",
   "metadata": {},
   "source": [
    "In NumPy puzzle 2, you subtracted each element from its neighbor by slicing `array[1:]` (drops the first) and `array[:-1]` (drops the last) before subtracting.\n",
    "\n",
    "Here, you can do something similar, but it has to apply to the particles axis, not the events axis, so"
   ]
  },
  {
   "cell_type": "code",
   "execution_count": 19,
   "id": "e85b9a5c-390d-47c4-aff7-9b9aeb282776",
   "metadata": {},
   "outputs": [
    {
     "data": {
      "text/html": [
       "<pre>[[True, True],\n",
       " [],\n",
       " [],\n",
       " [True, False, True, False, False, True],\n",
       " [],\n",
       " [False],\n",
       " [],\n",
       " [],\n",
       " [],\n",
       " [],\n",
       " ...,\n",
       " [False],\n",
       " [True],\n",
       " [False],\n",
       " [],\n",
       " [False],\n",
       " [False],\n",
       " [False, False, True],\n",
       " [],\n",
       " []]\n",
       "-----------------------------------------\n",
       "type: 299973 * var * bool</pre>"
      ],
      "text/plain": [
       "<Array [[True, True], [], [], ..., [...], [], []] type='299973 * var * bool'>"
      ]
     },
     "execution_count": 19,
     "metadata": {},
     "output_type": "execute_result"
    }
   ],
   "source": [
    "dataset.Muon_pt[:, :-1] > dataset.Muon_pt[:, 1:]"
   ]
  },
  {
   "cell_type": "markdown",
   "id": "a230f2e0-87a6-4d4f-acba-9303e2e3387f",
   "metadata": {},
   "source": [
    "(either subtract and compare with zero or just compare one to the next).\n",
    "\n",
    "We want to know if it's always true that `dataset.Muon_pt[:, :-1] > dataset.Muon_pt[:, 1:]`. We can see by eye that there are some `False` values above, but we can clinch it by"
   ]
  },
  {
   "cell_type": "code",
   "execution_count": 20,
   "id": "49d2f5c2-6266-4d81-b9c2-86f251024fe0",
   "metadata": {},
   "outputs": [
    {
     "data": {
      "text/plain": [
       "False"
      ]
     },
     "execution_count": 20,
     "metadata": {},
     "output_type": "execute_result"
    }
   ],
   "source": [
    "np.all(dataset.Muon_pt[:, :-1] > dataset.Muon_pt[:, 1:])"
   ]
  },
  {
   "cell_type": "markdown",
   "id": "f381e586-26ae-49f8-978d-8034d2372dee",
   "metadata": {},
   "source": [
    "It is not true that the muon $p_T$ values are sorted within each event.\n",
    "\n",
    "The consequence, for this dataset, is that `dataset.Muon_pt[:, 0]` is not the leading $p_T$ and `0` and `1` are not necessarily the two most relevant muons."
   ]
  },
  {
   "cell_type": "markdown",
   "id": "347cde53-01ca-47c4-b548-7c8739435bea",
   "metadata": {},
   "source": [
    "<br><br><br>"
   ]
  },
  {
   "cell_type": "markdown",
   "id": "7d0b1e0b-e3be-4de2-8b65-956700289888",
   "metadata": {
    "jp-MarkdownHeadingCollapsed": true
   },
   "source": [
    "### Awkward puzzle 2"
   ]
  },
  {
   "cell_type": "markdown",
   "id": "451049fe-2175-4d72-8b4c-6fdce445bf27",
   "metadata": {
    "jp-MarkdownHeadingCollapsed": true
   },
   "source": [
    "#### Solution 1"
   ]
  },
  {
   "cell_type": "markdown",
   "id": "25095f5e-95db-49ad-ba44-634b854f0686",
   "metadata": {},
   "source": [
    "Take an event if \"any muon $p_T > 50$ GeV (considering all particles).\""
   ]
  },
  {
   "cell_type": "code",
   "execution_count": 21,
   "id": "468ac34f-654d-477d-bd5d-b3084e74ba90",
   "metadata": {},
   "outputs": [
    {
     "data": {
      "text/html": [
       "<pre>[True,\n",
       " False,\n",
       " False,\n",
       " True,\n",
       " False,\n",
       " False,\n",
       " False,\n",
       " False,\n",
       " False,\n",
       " False,\n",
       " ...,\n",
       " True,\n",
       " False,\n",
       " True,\n",
       " False,\n",
       " False,\n",
       " False,\n",
       " False,\n",
       " False,\n",
       " False]\n",
       "-------------------\n",
       "type: 299973 * bool</pre>"
      ],
      "text/plain": [
       "<Array [True, False, False, ..., False, False, False] type='299973 * bool'>"
      ]
     },
     "execution_count": 21,
     "metadata": {},
     "output_type": "execute_result"
    }
   ],
   "source": [
    "boolean_mask_1d = ak.any(dataset.Muon_pt > 50, axis=PARTICLE)\n",
    "boolean_mask_1d"
   ]
  },
  {
   "cell_type": "markdown",
   "id": "1f05f92c-24cf-44ca-a5e6-6be568686adc",
   "metadata": {
    "jp-MarkdownHeadingCollapsed": true
   },
   "source": [
    "#### Solution 2"
   ]
  },
  {
   "cell_type": "markdown",
   "id": "a59447be-8249-4adb-8b51-62525b250126",
   "metadata": {},
   "source": [
    "Take an event if \"the maximum muon $p_T$ (over all particles) $> 50$ GeV.\""
   ]
  },
  {
   "cell_type": "code",
   "execution_count": 22,
   "id": "e11076b3-2cec-472a-ab05-b92e32b0545b",
   "metadata": {},
   "outputs": [
    {
     "data": {
      "text/html": [
       "<pre>[True,\n",
       " None,\n",
       " None,\n",
       " True,\n",
       " None,\n",
       " False,\n",
       " False,\n",
       " None,\n",
       " None,\n",
       " None,\n",
       " ...,\n",
       " True,\n",
       " False,\n",
       " True,\n",
       " None,\n",
       " False,\n",
       " False,\n",
       " False,\n",
       " None,\n",
       " None]\n",
       "--------------------\n",
       "type: 299973 * ?bool</pre>"
      ],
      "text/plain": [
       "<Array [True, None, None, True, ..., False, None, None] type='299973 * ?bool'>"
      ]
     },
     "execution_count": 22,
     "metadata": {},
     "output_type": "execute_result"
    }
   ],
   "source": [
    "boolean_mask_1d = ak.max(dataset.Muon_pt, axis=PARTICLE) > 50\n",
    "boolean_mask_1d"
   ]
  },
  {
   "cell_type": "markdown",
   "id": "2df75772-3433-4433-966a-1b55ad8b72d2",
   "metadata": {},
   "source": [
    "Some of these boolean values are missing because there is no maximum of an empty list, and that missing value (`None`) results in a missing conclusion about whether it is greater than 50 GeV or not.\n",
    "\n",
    "The missing values can be converted into `False` with [ak.fill_none](https://awkward-array.org/doc/main/reference/generated/ak.fill_none.html)"
   ]
  },
  {
   "cell_type": "code",
   "execution_count": 23,
   "id": "7970a1ae-2a60-4b7e-a486-4fc1a24234b7",
   "metadata": {},
   "outputs": [
    {
     "data": {
      "text/html": [
       "<pre>[True,\n",
       " False,\n",
       " False,\n",
       " True,\n",
       " False,\n",
       " False,\n",
       " False,\n",
       " False,\n",
       " False,\n",
       " False,\n",
       " ...,\n",
       " True,\n",
       " False,\n",
       " True,\n",
       " False,\n",
       " False,\n",
       " False,\n",
       " False,\n",
       " False,\n",
       " False]\n",
       "-------------------\n",
       "type: 299973 * bool</pre>"
      ],
      "text/plain": [
       "<Array [True, False, False, ..., False, False, False] type='299973 * bool'>"
      ]
     },
     "execution_count": 23,
     "metadata": {},
     "output_type": "execute_result"
    }
   ],
   "source": [
    "boolean_mask_1d = ak.fill_none(ak.max(dataset.Muon_pt, axis=PARTICLE) > 50, False)\n",
    "boolean_mask_1d"
   ]
  },
  {
   "cell_type": "markdown",
   "id": "2be0ca2b-95d7-4c68-afbe-f6a0ce97bef6",
   "metadata": {
    "jp-MarkdownHeadingCollapsed": true
   },
   "source": [
    "#### Solution 3"
   ]
  },
  {
   "cell_type": "markdown",
   "id": "35d9dde6-6744-4d27-b6cc-27dfb4d730af",
   "metadata": {},
   "source": [
    "Take an event if \"the number of muons that have $p_T > 50$ GeV is $\\ge 1$.\""
   ]
  },
  {
   "cell_type": "code",
   "execution_count": 24,
   "id": "45306957-8810-45ee-8e67-728ed1714e48",
   "metadata": {},
   "outputs": [
    {
     "data": {
      "text/html": [
       "<pre>[True,\n",
       " False,\n",
       " False,\n",
       " True,\n",
       " False,\n",
       " False,\n",
       " False,\n",
       " False,\n",
       " False,\n",
       " False,\n",
       " ...,\n",
       " True,\n",
       " False,\n",
       " True,\n",
       " False,\n",
       " False,\n",
       " False,\n",
       " False,\n",
       " False,\n",
       " False]\n",
       "-------------------\n",
       "type: 299973 * bool</pre>"
      ],
      "text/plain": [
       "<Array [True, False, False, ..., False, False, False] type='299973 * bool'>"
      ]
     },
     "execution_count": 24,
     "metadata": {},
     "output_type": "execute_result"
    }
   ],
   "source": [
    "boolean_mask_1d = ak.num(dataset.Muon_pt[dataset.Muon_pt > 50]) >= 1\n",
    "boolean_mask_1d"
   ]
  },
  {
   "cell_type": "markdown",
   "id": "53f0fe94-0165-42bc-98dc-40c37f4cc0ec",
   "metadata": {
    "jp-MarkdownHeadingCollapsed": true
   },
   "source": [
    "#### Solution 4"
   ]
  },
  {
   "cell_type": "markdown",
   "id": "a78d4271-dc7e-41db-b8bf-ff7c6e147c00",
   "metadata": {},
   "source": [
    "Take an event if \"the number of muons in which '$p_T > 50$ GeV' is true (not zero) $\\ge 1$.\""
   ]
  },
  {
   "cell_type": "code",
   "execution_count": 25,
   "id": "8b753bfa-db14-4c22-ae4a-1f3505d92c04",
   "metadata": {},
   "outputs": [
    {
     "data": {
      "text/html": [
       "<pre>[True,\n",
       " False,\n",
       " False,\n",
       " True,\n",
       " False,\n",
       " False,\n",
       " False,\n",
       " False,\n",
       " False,\n",
       " False,\n",
       " ...,\n",
       " True,\n",
       " False,\n",
       " True,\n",
       " False,\n",
       " False,\n",
       " False,\n",
       " False,\n",
       " False,\n",
       " False]\n",
       "-------------------\n",
       "type: 299973 * bool</pre>"
      ],
      "text/plain": [
       "<Array [True, False, False, ..., False, False, False] type='299973 * bool'>"
      ]
     },
     "execution_count": 25,
     "metadata": {},
     "output_type": "execute_result"
    }
   ],
   "source": [
    "boolean_mask_1d = ak.count_nonzero(dataset.Muon_pt > 50, axis=PARTICLE) >= 1\n",
    "boolean_mask_1d"
   ]
  },
  {
   "cell_type": "markdown",
   "id": "0d6170f5-4c49-46c3-956c-42905a7f6721",
   "metadata": {
    "jp-MarkdownHeadingCollapsed": true
   },
   "source": [
    "#### Solution 5"
   ]
  },
  {
   "cell_type": "markdown",
   "id": "8383cdf6-19b4-43f6-89ec-db47eb1654a5",
   "metadata": {},
   "source": [
    "Take an event if \"the sum of 'muon $p_T > 50$ GeV' (false = 0, true = 1) over particles is $\\ge 1$.\""
   ]
  },
  {
   "cell_type": "code",
   "execution_count": 26,
   "id": "1ca9a67d-36e8-4f9b-9199-21da5b455da7",
   "metadata": {},
   "outputs": [
    {
     "data": {
      "text/html": [
       "<pre>[True,\n",
       " False,\n",
       " False,\n",
       " True,\n",
       " False,\n",
       " False,\n",
       " False,\n",
       " False,\n",
       " False,\n",
       " False,\n",
       " ...,\n",
       " True,\n",
       " False,\n",
       " True,\n",
       " False,\n",
       " False,\n",
       " False,\n",
       " False,\n",
       " False,\n",
       " False]\n",
       "-------------------\n",
       "type: 299973 * bool</pre>"
      ],
      "text/plain": [
       "<Array [True, False, False, ..., False, False, False] type='299973 * bool'>"
      ]
     },
     "execution_count": 26,
     "metadata": {},
     "output_type": "execute_result"
    }
   ],
   "source": [
    "boolean_mask_1d = ak.sum(dataset.Muon_pt > 50, axis=PARTICLE) >= 1\n",
    "boolean_mask_1d"
   ]
  },
  {
   "cell_type": "markdown",
   "id": "9fd0387f-3dd3-492f-bef4-e9eecd7d1fe2",
   "metadata": {
    "jp-MarkdownHeadingCollapsed": true
   },
   "source": [
    "#### Application"
   ]
  },
  {
   "cell_type": "markdown",
   "id": "fcc1832c-fc25-42b3-af36-0cf8e389f800",
   "metadata": {},
   "source": [
    "Apply it to the `dataset` as a slice. You get whole events (all fields) back."
   ]
  },
  {
   "cell_type": "code",
   "execution_count": 27,
   "id": "0e11dbd9-8e80-4635-ad76-c88920823a2c",
   "metadata": {},
   "outputs": [
    {
     "data": {
      "text/html": [
       "<pre>[{run: 1, luminosityBlock: 156, event: 46501, PV_npvs: 15, PV_x: 0.244, ...},\n",
       " {run: 1, luminosityBlock: 156, event: 46504, PV_npvs: 22, PV_x: 0.243, ...},\n",
       " {run: 1, luminosityBlock: 156, event: 46512, PV_npvs: 10, PV_x: 0.243, ...},\n",
       " {run: 1, luminosityBlock: 156, event: 46524, PV_npvs: 14, PV_x: 0.243, ...},\n",
       " {run: 1, luminosityBlock: 156, event: 46526, PV_npvs: 14, PV_x: 0.244, ...},\n",
       " {run: 1, luminosityBlock: 156, event: 46530, PV_npvs: 15, PV_x: 0.244, ...},\n",
       " {run: 1, luminosityBlock: 156, event: 46536, PV_npvs: 23, PV_x: 0.247, ...},\n",
       " {run: 1, luminosityBlock: 156, event: 46539, PV_npvs: 20, PV_x: 0.242, ...},\n",
       " {run: 1, luminosityBlock: 156, event: 46547, PV_npvs: 20, PV_x: 0.243, ...},\n",
       " {run: 1, luminosityBlock: 156, event: 46554, PV_npvs: 10, PV_x: 0.242, ...},\n",
       " ...,\n",
       " {run: 1, luminosityBlock: 996, event: 298698, PV_npvs: 27, PV_x: 0.244, ...},\n",
       " {run: 1, luminosityBlock: 996, event: 298703, PV_npvs: 12, PV_x: 0.242, ...},\n",
       " {run: 1, luminosityBlock: 996, event: 298710, PV_npvs: 30, PV_x: 0.245, ...},\n",
       " {run: 1, luminosityBlock: 996, event: 298726, PV_npvs: 20, PV_x: 0.244, ...},\n",
       " {run: 1, luminosityBlock: 996, event: 298759, PV_npvs: 29, PV_x: 0.247, ...},\n",
       " {run: 1, luminosityBlock: 996, event: 298760, PV_npvs: 11, PV_x: 0.245, ...},\n",
       " {run: 1, luminosityBlock: 996, event: 298781, PV_npvs: 16, PV_x: 0.243, ...},\n",
       " {run: 1, luminosityBlock: 996, event: 298792, PV_npvs: 24, PV_x: 0.244, ...},\n",
       " {run: 1, luminosityBlock: 996, event: 298794, PV_npvs: 24, PV_x: 0.245, ...}]\n",
       "------------------------------------------------------------------------------\n",
       "type: 37410 * {\n",
       "    run: int32,\n",
       "    luminosityBlock: uint32,\n",
       "    event: uint64,\n",
       "    PV_npvs: int32,\n",
       "    PV_x: float32,\n",
       "    PV_y: float32,\n",
       "    PV_z: float32,\n",
       "    nMuon: uint32,\n",
       "    Muon_pt: var * float32,\n",
       "    Muon_eta: var * float32,\n",
       "    Muon_phi: var * float32,\n",
       "    Muon_mass: var * float32,\n",
       "    Muon_charge: var * int32,\n",
       "    Muon_pfRelIso03_all: var * float32,\n",
       "    Muon_pfRelIso04_all: var * float32,\n",
       "    Muon_dxy: var * float32,\n",
       "    Muon_dxyErr: var * float32,\n",
       "    Muon_dz: var * float32,\n",
       "    Muon_dzErr: var * float32,\n",
       "    nElectron: uint32,\n",
       "    Electron_pt: var * float32,\n",
       "    Electron_eta: var * float32,\n",
       "    Electron_phi: var * float32,\n",
       "    Electron_mass: var * float32,\n",
       "    Electron_charge: var * int32,\n",
       "    Electron_pfRelIso03_all: var * float32,\n",
       "    Electron_dxy: var * float32,\n",
       "    Electron_dxyErr: var * float32,\n",
       "    Electron_dz: var * float32,\n",
       "    Electron_dzErr: var * float32,\n",
       "    MET_pt: float32,\n",
       "    MET_phi: float32\n",
       "}</pre>"
      ],
      "text/plain": [
       "<Array [{run: 1, ...}, ..., {run: 1, ...}] type='37410 * {run: int32, lumin...'>"
      ]
     },
     "execution_count": 27,
     "metadata": {},
     "output_type": "execute_result"
    }
   ],
   "source": [
    "dataset[boolean_mask_1d]"
   ]
  },
  {
   "cell_type": "markdown",
   "id": "0cb6ee22-fc39-4d98-8e2c-1abe04126e2c",
   "metadata": {},
   "source": [
    "Notice that the total number of events is lower, which is not the case for a particle cut."
   ]
  },
  {
   "cell_type": "markdown",
   "id": "71544443-60b3-4ade-b634-ed95196caaba",
   "metadata": {},
   "source": [
    "<br><br><br>"
   ]
  },
  {
   "cell_type": "markdown",
   "id": "da0cf312-2c68-4b0a-8166-cb99d9335895",
   "metadata": {
    "jp-MarkdownHeadingCollapsed": true
   },
   "source": [
    "### Awkward puzzle 3"
   ]
  },
  {
   "cell_type": "markdown",
   "id": "82b8dfd6-d21b-4ffc-8e24-b56be45770d1",
   "metadata": {
    "jp-MarkdownHeadingCollapsed": true
   },
   "source": [
    "#### Solution"
   ]
  },
  {
   "cell_type": "markdown",
   "id": "c653f09f-99cc-4071-86b1-1c0b62fd891f",
   "metadata": {},
   "source": [
    "This answer can have the same variety as puzzle 2 because it asks for _any_ particle satisfying a condition, as above."
   ]
  },
  {
   "cell_type": "code",
   "execution_count": 28,
   "id": "1bb8cd8e-b887-4ec0-bbf9-3e6ecfdb237a",
   "metadata": {},
   "outputs": [
    {
     "data": {
      "text/html": [
       "<pre>[False,\n",
       " False,\n",
       " False,\n",
       " True,\n",
       " False,\n",
       " True,\n",
       " False,\n",
       " False,\n",
       " False,\n",
       " False,\n",
       " ...,\n",
       " True,\n",
       " True,\n",
       " False,\n",
       " False,\n",
       " False,\n",
       " True,\n",
       " False,\n",
       " False,\n",
       " False]\n",
       "-------------------\n",
       "type: 299973 * bool</pre>"
      ],
      "text/plain": [
       "<Array [False, False, False, ..., False, False, False] type='299973 * bool'>"
      ]
     },
     "execution_count": 28,
     "metadata": {},
     "output_type": "execute_result"
    }
   ],
   "source": [
    "ak.any(dataset.Electron_pt > 10, axis=PARTICLE) & ak.any(dataset.Muon_pt > 5, axis=PARTICLE)"
   ]
  },
  {
   "cell_type": "markdown",
   "id": "969e1c6b-516c-49e7-9348-41931c0802a3",
   "metadata": {},
   "source": [
    "<br><br><br>"
   ]
  },
  {
   "cell_type": "markdown",
   "id": "cc76277c-a35f-45a7-a328-0661ad507640",
   "metadata": {
    "jp-MarkdownHeadingCollapsed": true
   },
   "source": [
    "### Awkward puzzle 4"
   ]
  },
  {
   "cell_type": "markdown",
   "id": "b58826a2-16c8-4325-83af-ad07b9fe1ac7",
   "metadata": {
    "jp-MarkdownHeadingCollapsed": true
   },
   "source": [
    "#### Solution"
   ]
  },
  {
   "cell_type": "markdown",
   "id": "3ce6fba7-a57b-408a-94a7-89b5a1d585f5",
   "metadata": {},
   "source": [
    "You can use [ak.num](https://awkward-array.org/doc/main/reference/generated/ak.num.html) or the `nMuon` field of the `dataset`."
   ]
  },
  {
   "cell_type": "code",
   "execution_count": 29,
   "id": "e8c32538-08e5-44f8-9dee-2cc34f9729bd",
   "metadata": {},
   "outputs": [],
   "source": [
    "selected = dataset[ak.num(dataset.Muon_pt) == 2]"
   ]
  },
  {
   "cell_type": "markdown",
   "id": "dd4a5159-bd99-4130-95fb-4440f97abf47",
   "metadata": {},
   "source": [
    "Remember that the first axis is `EVENT` and we want all of them, so select `:`, then the second axis is `PARTICLE`."
   ]
  },
  {
   "cell_type": "code",
   "execution_count": 30,
   "id": "4b05b8fe-03d4-48f9-8af3-8a6f9d6e167d",
   "metadata": {},
   "outputs": [],
   "source": [
    "mu1 = selected.Muon_pt[:, 0]\n",
    "mu2 = selected.Muon_pt[:, 1]"
   ]
  },
  {
   "cell_type": "code",
   "execution_count": 31,
   "id": "2185db28-c89b-43c0-9aae-364ead19476b",
   "metadata": {},
   "outputs": [
    {
     "data": {
      "text/html": [
       "<pre>[38.5,\n",
       " 27.4,\n",
       " 43.4,\n",
       " 12.3,\n",
       " 39.6,\n",
       " 67.7,\n",
       " 47.4,\n",
       " 43.8,\n",
       " 16.7,\n",
       " 18.2,\n",
       " ...,\n",
       " 23.3,\n",
       " 8.73,\n",
       " 23.8,\n",
       " 39.3,\n",
       " 37.2,\n",
       " 43.2,\n",
       " 24.2,\n",
       " 9.81,\n",
       " 32.6]\n",
       "---------------------\n",
       "type: 85838 * float32</pre>"
      ],
      "text/plain": [
       "<Array [38.5, 27.4, 43.4, 12.3, ..., 24.2, 9.81, 32.6] type='85838 * float32'>"
      ]
     },
     "execution_count": 31,
     "metadata": {},
     "output_type": "execute_result"
    }
   ],
   "source": [
    "mu1"
   ]
  },
  {
   "cell_type": "code",
   "execution_count": 32,
   "id": "5f6eb4c9-780c-41c5-b74d-b25193ae16a0",
   "metadata": {},
   "outputs": [
    {
     "data": {
      "text/html": [
       "<pre>[47,\n",
       " 67.7,\n",
       " 43.2,\n",
       " 7.91,\n",
       " 3.7,\n",
       " 12.3,\n",
       " 31.3,\n",
       " 3.28,\n",
       " 6.12,\n",
       " 11.3,\n",
       " ...,\n",
       " 12.2,\n",
       " 22.1,\n",
       " 3.47,\n",
       " 9.87,\n",
       " 50.1,\n",
       " 24,\n",
       " 79.5,\n",
       " 25.5,\n",
       " 43.1]\n",
       "---------------------\n",
       "type: 85838 * float32</pre>"
      ],
      "text/plain": [
       "<Array [47, 67.7, 43.2, 7.91, ..., 24, 79.5, 25.5, 43.1] type='85838 * float32'>"
      ]
     },
     "execution_count": 32,
     "metadata": {},
     "output_type": "execute_result"
    }
   ],
   "source": [
    "mu2"
   ]
  },
  {
   "cell_type": "markdown",
   "id": "3df86d01-e067-4504-a5b9-c81d9948289d",
   "metadata": {},
   "source": [
    "<br><br><br>"
   ]
  },
  {
   "cell_type": "markdown",
   "id": "07b9e7c8-8cdd-4033-968c-f20255b5ace6",
   "metadata": {
    "jp-MarkdownHeadingCollapsed": true
   },
   "source": [
    "### Awkward puzzle 5"
   ]
  },
  {
   "cell_type": "code",
   "execution_count": 33,
   "id": "77378c40-f111-4584-9f29-8d65b4460fd8",
   "metadata": {},
   "outputs": [],
   "source": [
    "electrons = ak.zip({\n",
    "    \"pt\": dataset.Electron_pt,\n",
    "    \"phi\": dataset.Electron_phi,\n",
    "    \"eta\": dataset.Electron_eta,\n",
    "    \"mass\": dataset.Electron_mass,\n",
    "    \"charge\": dataset.Electron_charge,\n",
    "}, with_name=\"Momentum4D\")"
   ]
  },
  {
   "cell_type": "code",
   "execution_count": 34,
   "id": "daa30074-db34-4a9e-84e4-82c6f588bc73",
   "metadata": {},
   "outputs": [],
   "source": [
    "muons = ak.zip({\n",
    "    \"pt\": dataset.Muon_pt,\n",
    "    \"phi\": dataset.Muon_phi,\n",
    "    \"eta\": dataset.Muon_eta,\n",
    "    \"mass\": dataset.Muon_mass,\n",
    "    \"charge\": dataset.Muon_charge,\n",
    "}, with_name=\"Momentum4D\")"
   ]
  },
  {
   "cell_type": "markdown",
   "id": "9b237632-49ec-4711-8903-9feab0a513ac",
   "metadata": {
    "jp-MarkdownHeadingCollapsed": true
   },
   "source": [
    "#### Solution"
   ]
  },
  {
   "cell_type": "code",
   "execution_count": 35,
   "id": "c6bb7577-88a3-4c6f-a7b4-bbf35286dd77",
   "metadata": {},
   "outputs": [],
   "source": [
    "selected_muons = muons[ak.num(muons) == 2]"
   ]
  },
  {
   "cell_type": "code",
   "execution_count": 36,
   "id": "78196b02-d27e-406e-9b6a-e1dc74cf1018",
   "metadata": {},
   "outputs": [
    {
     "data": {
      "text/html": [
       "<pre>[87.1,\n",
       " 90.5,\n",
       " 89.2,\n",
       " 18.8,\n",
       " 4.59,\n",
       " 37.2,\n",
       " 90.6,\n",
       " 8.91,\n",
       " 18.1,\n",
       " 27.5,\n",
       " ...,\n",
       " 31.2,\n",
       " 0.762,\n",
       " 14.3,\n",
       " 90.7,\n",
       " 90,\n",
       " 88.6,\n",
       " 88.8,\n",
       " 27.9,\n",
       " 90.5]\n",
       "---------------------\n",
       "type: 85838 * float32</pre>"
      ],
      "text/plain": [
       "<Array [87.1, 90.5, 89.2, 18.8, ..., 88.8, 27.9, 90.5] type='85838 * float32'>"
      ]
     },
     "execution_count": 36,
     "metadata": {},
     "output_type": "execute_result"
    }
   ],
   "source": [
    "result = (selected_muons[:, 0] + selected_muons[:, 1]).mass\n",
    "result"
   ]
  },
  {
   "cell_type": "code",
   "execution_count": 37,
   "id": "3e45fbb4-f7ef-4d7e-86d2-ae087b540852",
   "metadata": {},
   "outputs": [],
   "source": [
    "def quickplot(num_bins, low, high, array, label=\"\"):\n",
    "    return Hist.new.Reg(num_bins, low, high, label=label).Double().fill(array)"
   ]
  },
  {
   "cell_type": "code",
   "execution_count": 38,
   "id": "9633a561-8c54-498c-900b-1e270e1284b3",
   "metadata": {},
   "outputs": [
    {
     "data": {
      "text/html": [
       "<html>\n",
       "<div style=\"display:flex; align-items:center;\">\n",
       "<div style=\"width:290px;\">\n",
       "<svg xmlns=\"http://www.w3.org/2000/svg\" viewBox=\"-10 -105 270 120\">\n",
       "<line x1=\"-5\" y1=\"0\" x2=\"255\" y2=\"0\" style=\"fill:none;stroke-width:2;stroke:currentColor\"/>\n",
       "<text text-anchor=\"middle\" x=\"0\" y=\"15\" style=\"fill:currentColor;\">\n",
       "0\n",
       "</text>\n",
       "<text text-anchor=\"middle\" x=\"250\" y=\"15\" style=\"fill:currentColor;\">\n",
       "100\n",
       "</text>\n",
       "<text text-anchor=\"middle\" x=\"125.0\" y=\"15\" style=\"fill:currentColor;\">\n",
       "mass (GeV)\n",
       "</text>\n",
       "<polyline points=\"  0,0   0,-23.3 2.5,-23.3 2.5,-12.3   5,-12.3   5,-13.2 7.5,-13.2 7.5,-13.3  10,-13.3  10,-14.5 12.5,-14.5 12.5,-17.6  15,-17.6  15,-17.4 17.5,-17.4 17.5,-17.2  20,-17.2  20,-16.8 22.5,-16.8 22.5,-19.7  25,-19.7  25,-20.5 27.5,-20.5 27.5,-21.1  30,-21.1  30,-21.5 32.5,-21.5 32.5,-23.5  35,-23.5  35,-25.9 37.5,-25.9 37.5,-25.6  40,-25.6  40,-28.3 42.5,-28.3 42.5,-28.6  45,-28.6  45,-31 47.5,-31 47.5,-32.6  50,-32.6  50,-33 52.5,-33 52.5,-34  55,-34  55,-35.9 57.5,-35.9 57.5,-37  60,-37  60,-38.8 62.5,-38.8 62.5,-40.3  65,-40.3  65,-38.1 67.5,-38.1 67.5,-40.1  70,-40.1  70,-38.4 72.5,-38.4 72.5,-39  75,-39  75,-37.2 77.5,-37.2 77.5,-34.2  80,-34.2  80,-28.3 82.5,-28.3 82.5,-24.1  85,-24.1  85,-18.4 87.5,-18.4 87.5,-14.3  90,-14.3  90,-13.6 92.5,-13.6 92.5,-12.7  95,-12.7  95,-10.1 97.5,-10.1 97.5,-10.2 100,-10.2 100,-9.54 102.5,-9.54 102.5,-10 105,-10 105,-8.91 107.5,-8.91 107.5,-9.11 110,-9.11 110,-8.34 112.5,-8.34 112.5,-8.31 115,-8.31 115,-7.45 117.5,-7.45 117.5,-8.13 120,-8.13 120,-8.34 122.5,-8.34 122.5,-7.88 125,-7.88 125,-7.49 127.5,-7.49 127.5,-7.65 130,-7.65 130,-6.99 132.5,-6.99 132.5,-6.95 135,-6.95 135,-7.15 137.5,-7.15 137.5,-7.08 140,-7.08 140,-7.54 142.5,-7.54 142.5,-6.65 145,-6.65 145,-6.26 147.5,-6.26 147.5,-5.99 150,-5.99 150,-6.7 152.5,-6.7 152.5,-6.31 155,-6.31 155,-6.2 157.5,-6.2 157.5,-6.74 160,-6.74 160,-6.7 162.5,-6.7 162.5,-5.9 165,-5.9 165,-7.13 167.5,-7.13 167.5,-6.31 170,-6.31 170,-7.11 172.5,-7.11 172.5,-6.47 175,-6.47 175,-6.88 177.5,-6.88 177.5,-7.33 180,-7.33 180,-7.27 182.5,-7.27 182.5,-7.38 185,-7.38 185,-6.7 187.5,-6.7 187.5,-8.22 190,-8.22 190,-8.25 192.5,-8.25 192.5,-8.79 195,-8.79 195,-9.75 197.5,-9.75 197.5,-9.77 200,-9.77 200,-10.6 202.5,-10.6 202.5,-11.8 205,-11.8 205,-13.2 207.5,-13.2 207.5,-15.5 210,-15.5 210,-19.4 212.5,-19.4 212.5,-22 215,-22 215,-30 217.5,-30 217.5,-39.2 220,-39.2 220,-58.5 222.5,-58.5 222.5,-79.6 225,-79.6 225,-100 227.5,-100 227.5,-96.4 230,-96.4 230,-68.6 232.5,-68.6 232.5,-36.4 235,-36.4 235,-19.8 237.5,-19.8 237.5,-11.1 240,-11.1 240,-5.85 242.5,-5.85 242.5,-3.64 245,-3.64 245,-2.21 247.5,-2.21 247.5,-1.39 250,-1.39 250,0\" style=\"fill:none; stroke:currentColor;\"/>\n",
       "</svg>\n",
       "</div>\n",
       "<div style=\"flex=grow:1;\">\n",
       "Regular(100, 0, 100, label='mass (GeV)')<br/>\n",
       "<hr style=\"margin-top:.2em; margin-bottom:.2em;\"/>\n",
       "Double() Σ=85540.0 <em>(85838.0 with flow)</em>\n",
       "\n",
       "</div>\n",
       "</div>\n",
       "</html>"
      ],
      "text/plain": [
       "Hist(Regular(100, 0, 100, label='mass (GeV)'), storage=Double()) # Sum: 85540.0 (85838.0 with flow)"
      ]
     },
     "execution_count": 38,
     "metadata": {},
     "output_type": "execute_result"
    }
   ],
   "source": [
    "quickplot(100, 0, 100, result, \"mass (GeV)\")"
   ]
  },
  {
   "cell_type": "markdown",
   "id": "f6e7f642-4fdf-4689-97e4-7570eb1004bf",
   "metadata": {},
   "source": [
    "<br><br><br>"
   ]
  },
  {
   "cell_type": "markdown",
   "id": "ac37c64d-880e-4ad1-b46e-8ec061b4fe99",
   "metadata": {
    "jp-MarkdownHeadingCollapsed": true
   },
   "source": [
    "### Awkward puzzle 6"
   ]
  },
  {
   "cell_type": "code",
   "execution_count": 39,
   "id": "5c68d9c9-b2d3-4707-b0e9-a033dc1debcc",
   "metadata": {},
   "outputs": [],
   "source": [
    "muon_plus = muons[muons.charge > 0]\n",
    "muon_minus = muons[muons.charge < 0]"
   ]
  },
  {
   "cell_type": "markdown",
   "id": "e6d326c0-53ec-4bb0-9a63-43d7a99bdc9f",
   "metadata": {
    "jp-MarkdownHeadingCollapsed": true
   },
   "source": [
    "#### Solution"
   ]
  },
  {
   "cell_type": "code",
   "execution_count": 40,
   "id": "b3bac03b-1920-4dee-b296-5033e6ff56de",
   "metadata": {},
   "outputs": [
    {
     "data": {
      "text/html": [
       "<html>\n",
       "<div style=\"display:flex; align-items:center;\">\n",
       "<div style=\"width:290px;\">\n",
       "<svg xmlns=\"http://www.w3.org/2000/svg\" viewBox=\"-10 -105 270 120\">\n",
       "<line x1=\"-5\" y1=\"0\" x2=\"255\" y2=\"0\" style=\"fill:none;stroke-width:2;stroke:currentColor\"/>\n",
       "<text text-anchor=\"middle\" x=\"0\" y=\"15\" style=\"fill:currentColor;\">\n",
       "0\n",
       "</text>\n",
       "<text text-anchor=\"middle\" x=\"250\" y=\"15\" style=\"fill:currentColor;\">\n",
       "100\n",
       "</text>\n",
       "<text text-anchor=\"middle\" x=\"125.0\" y=\"15\" style=\"fill:currentColor;\">\n",
       "mass GeV\n",
       "</text>\n",
       "<polyline points=\"  0,0   0,-12 2.5,-12 2.5,-14.9   5,-14.9   5,-18.7 7.5,-18.7 7.5,-22.8  10,-22.8  10,-27.7 12.5,-27.7 12.5,-37.3  15,-37.3  15,-40.1 17.5,-40.1 17.5,-38.6  20,-38.6  20,-38.4 22.5,-38.4 22.5,-39.8  25,-39.8  25,-40.9 27.5,-40.9 27.5,-42.1  30,-42.1  30,-42.2 32.5,-42.2 32.5,-43.8  35,-43.8  35,-45 37.5,-45 37.5,-44.9  40,-44.9  40,-47.7 42.5,-47.7 42.5,-48.9  45,-48.9  45,-51.4 47.5,-51.4 47.5,-53.1  50,-53.1  50,-55 52.5,-55 52.5,-56.6  55,-56.6  55,-59.8 57.5,-59.8 57.5,-58.6  60,-58.6  60,-61 62.5,-61 62.5,-63.2  65,-63.2  65,-62 67.5,-62 67.5,-63.4  70,-63.4  70,-61.9 72.5,-61.9 72.5,-62.2  75,-62.2  75,-60.7 77.5,-60.7 77.5,-56.1  80,-56.1  80,-50.5 82.5,-50.5 82.5,-45  85,-45  85,-38.4 87.5,-38.4 87.5,-34.8  90,-34.8  90,-32 92.5,-32 92.5,-31.2  95,-31.2  95,-29.3 97.5,-29.3 97.5,-28.3 100,-28.3 100,-28.6 102.5,-28.6 102.5,-27.1 105,-27.1 105,-25.3 107.5,-25.3 107.5,-25.4 110,-25.4 110,-25.9 112.5,-25.9 112.5,-24.6 115,-24.6 115,-23.2 117.5,-23.2 117.5,-23.9 120,-23.9 120,-21.9 122.5,-21.9 122.5,-21.5 125,-21.5 125,-20.7 127.5,-20.7 127.5,-20.8 130,-20.8 130,-19.6 132.5,-19.6 132.5,-18.7 135,-18.7 135,-19 137.5,-19 137.5,-18.6 140,-18.6 140,-18.1 142.5,-18.1 142.5,-16.3 145,-16.3 145,-15.7 147.5,-15.7 147.5,-15 150,-15 150,-15.6 152.5,-15.6 152.5,-14.5 155,-14.5 155,-14.3 157.5,-14.3 157.5,-13.5 160,-13.5 160,-13.4 162.5,-13.4 162.5,-12.1 165,-12.1 165,-12.4 167.5,-12.4 167.5,-11.7 170,-11.7 170,-11.8 172.5,-11.8 172.5,-11 175,-11 175,-11 177.5,-11 177.5,-11.1 180,-11.1 180,-10.5 182.5,-10.5 182.5,-10.9 185,-10.9 185,-9.91 187.5,-9.91 187.5,-10.3 190,-10.3 190,-11.2 192.5,-11.2 192.5,-11.3 195,-11.3 195,-11.9 197.5,-11.9 197.5,-12 200,-12 200,-12.3 202.5,-12.3 202.5,-13.3 205,-13.3 205,-15 207.5,-15 207.5,-16.5 210,-16.5 210,-20.2 212.5,-20.2 212.5,-23.3 215,-23.3 215,-30.9 217.5,-30.9 217.5,-39.8 220,-39.8 220,-58 222.5,-58 222.5,-81 225,-81 225,-100 227.5,-100 227.5,-94.8 230,-94.8 230,-66 232.5,-66 232.5,-36.3 235,-36.3 235,-19.6 237.5,-19.6 237.5,-10.9 240,-10.9 240,-6.22 242.5,-6.22 242.5,-3.83 245,-3.83 245,-2.41 247.5,-2.41 247.5,-1.71 250,-1.71 250,0\" style=\"fill:none; stroke:currentColor;\"/>\n",
       "</svg>\n",
       "</div>\n",
       "<div style=\"flex=grow:1;\">\n",
       "Regular(100, 0, 100, label='mass GeV')<br/>\n",
       "<hr style=\"margin-top:.2em; margin-bottom:.2em;\"/>\n",
       "Double() Σ=271500.0 <em>(272832.0 with flow)</em>\n",
       "\n",
       "</div>\n",
       "</div>\n",
       "</html>"
      ],
      "text/plain": [
       "Hist(Regular(100, 0, 100, label='mass GeV'), storage=Double()) # Sum: 271500.0 (272832.0 with flow)"
      ]
     },
     "execution_count": 40,
     "metadata": {},
     "output_type": "execute_result"
    }
   ],
   "source": [
    "mu1, mu2 = ak.unzip(ak.cartesian([muon_plus, muon_minus]))\n",
    "\n",
    "quickplot(100, 0, 100, ak.flatten((mu1 + mu2).mass), label=\"mass GeV\")"
   ]
  },
  {
   "cell_type": "markdown",
   "id": "511d7d9e-70ca-4c84-bf6f-91b38f6fef74",
   "metadata": {},
   "source": [
    "<br><br><br>"
   ]
  },
  {
   "cell_type": "markdown",
   "id": "8d0241ef-5399-408b-9383-871329bbdfdf",
   "metadata": {
    "jp-MarkdownHeadingCollapsed": true
   },
   "source": [
    "### Awkward puzzle 7"
   ]
  },
  {
   "cell_type": "code",
   "execution_count": 41,
   "id": "e07dcead-c647-4b8c-a978-ceadda7a41dd",
   "metadata": {},
   "outputs": [],
   "source": [
    "electron_plus = electrons[electrons.charge > 0]\n",
    "electron_minus = electrons[electrons.charge < 0]"
   ]
  },
  {
   "cell_type": "markdown",
   "id": "a36f0065-76da-4696-9b8e-5f7b880ac4fd",
   "metadata": {
    "jp-MarkdownHeadingCollapsed": true
   },
   "source": [
    "#### Solution 1"
   ]
  },
  {
   "cell_type": "markdown",
   "id": "534f98b2-f216-4708-a05d-24151a284c61",
   "metadata": {},
   "source": [
    "One way, by combining pairs of pairs:"
   ]
  },
  {
   "cell_type": "code",
   "execution_count": 42,
   "id": "73da767d-da61-49d0-b0ac-3c87cb05e69f",
   "metadata": {},
   "outputs": [
    {
     "data": {
      "text/html": [
       "<pre>[[],\n",
       " [],\n",
       " [],\n",
       " [],\n",
       " [],\n",
       " [],\n",
       " [],\n",
       " [],\n",
       " [],\n",
       " [],\n",
       " ...,\n",
       " [(({pt: ..., ...}, {...}), ({...}, {...}))],\n",
       " [],\n",
       " [],\n",
       " [],\n",
       " [],\n",
       " [],\n",
       " [],\n",
       " [],\n",
       " []]\n",
       "---------------------------------------------\n",
       "type: 299973 * var * (\n",
       "    (\n",
       "        Momentum4D[\n",
       "            pt: float32,\n",
       "            phi: float32,\n",
       "            eta: float32,\n",
       "            mass: float32,\n",
       "            charge: int32\n",
       "        ],\n",
       "        Momentum4D[\n",
       "            pt: float32,\n",
       "            phi: float32,\n",
       "            eta: float32,\n",
       "            mass: float32,\n",
       "            charge: int32\n",
       "        ]\n",
       "    ),\n",
       "    (\n",
       "        Momentum4D[\n",
       "            pt: float32,\n",
       "            phi: float32,\n",
       "            eta: float32,\n",
       "            mass: float32,\n",
       "            charge: int32\n",
       "        ],\n",
       "        Momentum4D[\n",
       "            pt: float32,\n",
       "            phi: float32,\n",
       "            eta: float32,\n",
       "            mass: float32,\n",
       "            charge: int32\n",
       "        ]\n",
       "    )\n",
       ")</pre>"
      ],
      "text/plain": [
       "<Array [[], [], [], [], ..., [], [], [], []] type='299973 * var * ((Momentu...'>"
      ]
     },
     "execution_count": 42,
     "metadata": {},
     "output_type": "execute_result"
    }
   ],
   "source": [
    "muon_pairs = ak.cartesian([muon_plus, muon_minus])\n",
    "electron_pairs = ak.cartesian([electron_plus, electron_minus])\n",
    "\n",
    "higgs_candidates = ak.cartesian([muon_pairs, electron_pairs])\n",
    "higgs_candidates"
   ]
  },
  {
   "cell_type": "markdown",
   "id": "00b44c65-ed7b-4d49-afa0-c577c91a34d0",
   "metadata": {},
   "source": [
    "These could be pulled apart with [ak.unzip](https://awkward-array.org/doc/main/reference/generated/ak.unzip.html), but because the tuples are nested within tuples, it's a little easier to access them by direct address.\n",
    "\n",
    "`\"0\"` gets the first field (and `\"1\"` gets the second field) of _every tuple in an array_. This is very different from selecting `0` and `1` without quotes."
   ]
  },
  {
   "cell_type": "code",
   "execution_count": 43,
   "id": "ad901f30-256c-47a7-8c79-a5e7967f8e58",
   "metadata": {},
   "outputs": [],
   "source": [
    "mu1 = higgs_candidates[\"0\"][\"0\"]\n",
    "mu2 = higgs_candidates[\"0\"][\"1\"]\n",
    "e1 = higgs_candidates[\"1\"][\"0\"]\n",
    "e2 = higgs_candidates[\"1\"][\"1\"]"
   ]
  },
  {
   "cell_type": "code",
   "execution_count": 44,
   "id": "8d36b357-0060-4443-84b4-bd460b1c5b46",
   "metadata": {},
   "outputs": [
    {
     "data": {
      "text/html": [
       "<html>\n",
       "<div style=\"display:flex; align-items:center;\">\n",
       "<div style=\"width:290px;\">\n",
       "<svg xmlns=\"http://www.w3.org/2000/svg\" viewBox=\"-10 -105 270 120\">\n",
       "<line x1=\"-5\" y1=\"0\" x2=\"255\" y2=\"0\" style=\"fill:none;stroke-width:2;stroke:currentColor\"/>\n",
       "<text text-anchor=\"middle\" x=\"0\" y=\"15\" style=\"fill:currentColor;\">\n",
       "0\n",
       "</text>\n",
       "<text text-anchor=\"middle\" x=\"250\" y=\"15\" style=\"fill:currentColor;\">\n",
       "150\n",
       "</text>\n",
       "<text text-anchor=\"middle\" x=\"125.0\" y=\"15\" style=\"fill:currentColor;\">\n",
       "Axis 0\n",
       "</text>\n",
       "<polyline points=\"  0,0   0,-0 1.66667,-0 1.66667,-0 3.33333,-0 3.33333,-0   5,-0   5,-0 6.66667,-0 6.66667,-0 8.33333,-0 8.33333,-0  10,-0  10,-0 11.6667,-0 11.6667,-0.0526 13.3333,-0.0526 13.3333,-0.0175  15,-0.0175  15,-0.0175 16.6667,-0.0175 16.6667,-0.0526 18.3333,-0.0526 18.3333,-0.0526  20,-0.0526  20,-0.105 21.6667,-0.105 21.6667,-0.0526 23.3333,-0.0526 23.3333,-0.105  25,-0.105  25,-0.0526 26.6667,-0.0526 26.6667,-0.105 28.3333,-0.105 28.3333,-0.175  30,-0.175  30,-0.158 31.6667,-0.158 31.6667,-0.14 33.3333,-0.14 33.3333,-0.21  35,-0.21  35,-0.333 36.6667,-0.333 36.6667,-0.263 38.3333,-0.263 38.3333,-0.263  40,-0.263  40,-0.368 41.6667,-0.368 41.6667,-0.35 43.3333,-0.35 43.3333,-0.491  45,-0.491  45,-0.526 46.6667,-0.526 46.6667,-0.596 48.3333,-0.596 48.3333,-0.894  50,-0.894  50,-0.911 51.6667,-0.911 51.6667,-0.894 53.3333,-0.894 53.3333,-0.876  55,-0.876  55,-1.03 56.6667,-1.03 56.6667,-1.05 58.3333,-1.05 58.3333,-1.09  60,-1.09  60,-1.21 61.6667,-1.21 61.6667,-1.38 63.3333,-1.38 63.3333,-1.63  65,-1.63  65,-1.44 66.6667,-1.44 66.6667,-1.72 68.3333,-1.72 68.3333,-1.77  70,-1.77  70,-1.96 71.6667,-1.96 71.6667,-1.96 73.3333,-1.96 73.3333,-1.86  75,-1.86  75,-2.44 76.6667,-2.44 76.6667,-2.65 78.3333,-2.65 78.3333,-2.52  80,-2.52  80,-2.21 81.6667,-2.21 81.6667,-3.05 83.3333,-3.05 83.3333,-2.91  85,-2.91  85,-2.87 86.6667,-2.87 86.6667,-3.31 88.3333,-3.31 88.3333,-3.08  90,-3.08  90,-3.07 91.6667,-3.07 91.6667,-3.38 93.3333,-3.38 93.3333,-3.43  95,-3.43  95,-3.49 96.6667,-3.49 96.6667,-3.59 98.3333,-3.59 98.3333,-4.26 100,-4.26 100,-3.63 101.667,-3.63 101.667,-4.07 103.333,-4.07 103.333,-4.22 105,-4.22 105,-4.91 106.667,-4.91 106.667,-4.43 108.333,-4.43 108.333,-4.64 110,-4.64 110,-4.75 111.667,-4.75 111.667,-4.59 113.333,-4.59 113.333,-4.54 115,-4.54 115,-4.71 116.667,-4.71 116.667,-5.33 118.333,-5.33 118.333,-4.75 120,-4.75 120,-5.01 121.667,-5.01 121.667,-5.68 123.333,-5.68 123.333,-5.36 125,-5.36 125,-5.2 126.667,-5.2 126.667,-5.1 128.333,-5.1 128.333,-4.85 130,-4.85 130,-5.64 131.667,-5.64 131.667,-5.48 133.333,-5.48 133.333,-5.15 135,-5.15 135,-5.22 136.667,-5.22 136.667,-5.27 138.333,-5.27 138.333,-4.64 140,-4.64 140,-5.8 141.667,-5.8 141.667,-4.59 143.333,-4.59 143.333,-4.99 145,-4.99 145,-4.66 146.667,-4.66 146.667,-4.94 148.333,-4.94 148.333,-4.59 150,-4.59 150,-4.68 151.667,-4.68 151.667,-5.2 153.333,-5.2 153.333,-4.63 155,-4.63 155,-4.82 156.667,-4.82 156.667,-5.41 158.333,-5.41 158.333,-4.85 160,-4.85 160,-4.63 161.667,-4.63 161.667,-4.68 163.333,-4.68 163.333,-4.94 165,-4.94 165,-4.82 166.667,-4.82 166.667,-5.55 168.333,-5.55 168.333,-6.12 170,-6.12 170,-5.52 171.667,-5.52 171.667,-6.45 173.333,-6.45 173.333,-6.38 175,-6.38 175,-6.5 176.667,-6.5 176.667,-6.73 178.333,-6.73 178.333,-7.45 180,-7.45 180,-8.03 181.667,-8.03 181.667,-7.6 183.333,-7.6 183.333,-8.15 185,-8.15 185,-8.71 186.667,-8.71 186.667,-9.06 188.333,-9.06 188.333,-9.46 190,-9.46 190,-10 191.667,-10 191.667,-11.1 193.333,-11.1 193.333,-12.1 195,-12.1 195,-14 196.667,-14 196.667,-15.6 198.333,-15.6 198.333,-19.6 200,-19.6 200,-23.5 201.667,-23.5 201.667,-32.5 203.333,-32.5 203.333,-46.2 205,-46.2 205,-67.4 206.667,-67.4 206.667,-91.3 208.333,-91.3 208.333,-100 210,-100 210,-75.8 211.667,-75.8 211.667,-45.4 213.333,-45.4 213.333,-27.3 215,-27.3 215,-16.9 216.667,-16.9 216.667,-11.3 218.333,-11.3 218.333,-7.92 220,-7.92 220,-6.24 221.667,-6.24 221.667,-4.57 223.333,-4.57 223.333,-3.66 225,-3.66 225,-3.75 226.667,-3.75 226.667,-3.45 228.333,-3.45 228.333,-2.59 230,-2.59 230,-3.21 231.667,-3.21 231.667,-2.44 233.333,-2.44 233.333,-2.02 235,-2.02 235,-2.1 236.667,-2.1 236.667,-1.94 238.333,-1.94 238.333,-2.1 240,-2.1 240,-2 241.667,-2 241.667,-1.82 243.333,-1.82 243.333,-1.7 245,-1.7 245,-1.66 246.667,-1.66 246.667,-1.87 248.333,-1.87 248.333,-1.73 250,-1.73 250,0\" style=\"fill:none; stroke:currentColor;\"/>\n",
       "</svg>\n",
       "</div>\n",
       "<div style=\"flex=grow:1;\">\n",
       "Regular(150, 0, 150, label='Axis 0')<br/>\n",
       "<hr style=\"margin-top:.2em; margin-bottom:.2em;\"/>\n",
       "Double() Σ=59705.0 <em>(63945.0 with flow)</em>\n",
       "\n",
       "</div>\n",
       "</div>\n",
       "</html>"
      ],
      "text/plain": [
       "Hist(Regular(150, 0, 150, label='Axis 0'), storage=Double()) # Sum: 59705.0 (63945.0 with flow)"
      ]
     },
     "execution_count": 44,
     "metadata": {},
     "output_type": "execute_result"
    }
   ],
   "source": [
    "quickplot(150, 0, 150, ak.flatten((mu1 + mu2 + e1 + e2).mass))"
   ]
  },
  {
   "cell_type": "markdown",
   "id": "53fb3906-6a2e-49cd-a062-624288876294",
   "metadata": {
    "jp-MarkdownHeadingCollapsed": true
   },
   "source": [
    "#### Solution 2"
   ]
  },
  {
   "cell_type": "markdown",
   "id": "e37bd111-b209-4848-a959-aa45615924f5",
   "metadata": {},
   "source": [
    "But if we don't need to address the dimuons and dielectrons directly (to perform cuts on them), we could just use [ak.cartesian](https://awkward-array.org/doc/main/reference/generated/ak.cartesian.html) to make quadruples directly."
   ]
  },
  {
   "cell_type": "code",
   "execution_count": 45,
   "id": "8fbfc468-0c7f-428c-8753-4a1144d9924f",
   "metadata": {},
   "outputs": [
    {
     "data": {
      "text/html": [
       "<pre>[[],\n",
       " [],\n",
       " [],\n",
       " [],\n",
       " [],\n",
       " [],\n",
       " [],\n",
       " [],\n",
       " [],\n",
       " [],\n",
       " ...,\n",
       " [({pt: 50.1, phi: 2.65, ...}, {pt: 37.2, ...}, {...}, {...})],\n",
       " [],\n",
       " [],\n",
       " [],\n",
       " [],\n",
       " [],\n",
       " [],\n",
       " [],\n",
       " []]\n",
       "---------------------------------------------------------------\n",
       "type: 299973 * var * (\n",
       "    Momentum4D[\n",
       "        pt: float32,\n",
       "        phi: float32,\n",
       "        eta: float32,\n",
       "        mass: float32,\n",
       "        charge: int32\n",
       "    ],\n",
       "    Momentum4D[\n",
       "        pt: float32,\n",
       "        phi: float32,\n",
       "        eta: float32,\n",
       "        mass: float32,\n",
       "        charge: int32\n",
       "    ],\n",
       "    Momentum4D[\n",
       "        pt: float32,\n",
       "        phi: float32,\n",
       "        eta: float32,\n",
       "        mass: float32,\n",
       "        charge: int32\n",
       "    ],\n",
       "    Momentum4D[\n",
       "        pt: float32,\n",
       "        phi: float32,\n",
       "        eta: float32,\n",
       "        mass: float32,\n",
       "        charge: int32\n",
       "    ]\n",
       ")</pre>"
      ],
      "text/plain": [
       "<Array [[], [], [], [], ..., [], [], [], []] type='299973 * var * (Momentum...'>"
      ]
     },
     "execution_count": 45,
     "metadata": {},
     "output_type": "execute_result"
    }
   ],
   "source": [
    "quadruples = ak.cartesian([muon_plus, muon_minus, electron_plus, electron_minus])\n",
    "quadruples"
   ]
  },
  {
   "cell_type": "markdown",
   "id": "1d2376d1-46cc-45c5-abd5-0c909569a8fb",
   "metadata": {},
   "source": [
    "Doing it this way, they're not nested, and one [ak.unzip](https://awkward-array.org/doc/main/reference/generated/ak.unzip.html) will pull them apart."
   ]
  },
  {
   "cell_type": "code",
   "execution_count": 46,
   "id": "40e7fdc9-775f-48bf-ba1a-740cc8433dc9",
   "metadata": {},
   "outputs": [],
   "source": [
    "mu1, mu2, e1, e2 = ak.unzip(quadruples)"
   ]
  },
  {
   "cell_type": "code",
   "execution_count": 47,
   "id": "ce34e3cd-b929-4d4a-8dd1-24cd69d67693",
   "metadata": {},
   "outputs": [
    {
     "data": {
      "text/html": [
       "<html>\n",
       "<div style=\"display:flex; align-items:center;\">\n",
       "<div style=\"width:290px;\">\n",
       "<svg xmlns=\"http://www.w3.org/2000/svg\" viewBox=\"-10 -105 270 120\">\n",
       "<line x1=\"-5\" y1=\"0\" x2=\"255\" y2=\"0\" style=\"fill:none;stroke-width:2;stroke:currentColor\"/>\n",
       "<text text-anchor=\"middle\" x=\"0\" y=\"15\" style=\"fill:currentColor;\">\n",
       "0\n",
       "</text>\n",
       "<text text-anchor=\"middle\" x=\"250\" y=\"15\" style=\"fill:currentColor;\">\n",
       "150\n",
       "</text>\n",
       "<text text-anchor=\"middle\" x=\"125.0\" y=\"15\" style=\"fill:currentColor;\">\n",
       "Axis 0\n",
       "</text>\n",
       "<polyline points=\"  0,0   0,-0 1.66667,-0 1.66667,-0 3.33333,-0 3.33333,-0   5,-0   5,-0 6.66667,-0 6.66667,-0 8.33333,-0 8.33333,-0  10,-0  10,-0 11.6667,-0 11.6667,-0.0526 13.3333,-0.0526 13.3333,-0.0175  15,-0.0175  15,-0.0175 16.6667,-0.0175 16.6667,-0.0526 18.3333,-0.0526 18.3333,-0.0526  20,-0.0526  20,-0.105 21.6667,-0.105 21.6667,-0.0526 23.3333,-0.0526 23.3333,-0.105  25,-0.105  25,-0.0526 26.6667,-0.0526 26.6667,-0.105 28.3333,-0.105 28.3333,-0.175  30,-0.175  30,-0.158 31.6667,-0.158 31.6667,-0.14 33.3333,-0.14 33.3333,-0.21  35,-0.21  35,-0.333 36.6667,-0.333 36.6667,-0.263 38.3333,-0.263 38.3333,-0.263  40,-0.263  40,-0.368 41.6667,-0.368 41.6667,-0.35 43.3333,-0.35 43.3333,-0.491  45,-0.491  45,-0.526 46.6667,-0.526 46.6667,-0.596 48.3333,-0.596 48.3333,-0.894  50,-0.894  50,-0.911 51.6667,-0.911 51.6667,-0.894 53.3333,-0.894 53.3333,-0.876  55,-0.876  55,-1.03 56.6667,-1.03 56.6667,-1.05 58.3333,-1.05 58.3333,-1.09  60,-1.09  60,-1.21 61.6667,-1.21 61.6667,-1.38 63.3333,-1.38 63.3333,-1.63  65,-1.63  65,-1.44 66.6667,-1.44 66.6667,-1.72 68.3333,-1.72 68.3333,-1.77  70,-1.77  70,-1.96 71.6667,-1.96 71.6667,-1.96 73.3333,-1.96 73.3333,-1.86  75,-1.86  75,-2.44 76.6667,-2.44 76.6667,-2.65 78.3333,-2.65 78.3333,-2.52  80,-2.52  80,-2.21 81.6667,-2.21 81.6667,-3.05 83.3333,-3.05 83.3333,-2.91  85,-2.91  85,-2.87 86.6667,-2.87 86.6667,-3.31 88.3333,-3.31 88.3333,-3.08  90,-3.08  90,-3.07 91.6667,-3.07 91.6667,-3.38 93.3333,-3.38 93.3333,-3.43  95,-3.43  95,-3.49 96.6667,-3.49 96.6667,-3.59 98.3333,-3.59 98.3333,-4.26 100,-4.26 100,-3.63 101.667,-3.63 101.667,-4.07 103.333,-4.07 103.333,-4.22 105,-4.22 105,-4.91 106.667,-4.91 106.667,-4.43 108.333,-4.43 108.333,-4.64 110,-4.64 110,-4.75 111.667,-4.75 111.667,-4.59 113.333,-4.59 113.333,-4.54 115,-4.54 115,-4.71 116.667,-4.71 116.667,-5.33 118.333,-5.33 118.333,-4.75 120,-4.75 120,-5.01 121.667,-5.01 121.667,-5.68 123.333,-5.68 123.333,-5.36 125,-5.36 125,-5.2 126.667,-5.2 126.667,-5.1 128.333,-5.1 128.333,-4.85 130,-4.85 130,-5.64 131.667,-5.64 131.667,-5.48 133.333,-5.48 133.333,-5.15 135,-5.15 135,-5.22 136.667,-5.22 136.667,-5.27 138.333,-5.27 138.333,-4.64 140,-4.64 140,-5.8 141.667,-5.8 141.667,-4.59 143.333,-4.59 143.333,-4.99 145,-4.99 145,-4.66 146.667,-4.66 146.667,-4.94 148.333,-4.94 148.333,-4.59 150,-4.59 150,-4.68 151.667,-4.68 151.667,-5.2 153.333,-5.2 153.333,-4.63 155,-4.63 155,-4.82 156.667,-4.82 156.667,-5.41 158.333,-5.41 158.333,-4.85 160,-4.85 160,-4.63 161.667,-4.63 161.667,-4.68 163.333,-4.68 163.333,-4.94 165,-4.94 165,-4.82 166.667,-4.82 166.667,-5.55 168.333,-5.55 168.333,-6.12 170,-6.12 170,-5.52 171.667,-5.52 171.667,-6.45 173.333,-6.45 173.333,-6.38 175,-6.38 175,-6.5 176.667,-6.5 176.667,-6.73 178.333,-6.73 178.333,-7.45 180,-7.45 180,-8.03 181.667,-8.03 181.667,-7.6 183.333,-7.6 183.333,-8.15 185,-8.15 185,-8.71 186.667,-8.71 186.667,-9.06 188.333,-9.06 188.333,-9.46 190,-9.46 190,-10 191.667,-10 191.667,-11.1 193.333,-11.1 193.333,-12.1 195,-12.1 195,-14 196.667,-14 196.667,-15.6 198.333,-15.6 198.333,-19.6 200,-19.6 200,-23.5 201.667,-23.5 201.667,-32.5 203.333,-32.5 203.333,-46.2 205,-46.2 205,-67.4 206.667,-67.4 206.667,-91.3 208.333,-91.3 208.333,-100 210,-100 210,-75.8 211.667,-75.8 211.667,-45.4 213.333,-45.4 213.333,-27.3 215,-27.3 215,-16.9 216.667,-16.9 216.667,-11.3 218.333,-11.3 218.333,-7.92 220,-7.92 220,-6.24 221.667,-6.24 221.667,-4.57 223.333,-4.57 223.333,-3.66 225,-3.66 225,-3.75 226.667,-3.75 226.667,-3.45 228.333,-3.45 228.333,-2.59 230,-2.59 230,-3.21 231.667,-3.21 231.667,-2.44 233.333,-2.44 233.333,-2.02 235,-2.02 235,-2.1 236.667,-2.1 236.667,-1.94 238.333,-1.94 238.333,-2.1 240,-2.1 240,-2 241.667,-2 241.667,-1.82 243.333,-1.82 243.333,-1.7 245,-1.7 245,-1.66 246.667,-1.66 246.667,-1.87 248.333,-1.87 248.333,-1.73 250,-1.73 250,0\" style=\"fill:none; stroke:currentColor;\"/>\n",
       "</svg>\n",
       "</div>\n",
       "<div style=\"flex=grow:1;\">\n",
       "Regular(150, 0, 150, label='Axis 0')<br/>\n",
       "<hr style=\"margin-top:.2em; margin-bottom:.2em;\"/>\n",
       "Double() Σ=59705.0 <em>(63945.0 with flow)</em>\n",
       "\n",
       "</div>\n",
       "</div>\n",
       "</html>"
      ],
      "text/plain": [
       "Hist(Regular(150, 0, 150, label='Axis 0'), storage=Double()) # Sum: 59705.0 (63945.0 with flow)"
      ]
     },
     "execution_count": 47,
     "metadata": {},
     "output_type": "execute_result"
    }
   ],
   "source": [
    "quickplot(150, 0, 150, ak.flatten((mu1 + mu2 + e1 + e2).mass))"
   ]
  },
  {
   "cell_type": "markdown",
   "id": "f66fb5c7-6d37-43b5-8eaa-3bc807e76c98",
   "metadata": {},
   "source": [
    "<br><br><br>"
   ]
  },
  {
   "cell_type": "markdown",
   "id": "7592abd7-93b2-40a6-aca8-27f8e0e4772e",
   "metadata": {
    "jp-MarkdownHeadingCollapsed": true
   },
   "source": [
    "### Awkward puzzle 8"
   ]
  },
  {
   "cell_type": "markdown",
   "id": "a844600e-f4ae-426a-a8dd-cf1cc36200b3",
   "metadata": {
    "jp-MarkdownHeadingCollapsed": true
   },
   "source": [
    "#### Solution"
   ]
  },
  {
   "cell_type": "code",
   "execution_count": 48,
   "id": "28b0fa3d-a802-4ef4-9b95-fa998eda5e5f",
   "metadata": {},
   "outputs": [],
   "source": [
    "muon_pairs = ak.cartesian([muon_plus, muon_minus])\n",
    "\n",
    "pairs_of_muon_pairs = ak.combinations(muon_pairs, 2)\n",
    "\n",
    "mu1 = pairs_of_muon_pairs[\"0\"][\"0\"]\n",
    "mu2 = pairs_of_muon_pairs[\"0\"][\"1\"]\n",
    "mu3 = pairs_of_muon_pairs[\"1\"][\"0\"]\n",
    "mu4 = pairs_of_muon_pairs[\"1\"][\"1\"]"
   ]
  },
  {
   "cell_type": "code",
   "execution_count": 49,
   "id": "12f2f1bb-a8fb-4e74-bdbb-38a816ad6a38",
   "metadata": {},
   "outputs": [
    {
     "data": {
      "text/html": [
       "<html>\n",
       "<div style=\"display:flex; align-items:center;\">\n",
       "<div style=\"width:290px;\">\n",
       "<svg xmlns=\"http://www.w3.org/2000/svg\" viewBox=\"-10 -105 270 120\">\n",
       "<line x1=\"-5\" y1=\"0\" x2=\"255\" y2=\"0\" style=\"fill:none;stroke-width:2;stroke:currentColor\"/>\n",
       "<text text-anchor=\"middle\" x=\"0\" y=\"15\" style=\"fill:currentColor;\">\n",
       "0\n",
       "</text>\n",
       "<text text-anchor=\"middle\" x=\"250\" y=\"15\" style=\"fill:currentColor;\">\n",
       "150\n",
       "</text>\n",
       "<text text-anchor=\"middle\" x=\"125.0\" y=\"15\" style=\"fill:currentColor;\">\n",
       "Axis 0\n",
       "</text>\n",
       "<polyline points=\"  0,0   0,-2.16 1.66667,-2.16 1.66667,-16.8 3.33333,-16.8 3.33333,-24.3   5,-24.3   5,-18.6 6.66667,-18.6 6.66667,-13 8.33333,-13 8.33333,-11.7  10,-11.7  10,-7.82 11.6667,-7.82 11.6667,-6.79 13.3333,-6.79 13.3333,-4.47  15,-4.47  15,-3.21 16.6667,-3.21 16.6667,-3.6 18.3333,-3.6 18.3333,-4.43  20,-4.43  20,-3.86 21.6667,-3.86 21.6667,-3.52 23.3333,-3.52 23.3333,-3.58  25,-3.58  25,-3.58 26.6667,-3.58 26.6667,-3.67 28.3333,-3.67 28.3333,-4.3  30,-4.3  30,-4.56 31.6667,-4.56 31.6667,-4.92 33.3333,-4.92 33.3333,-4.73  35,-4.73  35,-5.41 36.6667,-5.41 36.6667,-5.9 38.3333,-5.9 38.3333,-5.97  40,-5.97  40,-6.12 41.6667,-6.12 41.6667,-6.59 43.3333,-6.59 43.3333,-6.62  45,-6.62  45,-7.19 46.6667,-7.19 46.6667,-7.48 48.3333,-7.48 48.3333,-7.89  50,-7.89  50,-8.23 51.6667,-8.23 51.6667,-8.39 53.3333,-8.39 53.3333,-9.16  55,-9.16  55,-9.49 56.6667,-9.49 56.6667,-10.8 58.3333,-10.8 58.3333,-10.3  60,-10.3  60,-11 61.6667,-11 61.6667,-11.2 63.3333,-11.2 63.3333,-11.2  65,-11.2  65,-11.8 66.6667,-11.8 66.6667,-12.2 68.3333,-12.2 68.3333,-13.8  70,-13.8  70,-13.5 71.6667,-13.5 71.6667,-13.8 73.3333,-13.8 73.3333,-14.6  75,-14.6  75,-14.4 76.6667,-14.4 76.6667,-14.6 78.3333,-14.6 78.3333,-14.5  80,-14.5  80,-15.2 81.6667,-15.2 81.6667,-15.4 83.3333,-15.4 83.3333,-15.2  85,-15.2  85,-16.1 86.6667,-16.1 86.6667,-16.4 88.3333,-16.4 88.3333,-15.4  90,-15.4  90,-16.5 91.6667,-16.5 91.6667,-16.7 93.3333,-16.7 93.3333,-15.3  95,-15.3  95,-16 96.6667,-16 96.6667,-16.8 98.3333,-16.8 98.3333,-16.7 100,-16.7 100,-17.1 101.667,-17.1 101.667,-16.5 103.333,-16.5 103.333,-16.6 105,-16.6 105,-17 106.667,-17 106.667,-18 108.333,-18 108.333,-17.4 110,-17.4 110,-16.8 111.667,-16.8 111.667,-17 113.333,-17 113.333,-17.7 115,-17.7 115,-17.8 116.667,-17.8 116.667,-18.2 118.333,-18.2 118.333,-18.6 120,-18.6 120,-17.8 121.667,-17.8 121.667,-18.5 123.333,-18.5 123.333,-18.9 125,-18.9 125,-18.4 126.667,-18.4 126.667,-18.3 128.333,-18.3 128.333,-18.9 130,-18.9 130,-18.9 131.667,-18.9 131.667,-18 133.333,-18 133.333,-18.2 135,-18.2 135,-18.3 136.667,-18.3 136.667,-17.2 138.333,-17.2 138.333,-17.7 140,-17.7 140,-18.2 141.667,-18.2 141.667,-17 143.333,-17 143.333,-16.3 145,-16.3 145,-18 146.667,-18 146.667,-16.6 148.333,-16.6 148.333,-16.7 150,-16.7 150,-16.3 151.667,-16.3 151.667,-14.9 153.333,-14.9 153.333,-14.7 155,-14.7 155,-14.4 156.667,-14.4 156.667,-14.3 158.333,-14.3 158.333,-14.2 160,-14.2 160,-14.3 161.667,-14.3 161.667,-13.9 163.333,-13.9 163.333,-12.8 165,-12.8 165,-13.1 166.667,-13.1 166.667,-13.3 168.333,-13.3 168.333,-14.3 170,-14.3 170,-14.3 171.667,-14.3 171.667,-13 173.333,-13 173.333,-13.5 175,-13.5 175,-13.4 176.667,-13.4 176.667,-12.8 178.333,-12.8 178.333,-13.4 180,-13.4 180,-14 181.667,-14 181.667,-13.3 183.333,-13.3 183.333,-13.7 185,-13.7 185,-14.5 186.667,-14.5 186.667,-13.6 188.333,-13.6 188.333,-13.5 190,-13.5 190,-13.9 191.667,-13.9 191.667,-14.4 193.333,-14.4 193.333,-13.6 195,-13.6 195,-14.8 196.667,-14.8 196.667,-14.2 198.333,-14.2 198.333,-16.2 200,-16.2 200,-18 201.667,-18 201.667,-22.3 203.333,-22.3 203.333,-33.3 205,-33.3 205,-63.7 206.667,-63.7 206.667,-100 208.333,-100 208.333,-91.2 210,-91.2 210,-46.2 211.667,-46.2 211.667,-22.6 213.333,-22.6 213.333,-15 215,-15 215,-15 216.667,-15 216.667,-14.6 218.333,-14.6 218.333,-16.2 220,-16.2 220,-17.5 221.667,-17.5 221.667,-17.5 223.333,-17.5 223.333,-19.1 225,-19.1 225,-19.4 226.667,-19.4 226.667,-19.4 228.333,-19.4 228.333,-18.1 230,-18.1 230,-18.7 231.667,-18.7 231.667,-19.3 233.333,-19.3 233.333,-19.4 235,-19.4 235,-18.4 236.667,-18.4 236.667,-19.2 238.333,-19.2 238.333,-18.2 240,-18.2 240,-17.3 241.667,-17.3 241.667,-16.7 243.333,-16.7 243.333,-16.5 245,-16.5 245,-16.5 246.667,-16.5 246.667,-15.3 248.333,-15.3 248.333,-14.2 250,-14.2 250,0\" style=\"fill:none; stroke:currentColor;\"/>\n",
       "</svg>\n",
       "</div>\n",
       "<div style=\"flex=grow:1;\">\n",
       "Regular(150, 0, 150, label='Axis 0')<br/>\n",
       "<hr style=\"margin-top:.2em; margin-bottom:.2em;\"/>\n",
       "Double() Σ=292303.0 <em>(314907.0 with flow)</em>\n",
       "\n",
       "</div>\n",
       "</div>\n",
       "</html>"
      ],
      "text/plain": [
       "Hist(Regular(150, 0, 150, label='Axis 0'), storage=Double()) # Sum: 292303.0 (314907.0 with flow)"
      ]
     },
     "execution_count": 49,
     "metadata": {},
     "output_type": "execute_result"
    }
   ],
   "source": [
    "quickplot(150, 0, 150, ak.flatten((mu1 + mu2 + mu3 + mu4).mass))"
   ]
  },
  {
   "cell_type": "markdown",
   "id": "196f8799-98cc-476f-970f-3b3eb62ef14a",
   "metadata": {},
   "source": [
    "<br><br><br>"
   ]
  },
  {
   "cell_type": "markdown",
   "id": "3ea46f81-a3b9-45ad-abd2-661b7067d720",
   "metadata": {
    "jp-MarkdownHeadingCollapsed": true
   },
   "source": [
    "### Awkward puzzle 9"
   ]
  },
  {
   "cell_type": "code",
   "execution_count": 50,
   "id": "4f224ee0-e914-4808-b1be-920ef31af926",
   "metadata": {},
   "outputs": [],
   "source": [
    "EVENT = 0\n",
    "PARTICLE = 1\n",
    "PARTICLE2 = 2"
   ]
  },
  {
   "cell_type": "markdown",
   "id": "7b3ded56-0f29-4ddc-8830-0f2804d25263",
   "metadata": {
    "jp-MarkdownHeadingCollapsed": true
   },
   "source": [
    "#### Solution"
   ]
  },
  {
   "cell_type": "code",
   "execution_count": 51,
   "id": "0a1dc3f3-797b-4422-a211-db3f20f7ede1",
   "metadata": {},
   "outputs": [],
   "source": [
    "e_mu_pairs = ak.cartesian([electrons, muons], nested=True)\n",
    "e_grouped, mu_grouped = ak.unzip(e_mu_pairs)\n",
    "deltaR = e_grouped.deltaR(mu_grouped)"
   ]
  },
  {
   "cell_type": "code",
   "execution_count": 52,
   "id": "1f12be20-5620-4405-a0d6-d83e7cc490b5",
   "metadata": {},
   "outputs": [
    {
     "data": {
      "text/html": [
       "<pre>[[],\n",
       " [None, None, None, None],\n",
       " [None, None],\n",
       " [{pt: 23.5, phi: -0.307, eta: -0.248, mass: 0.106, charge: -1}],\n",
       " [None, None, None, None],\n",
       " [{pt: 47, phi: -1.15, eta: -0.119, mass: 0.106, charge: 1}],\n",
       " [{pt: 4.45, phi: 1.12, eta: -0.986, mass: 0.106, charge: 1}],\n",
       " [None],\n",
       " [None, None, None, None],\n",
       " [],\n",
       " ...,\n",
       " [{pt: 37.2, phi: -0.875, eta: 1.1, mass: 0.106, charge: -1}, {...}],\n",
       " [{pt: 24, phi: 1.38, eta: 0.421, mass: 0.106, charge: -1}],\n",
       " [],\n",
       " [None, None, None],\n",
       " [],\n",
       " [{pt: 43.1, phi: 2.27, eta: -0.162, mass: 0.106, charge: -1}],\n",
       " [],\n",
       " [None, None],\n",
       " [None, None]]\n",
       "---------------------------------------------------------------------\n",
       "type: 299973 * var * ?Momentum4D[\n",
       "    pt: float32,\n",
       "    phi: float32,\n",
       "    eta: float32,\n",
       "    mass: float32,\n",
       "    charge: int32\n",
       "]</pre>"
      ],
      "text/plain": [
       "<MomentumArray4D [[], [None, ...], ..., [None, None]] type='299973 * var * ...'>"
      ]
     },
     "execution_count": 52,
     "metadata": {},
     "output_type": "execute_result"
    }
   ],
   "source": [
    "mu_grouped[ak.argmin(deltaR, axis=PARTICLE2, keepdims=True)][:, :, 0]"
   ]
  }
 ],
 "metadata": {
  "kernelspec": {
   "display_name": "Python 3 (ipykernel)",
   "language": "python",
   "name": "python3"
  },
  "language_info": {
   "codemirror_mode": {
    "name": "ipython",
    "version": 3
   },
   "file_extension": ".py",
   "mimetype": "text/x-python",
   "name": "python",
   "nbconvert_exporter": "python",
   "pygments_lexer": "ipython3",
   "version": "3.13.3"
  }
 },
 "nbformat": 4,
 "nbformat_minor": 5
}
